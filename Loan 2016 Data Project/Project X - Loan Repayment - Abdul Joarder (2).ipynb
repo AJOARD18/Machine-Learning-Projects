{
 "cells": [
  {
   "cell_type": "markdown",
   "id": "768017bc",
   "metadata": {},
   "source": [
    "## Loan Repayment 2016 - Predictive Modelling"
   ]
  },
  {
   "cell_type": "markdown",
   "id": "5beedbfe",
   "metadata": {},
   "source": [
    "### Importing Libraries"
   ]
  },
  {
   "cell_type": "code",
   "execution_count": 1,
   "id": "bbb5b465",
   "metadata": {
    "ExecuteTime": {
     "end_time": "2022-11-29T11:38:57.603951Z",
     "start_time": "2022-11-29T11:38:56.124436Z"
    }
   },
   "outputs": [],
   "source": [
    "import pandas as pd\n",
    "import numpy as np\n",
    "import seaborn as sns\n",
    "from scipy import stats\n",
    "import seaborn as sns\n",
    "from sklearn.ensemble import RandomForestClassifier\n",
    "from sklearn.metrics import classification_report, confusion_matrix\n",
    "from sklearn.tree import plot_tree\n",
    "from sklearn import tree\n",
    "from sklearn.model_selection import train_test_split\n",
    "from sklearn.preprocessing import StandardScaler\n",
    "import matplotlib.pyplot as plt\n",
    "%matplotlib inline\n",
    "\n",
    "from sklearn.metrics import f1_score\n",
    "from sklearn.metrics import accuracy_score\n",
    "from sklearn.neighbors import KNeighborsClassifier\n",
    "from sklearn.ensemble import RandomForestClassifier\n",
    "from sklearn.metrics import classification_report, confusion_matrix\n",
    "from sklearn.tree import plot_tree\n",
    "from sklearn import tree\n",
    "from sklearn.model_selection import train_test_split\n",
    "from sklearn.linear_model import LogisticRegression\n",
    "from sklearn.tree import DecisionTreeClassifier\n",
    "from sklearn.ensemble import RandomForestClassifier \n",
    "import matplotlib.pyplot as plt\n",
    "%matplotlib inline "
   ]
  },
  {
   "cell_type": "code",
   "execution_count": 2,
   "id": "3b1bc507",
   "metadata": {
    "ExecuteTime": {
     "end_time": "2022-11-29T11:38:57.619407Z",
     "start_time": "2022-11-29T11:38:57.605796Z"
    }
   },
   "outputs": [],
   "source": [
    "#Importing the dataset \n",
    "df = pd.read_csv(\"Loan payments data OG plus two cols.csv\") "
   ]
  },
  {
   "cell_type": "code",
   "execution_count": 3,
   "id": "617a954f",
   "metadata": {
    "ExecuteTime": {
     "end_time": "2022-11-29T11:38:57.650362Z",
     "start_time": "2022-11-29T11:38:57.621252Z"
    }
   },
   "outputs": [
    {
     "data": {
      "text/html": [
       "<div>\n",
       "<style scoped>\n",
       "    .dataframe tbody tr th:only-of-type {\n",
       "        vertical-align: middle;\n",
       "    }\n",
       "\n",
       "    .dataframe tbody tr th {\n",
       "        vertical-align: top;\n",
       "    }\n",
       "\n",
       "    .dataframe thead th {\n",
       "        text-align: right;\n",
       "    }\n",
       "</style>\n",
       "<table border=\"1\" class=\"dataframe\">\n",
       "  <thead>\n",
       "    <tr style=\"text-align: right;\">\n",
       "      <th></th>\n",
       "      <th>Loan_ID</th>\n",
       "      <th>loan_status</th>\n",
       "      <th>Principal</th>\n",
       "      <th>terms</th>\n",
       "      <th>effective_date</th>\n",
       "      <th>paid_off_time_hours</th>\n",
       "      <th>paid_off_time_datename</th>\n",
       "      <th>due_date</th>\n",
       "      <th>paid_off_time</th>\n",
       "      <th>past_due_days</th>\n",
       "      <th>age</th>\n",
       "      <th>education</th>\n",
       "      <th>Gender</th>\n",
       "    </tr>\n",
       "  </thead>\n",
       "  <tbody>\n",
       "    <tr>\n",
       "      <th>0</th>\n",
       "      <td>xqd20166231</td>\n",
       "      <td>PAIDOFF</td>\n",
       "      <td>1000</td>\n",
       "      <td>30</td>\n",
       "      <td>09/08/2016</td>\n",
       "      <td>19:31</td>\n",
       "      <td>Wednesday</td>\n",
       "      <td>10/07/2016</td>\n",
       "      <td>9/14/2016 19:31</td>\n",
       "      <td>NaN</td>\n",
       "      <td>45</td>\n",
       "      <td>High School or Below</td>\n",
       "      <td>male</td>\n",
       "    </tr>\n",
       "    <tr>\n",
       "      <th>1</th>\n",
       "      <td>xqd20168902</td>\n",
       "      <td>PAIDOFF</td>\n",
       "      <td>1000</td>\n",
       "      <td>30</td>\n",
       "      <td>09/08/2016</td>\n",
       "      <td>09:00:00</td>\n",
       "      <td>Friday</td>\n",
       "      <td>10/07/2016</td>\n",
       "      <td>10/07/2016 09:00</td>\n",
       "      <td>NaN</td>\n",
       "      <td>50</td>\n",
       "      <td>Bechalor</td>\n",
       "      <td>female</td>\n",
       "    </tr>\n",
       "    <tr>\n",
       "      <th>2</th>\n",
       "      <td>xqd20160003</td>\n",
       "      <td>PAIDOFF</td>\n",
       "      <td>1000</td>\n",
       "      <td>30</td>\n",
       "      <td>09/08/2016</td>\n",
       "      <td>16:58</td>\n",
       "      <td>Sunday</td>\n",
       "      <td>10/07/2016</td>\n",
       "      <td>9/25/2016 16:58</td>\n",
       "      <td>NaN</td>\n",
       "      <td>33</td>\n",
       "      <td>Bechalor</td>\n",
       "      <td>female</td>\n",
       "    </tr>\n",
       "    <tr>\n",
       "      <th>3</th>\n",
       "      <td>xqd20160004</td>\n",
       "      <td>PAIDOFF</td>\n",
       "      <td>1000</td>\n",
       "      <td>15</td>\n",
       "      <td>09/08/2016</td>\n",
       "      <td>20:00</td>\n",
       "      <td>Thursday</td>\n",
       "      <td>9/22/2016</td>\n",
       "      <td>9/22/2016 20:00</td>\n",
       "      <td>NaN</td>\n",
       "      <td>27</td>\n",
       "      <td>college</td>\n",
       "      <td>male</td>\n",
       "    </tr>\n",
       "    <tr>\n",
       "      <th>4</th>\n",
       "      <td>xqd20160005</td>\n",
       "      <td>PAIDOFF</td>\n",
       "      <td>1000</td>\n",
       "      <td>30</td>\n",
       "      <td>09/09/2016</td>\n",
       "      <td>21:36</td>\n",
       "      <td>Friday</td>\n",
       "      <td>10/08/2016</td>\n",
       "      <td>9/23/2016 21:36</td>\n",
       "      <td>NaN</td>\n",
       "      <td>28</td>\n",
       "      <td>college</td>\n",
       "      <td>female</td>\n",
       "    </tr>\n",
       "  </tbody>\n",
       "</table>\n",
       "</div>"
      ],
      "text/plain": [
       "       Loan_ID loan_status  Principal  terms effective_date  \\\n",
       "0  xqd20166231     PAIDOFF       1000     30     09/08/2016   \n",
       "1  xqd20168902     PAIDOFF       1000     30     09/08/2016   \n",
       "2  xqd20160003     PAIDOFF       1000     30     09/08/2016   \n",
       "3  xqd20160004     PAIDOFF       1000     15     09/08/2016   \n",
       "4  xqd20160005     PAIDOFF       1000     30     09/09/2016   \n",
       "\n",
       "  paid_off_time_hours paid_off_time_datename    due_date     paid_off_time  \\\n",
       "0               19:31              Wednesday  10/07/2016   9/14/2016 19:31   \n",
       "1            09:00:00                 Friday  10/07/2016  10/07/2016 09:00   \n",
       "2               16:58                 Sunday  10/07/2016   9/25/2016 16:58   \n",
       "3               20:00               Thursday   9/22/2016   9/22/2016 20:00   \n",
       "4               21:36                 Friday  10/08/2016   9/23/2016 21:36   \n",
       "\n",
       "   past_due_days  age             education  Gender  \n",
       "0            NaN   45  High School or Below    male  \n",
       "1            NaN   50              Bechalor  female  \n",
       "2            NaN   33              Bechalor  female  \n",
       "3            NaN   27               college    male  \n",
       "4            NaN   28               college  female  "
      ]
     },
     "execution_count": 3,
     "metadata": {},
     "output_type": "execute_result"
    }
   ],
   "source": [
    "df.head() #viewing the first 5 rows "
   ]
  },
  {
   "cell_type": "code",
   "execution_count": 4,
   "id": "8d6cee02",
   "metadata": {
    "ExecuteTime": {
     "end_time": "2022-11-29T11:38:57.665962Z",
     "start_time": "2022-11-29T11:38:57.652886Z"
    }
   },
   "outputs": [],
   "source": [
    "#original paid off time column was parsed and dates and times were seperated in excel"
   ]
  },
  {
   "cell_type": "code",
   "execution_count": 5,
   "id": "d4ec5055",
   "metadata": {
    "ExecuteTime": {
     "end_time": "2022-11-29T11:38:57.682022Z",
     "start_time": "2022-11-29T11:38:57.668952Z"
    }
   },
   "outputs": [
    {
     "data": {
      "text/plain": [
       "(500, 13)"
      ]
     },
     "execution_count": 5,
     "metadata": {},
     "output_type": "execute_result"
    }
   ],
   "source": [
    "df.shape #13 columns\n",
    "         #500 rows  "
   ]
  },
  {
   "cell_type": "code",
   "execution_count": 6,
   "id": "b273b8e7",
   "metadata": {
    "ExecuteTime": {
     "end_time": "2022-11-29T11:38:57.697994Z",
     "start_time": "2022-11-29T11:38:57.682933Z"
    }
   },
   "outputs": [
    {
     "data": {
      "text/plain": [
       "Loan_ID                   500\n",
       "loan_status               500\n",
       "Principal                 500\n",
       "terms                     500\n",
       "effective_date            500\n",
       "paid_off_time_hours       400\n",
       "paid_off_time_datename    400\n",
       "due_date                  500\n",
       "paid_off_time             400\n",
       "past_due_days             200\n",
       "age                       500\n",
       "education                 500\n",
       "Gender                    500\n",
       "dtype: int64"
      ]
     },
     "execution_count": 6,
     "metadata": {},
     "output_type": "execute_result"
    }
   ],
   "source": [
    "df.count() #500 row inputs   "
   ]
  },
  {
   "cell_type": "code",
   "execution_count": 7,
   "id": "71c192aa",
   "metadata": {
    "ExecuteTime": {
     "end_time": "2022-11-29T11:38:57.713245Z",
     "start_time": "2022-11-29T11:38:57.699986Z"
    }
   },
   "outputs": [
    {
     "data": {
      "text/plain": [
       "<bound method DataFrame.info of          Loan_ID         loan_status  Principal  terms effective_date  \\\n",
       "0    xqd20166231             PAIDOFF       1000     30     09/08/2016   \n",
       "1    xqd20168902             PAIDOFF       1000     30     09/08/2016   \n",
       "2    xqd20160003             PAIDOFF       1000     30     09/08/2016   \n",
       "3    xqd20160004             PAIDOFF       1000     15     09/08/2016   \n",
       "4    xqd20160005             PAIDOFF       1000     30     09/09/2016   \n",
       "..           ...                 ...        ...    ...            ...   \n",
       "495  xqd20160496  COLLECTION_PAIDOFF       1000     30     09/12/2016   \n",
       "496  xqd20160497  COLLECTION_PAIDOFF       1000     15     09/12/2016   \n",
       "497  xqd20160498  COLLECTION_PAIDOFF        800     15     09/12/2016   \n",
       "498  xqd20160499  COLLECTION_PAIDOFF       1000     30     09/12/2016   \n",
       "499  xqd20160500  COLLECTION_PAIDOFF       1000     30     09/12/2016   \n",
       "\n",
       "    paid_off_time_hours paid_off_time_datename    due_date     paid_off_time  \\\n",
       "0                 19:31              Wednesday  10/07/2016   9/14/2016 19:31   \n",
       "1              09:00:00                 Friday  10/07/2016  10/07/2016 09:00   \n",
       "2                 16:58                 Sunday  10/07/2016   9/25/2016 16:58   \n",
       "3                 20:00               Thursday   9/22/2016   9/22/2016 20:00   \n",
       "4                 21:36                 Friday  10/08/2016   9/23/2016 21:36   \n",
       "..                  ...                    ...         ...               ...   \n",
       "495               19:08                 Friday  10/11/2016  10/14/2016 19:08   \n",
       "496            20:02:00                 Monday   9/26/2016  10/10/2016 20:02   \n",
       "497               11:49               Thursday   9/26/2016   9/29/2016 11:49   \n",
       "498            22:40:00                 Friday  11/10/2016  11/11/2016 22:40   \n",
       "499               11:58              Wednesday  10/11/2016  10/19/2016 11:58   \n",
       "\n",
       "     past_due_days  age             education  Gender  \n",
       "0              NaN   45  High School or Below    male  \n",
       "1              NaN   50              Bechalor  female  \n",
       "2              NaN   33              Bechalor  female  \n",
       "3              NaN   27               college    male  \n",
       "4              NaN   28               college  female  \n",
       "..             ...  ...                   ...     ...  \n",
       "495            3.0   28  High School or Below    male  \n",
       "496           14.0   26  High School or Below    male  \n",
       "497            3.0   30               college    male  \n",
       "498            1.0   38               college  female  \n",
       "499            8.0   28  High School or Below    male  \n",
       "\n",
       "[500 rows x 13 columns]>"
      ]
     },
     "execution_count": 7,
     "metadata": {},
     "output_type": "execute_result"
    }
   ],
   "source": [
    "df.info"
   ]
  },
  {
   "cell_type": "code",
   "execution_count": 8,
   "id": "bf0750d2",
   "metadata": {
    "ExecuteTime": {
     "end_time": "2022-11-29T11:38:57.728733Z",
     "start_time": "2022-11-29T11:38:57.714682Z"
    }
   },
   "outputs": [
    {
     "data": {
      "text/plain": [
       "Loan_ID                     0\n",
       "loan_status                 0\n",
       "Principal                   0\n",
       "terms                       0\n",
       "effective_date              0\n",
       "paid_off_time_hours       100\n",
       "paid_off_time_datename    100\n",
       "due_date                    0\n",
       "paid_off_time             100\n",
       "past_due_days             300\n",
       "age                         0\n",
       "education                   0\n",
       "Gender                      0\n",
       "dtype: int64"
      ]
     },
     "execution_count": 8,
     "metadata": {},
     "output_type": "execute_result"
    }
   ],
   "source": [
    "df.isnull().sum() \n",
    "#paid_off_time date and hours    100 nulls\n",
    "#past_due_date name and month    100 nulls\n",
    "#paid off time                   100nulls\n",
    "#300 in past due days - blanks could represent 0 days"
   ]
  },
  {
   "cell_type": "code",
   "execution_count": 9,
   "id": "91916ec6",
   "metadata": {
    "ExecuteTime": {
     "end_time": "2022-11-29T11:38:57.744704Z",
     "start_time": "2022-11-29T11:38:57.731887Z"
    }
   },
   "outputs": [
    {
     "data": {
      "text/html": [
       "<div>\n",
       "<style scoped>\n",
       "    .dataframe tbody tr th:only-of-type {\n",
       "        vertical-align: middle;\n",
       "    }\n",
       "\n",
       "    .dataframe tbody tr th {\n",
       "        vertical-align: top;\n",
       "    }\n",
       "\n",
       "    .dataframe thead th {\n",
       "        text-align: right;\n",
       "    }\n",
       "</style>\n",
       "<table border=\"1\" class=\"dataframe\">\n",
       "  <thead>\n",
       "    <tr style=\"text-align: right;\">\n",
       "      <th></th>\n",
       "      <th>Principal</th>\n",
       "      <th>terms</th>\n",
       "      <th>past_due_days</th>\n",
       "      <th>age</th>\n",
       "    </tr>\n",
       "  </thead>\n",
       "  <tbody>\n",
       "    <tr>\n",
       "      <th>count</th>\n",
       "      <td>500.000000</td>\n",
       "      <td>500.000000</td>\n",
       "      <td>200.00000</td>\n",
       "      <td>500.000000</td>\n",
       "    </tr>\n",
       "    <tr>\n",
       "      <th>mean</th>\n",
       "      <td>943.200000</td>\n",
       "      <td>22.824000</td>\n",
       "      <td>36.01000</td>\n",
       "      <td>31.116000</td>\n",
       "    </tr>\n",
       "    <tr>\n",
       "      <th>std</th>\n",
       "      <td>115.240274</td>\n",
       "      <td>8.000064</td>\n",
       "      <td>29.38088</td>\n",
       "      <td>6.084784</td>\n",
       "    </tr>\n",
       "    <tr>\n",
       "      <th>min</th>\n",
       "      <td>300.000000</td>\n",
       "      <td>7.000000</td>\n",
       "      <td>1.00000</td>\n",
       "      <td>18.000000</td>\n",
       "    </tr>\n",
       "    <tr>\n",
       "      <th>25%</th>\n",
       "      <td>1000.000000</td>\n",
       "      <td>15.000000</td>\n",
       "      <td>3.00000</td>\n",
       "      <td>27.000000</td>\n",
       "    </tr>\n",
       "    <tr>\n",
       "      <th>50%</th>\n",
       "      <td>1000.000000</td>\n",
       "      <td>30.000000</td>\n",
       "      <td>37.00000</td>\n",
       "      <td>30.000000</td>\n",
       "    </tr>\n",
       "    <tr>\n",
       "      <th>75%</th>\n",
       "      <td>1000.000000</td>\n",
       "      <td>30.000000</td>\n",
       "      <td>60.00000</td>\n",
       "      <td>35.000000</td>\n",
       "    </tr>\n",
       "    <tr>\n",
       "      <th>max</th>\n",
       "      <td>1000.000000</td>\n",
       "      <td>30.000000</td>\n",
       "      <td>76.00000</td>\n",
       "      <td>51.000000</td>\n",
       "    </tr>\n",
       "  </tbody>\n",
       "</table>\n",
       "</div>"
      ],
      "text/plain": [
       "         Principal       terms  past_due_days         age\n",
       "count   500.000000  500.000000      200.00000  500.000000\n",
       "mean    943.200000   22.824000       36.01000   31.116000\n",
       "std     115.240274    8.000064       29.38088    6.084784\n",
       "min     300.000000    7.000000        1.00000   18.000000\n",
       "25%    1000.000000   15.000000        3.00000   27.000000\n",
       "50%    1000.000000   30.000000       37.00000   30.000000\n",
       "75%    1000.000000   30.000000       60.00000   35.000000\n",
       "max    1000.000000   30.000000       76.00000   51.000000"
      ]
     },
     "execution_count": 9,
     "metadata": {},
     "output_type": "execute_result"
    }
   ],
   "source": [
    "df.describe() #mean age in the dataset is 31 years old\n",
    "              #mean repayment time is 24 days "
   ]
  },
  {
   "cell_type": "code",
   "execution_count": 10,
   "id": "2f7ffe92",
   "metadata": {
    "ExecuteTime": {
     "end_time": "2022-11-29T11:38:57.759444Z",
     "start_time": "2022-11-29T11:38:57.747362Z"
    }
   },
   "outputs": [
    {
     "data": {
      "text/plain": [
       "Loan_ID                    object\n",
       "loan_status                object\n",
       "Principal                   int64\n",
       "terms                       int64\n",
       "effective_date             object\n",
       "paid_off_time_hours        object\n",
       "paid_off_time_datename     object\n",
       "due_date                   object\n",
       "paid_off_time              object\n",
       "past_due_days             float64\n",
       "age                         int64\n",
       "education                  object\n",
       "Gender                     object\n",
       "dtype: object"
      ]
     },
     "execution_count": 10,
     "metadata": {},
     "output_type": "execute_result"
    }
   ],
   "source": [
    "df.dtypes #types of cols"
   ]
  },
  {
   "cell_type": "code",
   "execution_count": 11,
   "id": "0d7d7060",
   "metadata": {
    "ExecuteTime": {
     "end_time": "2022-11-29T11:38:57.775545Z",
     "start_time": "2022-11-29T11:38:57.761525Z"
    }
   },
   "outputs": [
    {
     "data": {
      "text/plain": [
       "Loan_ID                   500\n",
       "loan_status                 3\n",
       "Principal                   6\n",
       "terms                       3\n",
       "effective_date              7\n",
       "paid_off_time_hours       264\n",
       "paid_off_time_datename      7\n",
       "due_date                   25\n",
       "paid_off_time             320\n",
       "past_due_days              33\n",
       "age                        33\n",
       "education                   4\n",
       "Gender                      2\n",
       "dtype: int64"
      ]
     },
     "execution_count": 11,
     "metadata": {},
     "output_type": "execute_result"
    }
   ],
   "source": [
    "df.nunique() \n",
    "#loan_status         3\n",
    "#Principal           6\n",
    "#terms               3\n",
    "#effective_date      7\n",
    "#education           4 "
   ]
  },
  {
   "cell_type": "code",
   "execution_count": 12,
   "id": "8e33aa71",
   "metadata": {
    "ExecuteTime": {
     "end_time": "2022-11-29T11:38:57.791007Z",
     "start_time": "2022-11-29T11:38:57.776619Z"
    }
   },
   "outputs": [
    {
     "data": {
      "text/plain": [
       "array(['PAIDOFF', 'COLLECTION', 'COLLECTION_PAIDOFF'], dtype=object)"
      ]
     },
     "execution_count": 12,
     "metadata": {},
     "output_type": "execute_result"
    }
   ],
   "source": [
    "df['loan_status'].unique()\n",
    "#PAIDOFF', 'COLLECTION', 'COLLECTION_PAIDOFF' "
   ]
  },
  {
   "cell_type": "code",
   "execution_count": 13,
   "id": "d92b2fab",
   "metadata": {
    "ExecuteTime": {
     "end_time": "2022-11-29T11:38:57.806372Z",
     "start_time": "2022-11-29T11:38:57.793804Z"
    }
   },
   "outputs": [
    {
     "data": {
      "text/plain": [
       "array(['High School or Below', 'Bechalor', 'college', 'Master or Above'],\n",
       "      dtype=object)"
      ]
     },
     "execution_count": 13,
     "metadata": {},
     "output_type": "execute_result"
    }
   ],
   "source": [
    "df['education'].unique() \n",
    "#'High School or Below', 'Bechalor', 'college', 'Master or Above' "
   ]
  },
  {
   "cell_type": "code",
   "execution_count": 14,
   "id": "194983fc",
   "metadata": {
    "ExecuteTime": {
     "end_time": "2022-11-29T11:38:57.822194Z",
     "start_time": "2022-11-29T11:38:57.808064Z"
    }
   },
   "outputs": [
    {
     "data": {
      "text/html": [
       "<div>\n",
       "<style scoped>\n",
       "    .dataframe tbody tr th:only-of-type {\n",
       "        vertical-align: middle;\n",
       "    }\n",
       "\n",
       "    .dataframe tbody tr th {\n",
       "        vertical-align: top;\n",
       "    }\n",
       "\n",
       "    .dataframe thead th {\n",
       "        text-align: right;\n",
       "    }\n",
       "</style>\n",
       "<table border=\"1\" class=\"dataframe\">\n",
       "  <thead>\n",
       "    <tr style=\"text-align: right;\">\n",
       "      <th></th>\n",
       "      <th>Loan_ID</th>\n",
       "      <th>loan_status</th>\n",
       "      <th>Principal</th>\n",
       "      <th>terms</th>\n",
       "      <th>effective_date</th>\n",
       "      <th>paid_off_time_hours</th>\n",
       "      <th>paid_off_time_datename</th>\n",
       "      <th>due_date</th>\n",
       "      <th>paid_off_time</th>\n",
       "      <th>past_due_days</th>\n",
       "      <th>age</th>\n",
       "      <th>education</th>\n",
       "      <th>Gender</th>\n",
       "    </tr>\n",
       "  </thead>\n",
       "  <tbody>\n",
       "    <tr>\n",
       "      <th>0</th>\n",
       "      <td>xqd20166231</td>\n",
       "      <td>PAIDOFF</td>\n",
       "      <td>1000</td>\n",
       "      <td>30</td>\n",
       "      <td>09/08/2016</td>\n",
       "      <td>19:31</td>\n",
       "      <td>Wednesday</td>\n",
       "      <td>10/07/2016</td>\n",
       "      <td>9/14/2016 19:31</td>\n",
       "      <td>NaN</td>\n",
       "      <td>45</td>\n",
       "      <td>High School or Below</td>\n",
       "      <td>male</td>\n",
       "    </tr>\n",
       "    <tr>\n",
       "      <th>1</th>\n",
       "      <td>xqd20168902</td>\n",
       "      <td>PAIDOFF</td>\n",
       "      <td>1000</td>\n",
       "      <td>30</td>\n",
       "      <td>09/08/2016</td>\n",
       "      <td>09:00:00</td>\n",
       "      <td>Friday</td>\n",
       "      <td>10/07/2016</td>\n",
       "      <td>10/07/2016 09:00</td>\n",
       "      <td>NaN</td>\n",
       "      <td>50</td>\n",
       "      <td>Bechalor</td>\n",
       "      <td>female</td>\n",
       "    </tr>\n",
       "    <tr>\n",
       "      <th>2</th>\n",
       "      <td>xqd20160003</td>\n",
       "      <td>PAIDOFF</td>\n",
       "      <td>1000</td>\n",
       "      <td>30</td>\n",
       "      <td>09/08/2016</td>\n",
       "      <td>16:58</td>\n",
       "      <td>Sunday</td>\n",
       "      <td>10/07/2016</td>\n",
       "      <td>9/25/2016 16:58</td>\n",
       "      <td>NaN</td>\n",
       "      <td>33</td>\n",
       "      <td>Bechalor</td>\n",
       "      <td>female</td>\n",
       "    </tr>\n",
       "    <tr>\n",
       "      <th>3</th>\n",
       "      <td>xqd20160004</td>\n",
       "      <td>PAIDOFF</td>\n",
       "      <td>1000</td>\n",
       "      <td>15</td>\n",
       "      <td>09/08/2016</td>\n",
       "      <td>20:00</td>\n",
       "      <td>Thursday</td>\n",
       "      <td>9/22/2016</td>\n",
       "      <td>9/22/2016 20:00</td>\n",
       "      <td>NaN</td>\n",
       "      <td>27</td>\n",
       "      <td>college</td>\n",
       "      <td>male</td>\n",
       "    </tr>\n",
       "    <tr>\n",
       "      <th>4</th>\n",
       "      <td>xqd20160005</td>\n",
       "      <td>PAIDOFF</td>\n",
       "      <td>1000</td>\n",
       "      <td>30</td>\n",
       "      <td>09/09/2016</td>\n",
       "      <td>21:36</td>\n",
       "      <td>Friday</td>\n",
       "      <td>10/08/2016</td>\n",
       "      <td>9/23/2016 21:36</td>\n",
       "      <td>NaN</td>\n",
       "      <td>28</td>\n",
       "      <td>college</td>\n",
       "      <td>female</td>\n",
       "    </tr>\n",
       "  </tbody>\n",
       "</table>\n",
       "</div>"
      ],
      "text/plain": [
       "       Loan_ID loan_status  Principal  terms effective_date  \\\n",
       "0  xqd20166231     PAIDOFF       1000     30     09/08/2016   \n",
       "1  xqd20168902     PAIDOFF       1000     30     09/08/2016   \n",
       "2  xqd20160003     PAIDOFF       1000     30     09/08/2016   \n",
       "3  xqd20160004     PAIDOFF       1000     15     09/08/2016   \n",
       "4  xqd20160005     PAIDOFF       1000     30     09/09/2016   \n",
       "\n",
       "  paid_off_time_hours paid_off_time_datename    due_date     paid_off_time  \\\n",
       "0               19:31              Wednesday  10/07/2016   9/14/2016 19:31   \n",
       "1            09:00:00                 Friday  10/07/2016  10/07/2016 09:00   \n",
       "2               16:58                 Sunday  10/07/2016   9/25/2016 16:58   \n",
       "3               20:00               Thursday   9/22/2016   9/22/2016 20:00   \n",
       "4               21:36                 Friday  10/08/2016   9/23/2016 21:36   \n",
       "\n",
       "   past_due_days  age             education  Gender  \n",
       "0            NaN   45  High School or Below    male  \n",
       "1            NaN   50              Bechalor  female  \n",
       "2            NaN   33              Bechalor  female  \n",
       "3            NaN   27               college    male  \n",
       "4            NaN   28               college  female  "
      ]
     },
     "execution_count": 14,
     "metadata": {},
     "output_type": "execute_result"
    }
   ],
   "source": [
    "df.head() #Viewing the first 5 rows of the altered DF "
   ]
  },
  {
   "cell_type": "code",
   "execution_count": 15,
   "id": "99a477c0",
   "metadata": {
    "ExecuteTime": {
     "end_time": "2022-11-29T11:38:57.837733Z",
     "start_time": "2022-11-29T11:38:57.824038Z"
    }
   },
   "outputs": [],
   "source": [
    "df['past_due_days'].fillna(0, inplace=True)  \n",
    "#Replacing the NaN's with 0 in the dataframe\n",
    "#Assuming no input means 0 days taken to repay  "
   ]
  },
  {
   "cell_type": "code",
   "execution_count": 16,
   "id": "82d5abfb",
   "metadata": {
    "ExecuteTime": {
     "end_time": "2022-11-29T11:38:57.852869Z",
     "start_time": "2022-11-29T11:38:57.840057Z"
    }
   },
   "outputs": [],
   "source": [
    "#Paid off times days months nulls will be kept in the dataset as imputing may not be reflective / representative\n",
    "#May actually skew the data"
   ]
  },
  {
   "cell_type": "code",
   "execution_count": 17,
   "id": "330ab26a",
   "metadata": {
    "ExecuteTime": {
     "end_time": "2022-11-29T11:38:57.868490Z",
     "start_time": "2022-11-29T11:38:57.854695Z"
    }
   },
   "outputs": [
    {
     "data": {
      "text/html": [
       "<div>\n",
       "<style scoped>\n",
       "    .dataframe tbody tr th:only-of-type {\n",
       "        vertical-align: middle;\n",
       "    }\n",
       "\n",
       "    .dataframe tbody tr th {\n",
       "        vertical-align: top;\n",
       "    }\n",
       "\n",
       "    .dataframe thead th {\n",
       "        text-align: right;\n",
       "    }\n",
       "</style>\n",
       "<table border=\"1\" class=\"dataframe\">\n",
       "  <thead>\n",
       "    <tr style=\"text-align: right;\">\n",
       "      <th></th>\n",
       "      <th>Loan_ID</th>\n",
       "      <th>loan_status</th>\n",
       "      <th>Principal</th>\n",
       "      <th>terms</th>\n",
       "      <th>effective_date</th>\n",
       "      <th>paid_off_time_hours</th>\n",
       "      <th>paid_off_time_datename</th>\n",
       "      <th>due_date</th>\n",
       "      <th>paid_off_time</th>\n",
       "      <th>past_due_days</th>\n",
       "      <th>age</th>\n",
       "      <th>education</th>\n",
       "      <th>Gender</th>\n",
       "    </tr>\n",
       "  </thead>\n",
       "  <tbody>\n",
       "    <tr>\n",
       "      <th>0</th>\n",
       "      <td>xqd20166231</td>\n",
       "      <td>PAIDOFF</td>\n",
       "      <td>1000</td>\n",
       "      <td>30</td>\n",
       "      <td>09/08/2016</td>\n",
       "      <td>19:31</td>\n",
       "      <td>Wednesday</td>\n",
       "      <td>10/07/2016</td>\n",
       "      <td>9/14/2016 19:31</td>\n",
       "      <td>0.0</td>\n",
       "      <td>45</td>\n",
       "      <td>High School or Below</td>\n",
       "      <td>male</td>\n",
       "    </tr>\n",
       "    <tr>\n",
       "      <th>1</th>\n",
       "      <td>xqd20168902</td>\n",
       "      <td>PAIDOFF</td>\n",
       "      <td>1000</td>\n",
       "      <td>30</td>\n",
       "      <td>09/08/2016</td>\n",
       "      <td>09:00:00</td>\n",
       "      <td>Friday</td>\n",
       "      <td>10/07/2016</td>\n",
       "      <td>10/07/2016 09:00</td>\n",
       "      <td>0.0</td>\n",
       "      <td>50</td>\n",
       "      <td>Bechalor</td>\n",
       "      <td>female</td>\n",
       "    </tr>\n",
       "    <tr>\n",
       "      <th>2</th>\n",
       "      <td>xqd20160003</td>\n",
       "      <td>PAIDOFF</td>\n",
       "      <td>1000</td>\n",
       "      <td>30</td>\n",
       "      <td>09/08/2016</td>\n",
       "      <td>16:58</td>\n",
       "      <td>Sunday</td>\n",
       "      <td>10/07/2016</td>\n",
       "      <td>9/25/2016 16:58</td>\n",
       "      <td>0.0</td>\n",
       "      <td>33</td>\n",
       "      <td>Bechalor</td>\n",
       "      <td>female</td>\n",
       "    </tr>\n",
       "    <tr>\n",
       "      <th>3</th>\n",
       "      <td>xqd20160004</td>\n",
       "      <td>PAIDOFF</td>\n",
       "      <td>1000</td>\n",
       "      <td>15</td>\n",
       "      <td>09/08/2016</td>\n",
       "      <td>20:00</td>\n",
       "      <td>Thursday</td>\n",
       "      <td>9/22/2016</td>\n",
       "      <td>9/22/2016 20:00</td>\n",
       "      <td>0.0</td>\n",
       "      <td>27</td>\n",
       "      <td>college</td>\n",
       "      <td>male</td>\n",
       "    </tr>\n",
       "    <tr>\n",
       "      <th>4</th>\n",
       "      <td>xqd20160005</td>\n",
       "      <td>PAIDOFF</td>\n",
       "      <td>1000</td>\n",
       "      <td>30</td>\n",
       "      <td>09/09/2016</td>\n",
       "      <td>21:36</td>\n",
       "      <td>Friday</td>\n",
       "      <td>10/08/2016</td>\n",
       "      <td>9/23/2016 21:36</td>\n",
       "      <td>0.0</td>\n",
       "      <td>28</td>\n",
       "      <td>college</td>\n",
       "      <td>female</td>\n",
       "    </tr>\n",
       "  </tbody>\n",
       "</table>\n",
       "</div>"
      ],
      "text/plain": [
       "       Loan_ID loan_status  Principal  terms effective_date  \\\n",
       "0  xqd20166231     PAIDOFF       1000     30     09/08/2016   \n",
       "1  xqd20168902     PAIDOFF       1000     30     09/08/2016   \n",
       "2  xqd20160003     PAIDOFF       1000     30     09/08/2016   \n",
       "3  xqd20160004     PAIDOFF       1000     15     09/08/2016   \n",
       "4  xqd20160005     PAIDOFF       1000     30     09/09/2016   \n",
       "\n",
       "  paid_off_time_hours paid_off_time_datename    due_date     paid_off_time  \\\n",
       "0               19:31              Wednesday  10/07/2016   9/14/2016 19:31   \n",
       "1            09:00:00                 Friday  10/07/2016  10/07/2016 09:00   \n",
       "2               16:58                 Sunday  10/07/2016   9/25/2016 16:58   \n",
       "3               20:00               Thursday   9/22/2016   9/22/2016 20:00   \n",
       "4               21:36                 Friday  10/08/2016   9/23/2016 21:36   \n",
       "\n",
       "   past_due_days  age             education  Gender  \n",
       "0            0.0   45  High School or Below    male  \n",
       "1            0.0   50              Bechalor  female  \n",
       "2            0.0   33              Bechalor  female  \n",
       "3            0.0   27               college    male  \n",
       "4            0.0   28               college  female  "
      ]
     },
     "execution_count": 17,
     "metadata": {},
     "output_type": "execute_result"
    }
   ],
   "source": [
    "df.head() #viewing NaN alteration to zeros"
   ]
  },
  {
   "cell_type": "code",
   "execution_count": 18,
   "id": "1ad85540",
   "metadata": {
    "ExecuteTime": {
     "end_time": "2022-11-29T11:38:57.883958Z",
     "start_time": "2022-11-29T11:38:57.870428Z"
    }
   },
   "outputs": [],
   "source": [
    "df['due_date']= pd.to_datetime(df['due_date']) #fomatting to datetime "
   ]
  },
  {
   "cell_type": "code",
   "execution_count": 19,
   "id": "f5ee3ac4",
   "metadata": {
    "ExecuteTime": {
     "end_time": "2022-11-29T11:38:57.899425Z",
     "start_time": "2022-11-29T11:38:57.885458Z"
    }
   },
   "outputs": [],
   "source": [
    "#Altering the Date columns to have hours/days/months"
   ]
  },
  {
   "cell_type": "code",
   "execution_count": 20,
   "id": "6ea77353",
   "metadata": {
    "ExecuteTime": {
     "end_time": "2022-11-29T11:38:57.930610Z",
     "start_time": "2022-11-29T11:38:57.901117Z"
    }
   },
   "outputs": [
    {
     "data": {
      "text/html": [
       "<div>\n",
       "<style scoped>\n",
       "    .dataframe tbody tr th:only-of-type {\n",
       "        vertical-align: middle;\n",
       "    }\n",
       "\n",
       "    .dataframe tbody tr th {\n",
       "        vertical-align: top;\n",
       "    }\n",
       "\n",
       "    .dataframe thead th {\n",
       "        text-align: right;\n",
       "    }\n",
       "</style>\n",
       "<table border=\"1\" class=\"dataframe\">\n",
       "  <thead>\n",
       "    <tr style=\"text-align: right;\">\n",
       "      <th></th>\n",
       "      <th>Loan_ID</th>\n",
       "      <th>loan_status</th>\n",
       "      <th>Principal</th>\n",
       "      <th>terms</th>\n",
       "      <th>effective_date</th>\n",
       "      <th>paid_off_time_hours</th>\n",
       "      <th>paid_off_time_datename</th>\n",
       "      <th>due_date</th>\n",
       "      <th>paid_off_time</th>\n",
       "      <th>past_due_days</th>\n",
       "      <th>age</th>\n",
       "      <th>education</th>\n",
       "      <th>Gender</th>\n",
       "      <th>Due_Date_Day</th>\n",
       "    </tr>\n",
       "  </thead>\n",
       "  <tbody>\n",
       "    <tr>\n",
       "      <th>0</th>\n",
       "      <td>xqd20166231</td>\n",
       "      <td>PAIDOFF</td>\n",
       "      <td>1000</td>\n",
       "      <td>30</td>\n",
       "      <td>09/08/2016</td>\n",
       "      <td>19:31</td>\n",
       "      <td>Wednesday</td>\n",
       "      <td>2016-10-07</td>\n",
       "      <td>9/14/2016 19:31</td>\n",
       "      <td>0.0</td>\n",
       "      <td>45</td>\n",
       "      <td>High School or Below</td>\n",
       "      <td>male</td>\n",
       "      <td>Friday</td>\n",
       "    </tr>\n",
       "    <tr>\n",
       "      <th>1</th>\n",
       "      <td>xqd20168902</td>\n",
       "      <td>PAIDOFF</td>\n",
       "      <td>1000</td>\n",
       "      <td>30</td>\n",
       "      <td>09/08/2016</td>\n",
       "      <td>09:00:00</td>\n",
       "      <td>Friday</td>\n",
       "      <td>2016-10-07</td>\n",
       "      <td>10/07/2016 09:00</td>\n",
       "      <td>0.0</td>\n",
       "      <td>50</td>\n",
       "      <td>Bechalor</td>\n",
       "      <td>female</td>\n",
       "      <td>Friday</td>\n",
       "    </tr>\n",
       "    <tr>\n",
       "      <th>2</th>\n",
       "      <td>xqd20160003</td>\n",
       "      <td>PAIDOFF</td>\n",
       "      <td>1000</td>\n",
       "      <td>30</td>\n",
       "      <td>09/08/2016</td>\n",
       "      <td>16:58</td>\n",
       "      <td>Sunday</td>\n",
       "      <td>2016-10-07</td>\n",
       "      <td>9/25/2016 16:58</td>\n",
       "      <td>0.0</td>\n",
       "      <td>33</td>\n",
       "      <td>Bechalor</td>\n",
       "      <td>female</td>\n",
       "      <td>Friday</td>\n",
       "    </tr>\n",
       "    <tr>\n",
       "      <th>3</th>\n",
       "      <td>xqd20160004</td>\n",
       "      <td>PAIDOFF</td>\n",
       "      <td>1000</td>\n",
       "      <td>15</td>\n",
       "      <td>09/08/2016</td>\n",
       "      <td>20:00</td>\n",
       "      <td>Thursday</td>\n",
       "      <td>2016-09-22</td>\n",
       "      <td>9/22/2016 20:00</td>\n",
       "      <td>0.0</td>\n",
       "      <td>27</td>\n",
       "      <td>college</td>\n",
       "      <td>male</td>\n",
       "      <td>Thursday</td>\n",
       "    </tr>\n",
       "    <tr>\n",
       "      <th>4</th>\n",
       "      <td>xqd20160005</td>\n",
       "      <td>PAIDOFF</td>\n",
       "      <td>1000</td>\n",
       "      <td>30</td>\n",
       "      <td>09/09/2016</td>\n",
       "      <td>21:36</td>\n",
       "      <td>Friday</td>\n",
       "      <td>2016-10-08</td>\n",
       "      <td>9/23/2016 21:36</td>\n",
       "      <td>0.0</td>\n",
       "      <td>28</td>\n",
       "      <td>college</td>\n",
       "      <td>female</td>\n",
       "      <td>Saturday</td>\n",
       "    </tr>\n",
       "    <tr>\n",
       "      <th>...</th>\n",
       "      <td>...</td>\n",
       "      <td>...</td>\n",
       "      <td>...</td>\n",
       "      <td>...</td>\n",
       "      <td>...</td>\n",
       "      <td>...</td>\n",
       "      <td>...</td>\n",
       "      <td>...</td>\n",
       "      <td>...</td>\n",
       "      <td>...</td>\n",
       "      <td>...</td>\n",
       "      <td>...</td>\n",
       "      <td>...</td>\n",
       "      <td>...</td>\n",
       "    </tr>\n",
       "    <tr>\n",
       "      <th>495</th>\n",
       "      <td>xqd20160496</td>\n",
       "      <td>COLLECTION_PAIDOFF</td>\n",
       "      <td>1000</td>\n",
       "      <td>30</td>\n",
       "      <td>09/12/2016</td>\n",
       "      <td>19:08</td>\n",
       "      <td>Friday</td>\n",
       "      <td>2016-10-11</td>\n",
       "      <td>10/14/2016 19:08</td>\n",
       "      <td>3.0</td>\n",
       "      <td>28</td>\n",
       "      <td>High School or Below</td>\n",
       "      <td>male</td>\n",
       "      <td>Tuesday</td>\n",
       "    </tr>\n",
       "    <tr>\n",
       "      <th>496</th>\n",
       "      <td>xqd20160497</td>\n",
       "      <td>COLLECTION_PAIDOFF</td>\n",
       "      <td>1000</td>\n",
       "      <td>15</td>\n",
       "      <td>09/12/2016</td>\n",
       "      <td>20:02:00</td>\n",
       "      <td>Monday</td>\n",
       "      <td>2016-09-26</td>\n",
       "      <td>10/10/2016 20:02</td>\n",
       "      <td>14.0</td>\n",
       "      <td>26</td>\n",
       "      <td>High School or Below</td>\n",
       "      <td>male</td>\n",
       "      <td>Monday</td>\n",
       "    </tr>\n",
       "    <tr>\n",
       "      <th>497</th>\n",
       "      <td>xqd20160498</td>\n",
       "      <td>COLLECTION_PAIDOFF</td>\n",
       "      <td>800</td>\n",
       "      <td>15</td>\n",
       "      <td>09/12/2016</td>\n",
       "      <td>11:49</td>\n",
       "      <td>Thursday</td>\n",
       "      <td>2016-09-26</td>\n",
       "      <td>9/29/2016 11:49</td>\n",
       "      <td>3.0</td>\n",
       "      <td>30</td>\n",
       "      <td>college</td>\n",
       "      <td>male</td>\n",
       "      <td>Monday</td>\n",
       "    </tr>\n",
       "    <tr>\n",
       "      <th>498</th>\n",
       "      <td>xqd20160499</td>\n",
       "      <td>COLLECTION_PAIDOFF</td>\n",
       "      <td>1000</td>\n",
       "      <td>30</td>\n",
       "      <td>09/12/2016</td>\n",
       "      <td>22:40:00</td>\n",
       "      <td>Friday</td>\n",
       "      <td>2016-11-10</td>\n",
       "      <td>11/11/2016 22:40</td>\n",
       "      <td>1.0</td>\n",
       "      <td>38</td>\n",
       "      <td>college</td>\n",
       "      <td>female</td>\n",
       "      <td>Thursday</td>\n",
       "    </tr>\n",
       "    <tr>\n",
       "      <th>499</th>\n",
       "      <td>xqd20160500</td>\n",
       "      <td>COLLECTION_PAIDOFF</td>\n",
       "      <td>1000</td>\n",
       "      <td>30</td>\n",
       "      <td>09/12/2016</td>\n",
       "      <td>11:58</td>\n",
       "      <td>Wednesday</td>\n",
       "      <td>2016-10-11</td>\n",
       "      <td>10/19/2016 11:58</td>\n",
       "      <td>8.0</td>\n",
       "      <td>28</td>\n",
       "      <td>High School or Below</td>\n",
       "      <td>male</td>\n",
       "      <td>Tuesday</td>\n",
       "    </tr>\n",
       "  </tbody>\n",
       "</table>\n",
       "<p>500 rows × 14 columns</p>\n",
       "</div>"
      ],
      "text/plain": [
       "         Loan_ID         loan_status  Principal  terms effective_date  \\\n",
       "0    xqd20166231             PAIDOFF       1000     30     09/08/2016   \n",
       "1    xqd20168902             PAIDOFF       1000     30     09/08/2016   \n",
       "2    xqd20160003             PAIDOFF       1000     30     09/08/2016   \n",
       "3    xqd20160004             PAIDOFF       1000     15     09/08/2016   \n",
       "4    xqd20160005             PAIDOFF       1000     30     09/09/2016   \n",
       "..           ...                 ...        ...    ...            ...   \n",
       "495  xqd20160496  COLLECTION_PAIDOFF       1000     30     09/12/2016   \n",
       "496  xqd20160497  COLLECTION_PAIDOFF       1000     15     09/12/2016   \n",
       "497  xqd20160498  COLLECTION_PAIDOFF        800     15     09/12/2016   \n",
       "498  xqd20160499  COLLECTION_PAIDOFF       1000     30     09/12/2016   \n",
       "499  xqd20160500  COLLECTION_PAIDOFF       1000     30     09/12/2016   \n",
       "\n",
       "    paid_off_time_hours paid_off_time_datename   due_date     paid_off_time  \\\n",
       "0                 19:31              Wednesday 2016-10-07   9/14/2016 19:31   \n",
       "1              09:00:00                 Friday 2016-10-07  10/07/2016 09:00   \n",
       "2                 16:58                 Sunday 2016-10-07   9/25/2016 16:58   \n",
       "3                 20:00               Thursday 2016-09-22   9/22/2016 20:00   \n",
       "4                 21:36                 Friday 2016-10-08   9/23/2016 21:36   \n",
       "..                  ...                    ...        ...               ...   \n",
       "495               19:08                 Friday 2016-10-11  10/14/2016 19:08   \n",
       "496            20:02:00                 Monday 2016-09-26  10/10/2016 20:02   \n",
       "497               11:49               Thursday 2016-09-26   9/29/2016 11:49   \n",
       "498            22:40:00                 Friday 2016-11-10  11/11/2016 22:40   \n",
       "499               11:58              Wednesday 2016-10-11  10/19/2016 11:58   \n",
       "\n",
       "     past_due_days  age             education  Gender Due_Date_Day  \n",
       "0              0.0   45  High School or Below    male       Friday  \n",
       "1              0.0   50              Bechalor  female       Friday  \n",
       "2              0.0   33              Bechalor  female       Friday  \n",
       "3              0.0   27               college    male     Thursday  \n",
       "4              0.0   28               college  female     Saturday  \n",
       "..             ...  ...                   ...     ...          ...  \n",
       "495            3.0   28  High School or Below    male      Tuesday  \n",
       "496           14.0   26  High School or Below    male       Monday  \n",
       "497            3.0   30               college    male       Monday  \n",
       "498            1.0   38               college  female     Thursday  \n",
       "499            8.0   28  High School or Below    male      Tuesday  \n",
       "\n",
       "[500 rows x 14 columns]"
      ]
     },
     "execution_count": 20,
     "metadata": {},
     "output_type": "execute_result"
    }
   ],
   "source": [
    "#Altering the Date columns to have weekday name\n",
    "df['Due_Date_Day'] = df['due_date'].dt.day_name() \n",
    "df  "
   ]
  },
  {
   "cell_type": "code",
   "execution_count": 21,
   "id": "f1b7dd9f",
   "metadata": {
    "ExecuteTime": {
     "end_time": "2022-11-29T11:38:57.976544Z",
     "start_time": "2022-11-29T11:38:57.932604Z"
    }
   },
   "outputs": [],
   "source": [
    "#formatting\n",
    "df['paid_off_time']= pd.to_datetime(df['paid_off_time']) #formatting to datetime so it is useable "
   ]
  },
  {
   "cell_type": "code",
   "execution_count": 22,
   "id": "28341410",
   "metadata": {
    "ExecuteTime": {
     "end_time": "2022-11-29T11:38:58.008522Z",
     "start_time": "2022-11-29T11:38:57.977536Z"
    }
   },
   "outputs": [
    {
     "data": {
      "text/html": [
       "<div>\n",
       "<style scoped>\n",
       "    .dataframe tbody tr th:only-of-type {\n",
       "        vertical-align: middle;\n",
       "    }\n",
       "\n",
       "    .dataframe tbody tr th {\n",
       "        vertical-align: top;\n",
       "    }\n",
       "\n",
       "    .dataframe thead th {\n",
       "        text-align: right;\n",
       "    }\n",
       "</style>\n",
       "<table border=\"1\" class=\"dataframe\">\n",
       "  <thead>\n",
       "    <tr style=\"text-align: right;\">\n",
       "      <th></th>\n",
       "      <th>Loan_ID</th>\n",
       "      <th>loan_status</th>\n",
       "      <th>Principal</th>\n",
       "      <th>terms</th>\n",
       "      <th>effective_date</th>\n",
       "      <th>paid_off_time_hours</th>\n",
       "      <th>paid_off_time_datename</th>\n",
       "      <th>due_date</th>\n",
       "      <th>paid_off_time</th>\n",
       "      <th>past_due_days</th>\n",
       "      <th>age</th>\n",
       "      <th>education</th>\n",
       "      <th>Gender</th>\n",
       "      <th>Due_Date_Day</th>\n",
       "      <th>paid_off_time_month</th>\n",
       "    </tr>\n",
       "  </thead>\n",
       "  <tbody>\n",
       "    <tr>\n",
       "      <th>0</th>\n",
       "      <td>xqd20166231</td>\n",
       "      <td>PAIDOFF</td>\n",
       "      <td>1000</td>\n",
       "      <td>30</td>\n",
       "      <td>09/08/2016</td>\n",
       "      <td>19:31</td>\n",
       "      <td>Wednesday</td>\n",
       "      <td>2016-10-07</td>\n",
       "      <td>2016-09-14 19:31:00</td>\n",
       "      <td>0.0</td>\n",
       "      <td>45</td>\n",
       "      <td>High School or Below</td>\n",
       "      <td>male</td>\n",
       "      <td>Friday</td>\n",
       "      <td>September</td>\n",
       "    </tr>\n",
       "    <tr>\n",
       "      <th>1</th>\n",
       "      <td>xqd20168902</td>\n",
       "      <td>PAIDOFF</td>\n",
       "      <td>1000</td>\n",
       "      <td>30</td>\n",
       "      <td>09/08/2016</td>\n",
       "      <td>09:00:00</td>\n",
       "      <td>Friday</td>\n",
       "      <td>2016-10-07</td>\n",
       "      <td>2016-10-07 09:00:00</td>\n",
       "      <td>0.0</td>\n",
       "      <td>50</td>\n",
       "      <td>Bechalor</td>\n",
       "      <td>female</td>\n",
       "      <td>Friday</td>\n",
       "      <td>October</td>\n",
       "    </tr>\n",
       "    <tr>\n",
       "      <th>2</th>\n",
       "      <td>xqd20160003</td>\n",
       "      <td>PAIDOFF</td>\n",
       "      <td>1000</td>\n",
       "      <td>30</td>\n",
       "      <td>09/08/2016</td>\n",
       "      <td>16:58</td>\n",
       "      <td>Sunday</td>\n",
       "      <td>2016-10-07</td>\n",
       "      <td>2016-09-25 16:58:00</td>\n",
       "      <td>0.0</td>\n",
       "      <td>33</td>\n",
       "      <td>Bechalor</td>\n",
       "      <td>female</td>\n",
       "      <td>Friday</td>\n",
       "      <td>September</td>\n",
       "    </tr>\n",
       "    <tr>\n",
       "      <th>3</th>\n",
       "      <td>xqd20160004</td>\n",
       "      <td>PAIDOFF</td>\n",
       "      <td>1000</td>\n",
       "      <td>15</td>\n",
       "      <td>09/08/2016</td>\n",
       "      <td>20:00</td>\n",
       "      <td>Thursday</td>\n",
       "      <td>2016-09-22</td>\n",
       "      <td>2016-09-22 20:00:00</td>\n",
       "      <td>0.0</td>\n",
       "      <td>27</td>\n",
       "      <td>college</td>\n",
       "      <td>male</td>\n",
       "      <td>Thursday</td>\n",
       "      <td>September</td>\n",
       "    </tr>\n",
       "    <tr>\n",
       "      <th>4</th>\n",
       "      <td>xqd20160005</td>\n",
       "      <td>PAIDOFF</td>\n",
       "      <td>1000</td>\n",
       "      <td>30</td>\n",
       "      <td>09/09/2016</td>\n",
       "      <td>21:36</td>\n",
       "      <td>Friday</td>\n",
       "      <td>2016-10-08</td>\n",
       "      <td>2016-09-23 21:36:00</td>\n",
       "      <td>0.0</td>\n",
       "      <td>28</td>\n",
       "      <td>college</td>\n",
       "      <td>female</td>\n",
       "      <td>Saturday</td>\n",
       "      <td>September</td>\n",
       "    </tr>\n",
       "    <tr>\n",
       "      <th>...</th>\n",
       "      <td>...</td>\n",
       "      <td>...</td>\n",
       "      <td>...</td>\n",
       "      <td>...</td>\n",
       "      <td>...</td>\n",
       "      <td>...</td>\n",
       "      <td>...</td>\n",
       "      <td>...</td>\n",
       "      <td>...</td>\n",
       "      <td>...</td>\n",
       "      <td>...</td>\n",
       "      <td>...</td>\n",
       "      <td>...</td>\n",
       "      <td>...</td>\n",
       "      <td>...</td>\n",
       "    </tr>\n",
       "    <tr>\n",
       "      <th>495</th>\n",
       "      <td>xqd20160496</td>\n",
       "      <td>COLLECTION_PAIDOFF</td>\n",
       "      <td>1000</td>\n",
       "      <td>30</td>\n",
       "      <td>09/12/2016</td>\n",
       "      <td>19:08</td>\n",
       "      <td>Friday</td>\n",
       "      <td>2016-10-11</td>\n",
       "      <td>2016-10-14 19:08:00</td>\n",
       "      <td>3.0</td>\n",
       "      <td>28</td>\n",
       "      <td>High School or Below</td>\n",
       "      <td>male</td>\n",
       "      <td>Tuesday</td>\n",
       "      <td>October</td>\n",
       "    </tr>\n",
       "    <tr>\n",
       "      <th>496</th>\n",
       "      <td>xqd20160497</td>\n",
       "      <td>COLLECTION_PAIDOFF</td>\n",
       "      <td>1000</td>\n",
       "      <td>15</td>\n",
       "      <td>09/12/2016</td>\n",
       "      <td>20:02:00</td>\n",
       "      <td>Monday</td>\n",
       "      <td>2016-09-26</td>\n",
       "      <td>2016-10-10 20:02:00</td>\n",
       "      <td>14.0</td>\n",
       "      <td>26</td>\n",
       "      <td>High School or Below</td>\n",
       "      <td>male</td>\n",
       "      <td>Monday</td>\n",
       "      <td>October</td>\n",
       "    </tr>\n",
       "    <tr>\n",
       "      <th>497</th>\n",
       "      <td>xqd20160498</td>\n",
       "      <td>COLLECTION_PAIDOFF</td>\n",
       "      <td>800</td>\n",
       "      <td>15</td>\n",
       "      <td>09/12/2016</td>\n",
       "      <td>11:49</td>\n",
       "      <td>Thursday</td>\n",
       "      <td>2016-09-26</td>\n",
       "      <td>2016-09-29 11:49:00</td>\n",
       "      <td>3.0</td>\n",
       "      <td>30</td>\n",
       "      <td>college</td>\n",
       "      <td>male</td>\n",
       "      <td>Monday</td>\n",
       "      <td>September</td>\n",
       "    </tr>\n",
       "    <tr>\n",
       "      <th>498</th>\n",
       "      <td>xqd20160499</td>\n",
       "      <td>COLLECTION_PAIDOFF</td>\n",
       "      <td>1000</td>\n",
       "      <td>30</td>\n",
       "      <td>09/12/2016</td>\n",
       "      <td>22:40:00</td>\n",
       "      <td>Friday</td>\n",
       "      <td>2016-11-10</td>\n",
       "      <td>2016-11-11 22:40:00</td>\n",
       "      <td>1.0</td>\n",
       "      <td>38</td>\n",
       "      <td>college</td>\n",
       "      <td>female</td>\n",
       "      <td>Thursday</td>\n",
       "      <td>November</td>\n",
       "    </tr>\n",
       "    <tr>\n",
       "      <th>499</th>\n",
       "      <td>xqd20160500</td>\n",
       "      <td>COLLECTION_PAIDOFF</td>\n",
       "      <td>1000</td>\n",
       "      <td>30</td>\n",
       "      <td>09/12/2016</td>\n",
       "      <td>11:58</td>\n",
       "      <td>Wednesday</td>\n",
       "      <td>2016-10-11</td>\n",
       "      <td>2016-10-19 11:58:00</td>\n",
       "      <td>8.0</td>\n",
       "      <td>28</td>\n",
       "      <td>High School or Below</td>\n",
       "      <td>male</td>\n",
       "      <td>Tuesday</td>\n",
       "      <td>October</td>\n",
       "    </tr>\n",
       "  </tbody>\n",
       "</table>\n",
       "<p>500 rows × 15 columns</p>\n",
       "</div>"
      ],
      "text/plain": [
       "         Loan_ID         loan_status  Principal  terms effective_date  \\\n",
       "0    xqd20166231             PAIDOFF       1000     30     09/08/2016   \n",
       "1    xqd20168902             PAIDOFF       1000     30     09/08/2016   \n",
       "2    xqd20160003             PAIDOFF       1000     30     09/08/2016   \n",
       "3    xqd20160004             PAIDOFF       1000     15     09/08/2016   \n",
       "4    xqd20160005             PAIDOFF       1000     30     09/09/2016   \n",
       "..           ...                 ...        ...    ...            ...   \n",
       "495  xqd20160496  COLLECTION_PAIDOFF       1000     30     09/12/2016   \n",
       "496  xqd20160497  COLLECTION_PAIDOFF       1000     15     09/12/2016   \n",
       "497  xqd20160498  COLLECTION_PAIDOFF        800     15     09/12/2016   \n",
       "498  xqd20160499  COLLECTION_PAIDOFF       1000     30     09/12/2016   \n",
       "499  xqd20160500  COLLECTION_PAIDOFF       1000     30     09/12/2016   \n",
       "\n",
       "    paid_off_time_hours paid_off_time_datename   due_date       paid_off_time  \\\n",
       "0                 19:31              Wednesday 2016-10-07 2016-09-14 19:31:00   \n",
       "1              09:00:00                 Friday 2016-10-07 2016-10-07 09:00:00   \n",
       "2                 16:58                 Sunday 2016-10-07 2016-09-25 16:58:00   \n",
       "3                 20:00               Thursday 2016-09-22 2016-09-22 20:00:00   \n",
       "4                 21:36                 Friday 2016-10-08 2016-09-23 21:36:00   \n",
       "..                  ...                    ...        ...                 ...   \n",
       "495               19:08                 Friday 2016-10-11 2016-10-14 19:08:00   \n",
       "496            20:02:00                 Monday 2016-09-26 2016-10-10 20:02:00   \n",
       "497               11:49               Thursday 2016-09-26 2016-09-29 11:49:00   \n",
       "498            22:40:00                 Friday 2016-11-10 2016-11-11 22:40:00   \n",
       "499               11:58              Wednesday 2016-10-11 2016-10-19 11:58:00   \n",
       "\n",
       "     past_due_days  age             education  Gender Due_Date_Day  \\\n",
       "0              0.0   45  High School or Below    male       Friday   \n",
       "1              0.0   50              Bechalor  female       Friday   \n",
       "2              0.0   33              Bechalor  female       Friday   \n",
       "3              0.0   27               college    male     Thursday   \n",
       "4              0.0   28               college  female     Saturday   \n",
       "..             ...  ...                   ...     ...          ...   \n",
       "495            3.0   28  High School or Below    male      Tuesday   \n",
       "496           14.0   26  High School or Below    male       Monday   \n",
       "497            3.0   30               college    male       Monday   \n",
       "498            1.0   38               college  female     Thursday   \n",
       "499            8.0   28  High School or Below    male      Tuesday   \n",
       "\n",
       "    paid_off_time_month  \n",
       "0             September  \n",
       "1               October  \n",
       "2             September  \n",
       "3             September  \n",
       "4             September  \n",
       "..                  ...  \n",
       "495             October  \n",
       "496             October  \n",
       "497           September  \n",
       "498            November  \n",
       "499             October  \n",
       "\n",
       "[500 rows x 15 columns]"
      ]
     },
     "execution_count": 22,
     "metadata": {},
     "output_type": "execute_result"
    }
   ],
   "source": [
    "df['paid_off_time_month'] = df['paid_off_time'].dt.month_name() \n",
    "df #month date  "
   ]
  },
  {
   "cell_type": "code",
   "execution_count": 23,
   "id": "6af51347",
   "metadata": {
    "ExecuteTime": {
     "end_time": "2022-11-29T11:38:58.039732Z",
     "start_time": "2022-11-29T11:38:58.009588Z"
    }
   },
   "outputs": [
    {
     "data": {
      "text/html": [
       "<div>\n",
       "<style scoped>\n",
       "    .dataframe tbody tr th:only-of-type {\n",
       "        vertical-align: middle;\n",
       "    }\n",
       "\n",
       "    .dataframe tbody tr th {\n",
       "        vertical-align: top;\n",
       "    }\n",
       "\n",
       "    .dataframe thead th {\n",
       "        text-align: right;\n",
       "    }\n",
       "</style>\n",
       "<table border=\"1\" class=\"dataframe\">\n",
       "  <thead>\n",
       "    <tr style=\"text-align: right;\">\n",
       "      <th></th>\n",
       "      <th>Loan_ID</th>\n",
       "      <th>loan_status</th>\n",
       "      <th>Principal</th>\n",
       "      <th>terms</th>\n",
       "      <th>effective_date</th>\n",
       "      <th>paid_off_time_hours</th>\n",
       "      <th>paid_off_time_datename</th>\n",
       "      <th>due_date</th>\n",
       "      <th>paid_off_time</th>\n",
       "      <th>past_due_days</th>\n",
       "      <th>age</th>\n",
       "      <th>education</th>\n",
       "      <th>Gender</th>\n",
       "      <th>Due_Date_Day</th>\n",
       "      <th>paid_off_time_month</th>\n",
       "      <th>Due_Date_Month</th>\n",
       "    </tr>\n",
       "  </thead>\n",
       "  <tbody>\n",
       "    <tr>\n",
       "      <th>0</th>\n",
       "      <td>xqd20166231</td>\n",
       "      <td>PAIDOFF</td>\n",
       "      <td>1000</td>\n",
       "      <td>30</td>\n",
       "      <td>09/08/2016</td>\n",
       "      <td>19:31</td>\n",
       "      <td>Wednesday</td>\n",
       "      <td>2016-10-07</td>\n",
       "      <td>2016-09-14 19:31:00</td>\n",
       "      <td>0.0</td>\n",
       "      <td>45</td>\n",
       "      <td>High School or Below</td>\n",
       "      <td>male</td>\n",
       "      <td>Friday</td>\n",
       "      <td>September</td>\n",
       "      <td>October</td>\n",
       "    </tr>\n",
       "    <tr>\n",
       "      <th>1</th>\n",
       "      <td>xqd20168902</td>\n",
       "      <td>PAIDOFF</td>\n",
       "      <td>1000</td>\n",
       "      <td>30</td>\n",
       "      <td>09/08/2016</td>\n",
       "      <td>09:00:00</td>\n",
       "      <td>Friday</td>\n",
       "      <td>2016-10-07</td>\n",
       "      <td>2016-10-07 09:00:00</td>\n",
       "      <td>0.0</td>\n",
       "      <td>50</td>\n",
       "      <td>Bechalor</td>\n",
       "      <td>female</td>\n",
       "      <td>Friday</td>\n",
       "      <td>October</td>\n",
       "      <td>October</td>\n",
       "    </tr>\n",
       "    <tr>\n",
       "      <th>2</th>\n",
       "      <td>xqd20160003</td>\n",
       "      <td>PAIDOFF</td>\n",
       "      <td>1000</td>\n",
       "      <td>30</td>\n",
       "      <td>09/08/2016</td>\n",
       "      <td>16:58</td>\n",
       "      <td>Sunday</td>\n",
       "      <td>2016-10-07</td>\n",
       "      <td>2016-09-25 16:58:00</td>\n",
       "      <td>0.0</td>\n",
       "      <td>33</td>\n",
       "      <td>Bechalor</td>\n",
       "      <td>female</td>\n",
       "      <td>Friday</td>\n",
       "      <td>September</td>\n",
       "      <td>October</td>\n",
       "    </tr>\n",
       "    <tr>\n",
       "      <th>3</th>\n",
       "      <td>xqd20160004</td>\n",
       "      <td>PAIDOFF</td>\n",
       "      <td>1000</td>\n",
       "      <td>15</td>\n",
       "      <td>09/08/2016</td>\n",
       "      <td>20:00</td>\n",
       "      <td>Thursday</td>\n",
       "      <td>2016-09-22</td>\n",
       "      <td>2016-09-22 20:00:00</td>\n",
       "      <td>0.0</td>\n",
       "      <td>27</td>\n",
       "      <td>college</td>\n",
       "      <td>male</td>\n",
       "      <td>Thursday</td>\n",
       "      <td>September</td>\n",
       "      <td>September</td>\n",
       "    </tr>\n",
       "    <tr>\n",
       "      <th>4</th>\n",
       "      <td>xqd20160005</td>\n",
       "      <td>PAIDOFF</td>\n",
       "      <td>1000</td>\n",
       "      <td>30</td>\n",
       "      <td>09/09/2016</td>\n",
       "      <td>21:36</td>\n",
       "      <td>Friday</td>\n",
       "      <td>2016-10-08</td>\n",
       "      <td>2016-09-23 21:36:00</td>\n",
       "      <td>0.0</td>\n",
       "      <td>28</td>\n",
       "      <td>college</td>\n",
       "      <td>female</td>\n",
       "      <td>Saturday</td>\n",
       "      <td>September</td>\n",
       "      <td>October</td>\n",
       "    </tr>\n",
       "    <tr>\n",
       "      <th>...</th>\n",
       "      <td>...</td>\n",
       "      <td>...</td>\n",
       "      <td>...</td>\n",
       "      <td>...</td>\n",
       "      <td>...</td>\n",
       "      <td>...</td>\n",
       "      <td>...</td>\n",
       "      <td>...</td>\n",
       "      <td>...</td>\n",
       "      <td>...</td>\n",
       "      <td>...</td>\n",
       "      <td>...</td>\n",
       "      <td>...</td>\n",
       "      <td>...</td>\n",
       "      <td>...</td>\n",
       "      <td>...</td>\n",
       "    </tr>\n",
       "    <tr>\n",
       "      <th>495</th>\n",
       "      <td>xqd20160496</td>\n",
       "      <td>COLLECTION_PAIDOFF</td>\n",
       "      <td>1000</td>\n",
       "      <td>30</td>\n",
       "      <td>09/12/2016</td>\n",
       "      <td>19:08</td>\n",
       "      <td>Friday</td>\n",
       "      <td>2016-10-11</td>\n",
       "      <td>2016-10-14 19:08:00</td>\n",
       "      <td>3.0</td>\n",
       "      <td>28</td>\n",
       "      <td>High School or Below</td>\n",
       "      <td>male</td>\n",
       "      <td>Tuesday</td>\n",
       "      <td>October</td>\n",
       "      <td>October</td>\n",
       "    </tr>\n",
       "    <tr>\n",
       "      <th>496</th>\n",
       "      <td>xqd20160497</td>\n",
       "      <td>COLLECTION_PAIDOFF</td>\n",
       "      <td>1000</td>\n",
       "      <td>15</td>\n",
       "      <td>09/12/2016</td>\n",
       "      <td>20:02:00</td>\n",
       "      <td>Monday</td>\n",
       "      <td>2016-09-26</td>\n",
       "      <td>2016-10-10 20:02:00</td>\n",
       "      <td>14.0</td>\n",
       "      <td>26</td>\n",
       "      <td>High School or Below</td>\n",
       "      <td>male</td>\n",
       "      <td>Monday</td>\n",
       "      <td>October</td>\n",
       "      <td>September</td>\n",
       "    </tr>\n",
       "    <tr>\n",
       "      <th>497</th>\n",
       "      <td>xqd20160498</td>\n",
       "      <td>COLLECTION_PAIDOFF</td>\n",
       "      <td>800</td>\n",
       "      <td>15</td>\n",
       "      <td>09/12/2016</td>\n",
       "      <td>11:49</td>\n",
       "      <td>Thursday</td>\n",
       "      <td>2016-09-26</td>\n",
       "      <td>2016-09-29 11:49:00</td>\n",
       "      <td>3.0</td>\n",
       "      <td>30</td>\n",
       "      <td>college</td>\n",
       "      <td>male</td>\n",
       "      <td>Monday</td>\n",
       "      <td>September</td>\n",
       "      <td>September</td>\n",
       "    </tr>\n",
       "    <tr>\n",
       "      <th>498</th>\n",
       "      <td>xqd20160499</td>\n",
       "      <td>COLLECTION_PAIDOFF</td>\n",
       "      <td>1000</td>\n",
       "      <td>30</td>\n",
       "      <td>09/12/2016</td>\n",
       "      <td>22:40:00</td>\n",
       "      <td>Friday</td>\n",
       "      <td>2016-11-10</td>\n",
       "      <td>2016-11-11 22:40:00</td>\n",
       "      <td>1.0</td>\n",
       "      <td>38</td>\n",
       "      <td>college</td>\n",
       "      <td>female</td>\n",
       "      <td>Thursday</td>\n",
       "      <td>November</td>\n",
       "      <td>November</td>\n",
       "    </tr>\n",
       "    <tr>\n",
       "      <th>499</th>\n",
       "      <td>xqd20160500</td>\n",
       "      <td>COLLECTION_PAIDOFF</td>\n",
       "      <td>1000</td>\n",
       "      <td>30</td>\n",
       "      <td>09/12/2016</td>\n",
       "      <td>11:58</td>\n",
       "      <td>Wednesday</td>\n",
       "      <td>2016-10-11</td>\n",
       "      <td>2016-10-19 11:58:00</td>\n",
       "      <td>8.0</td>\n",
       "      <td>28</td>\n",
       "      <td>High School or Below</td>\n",
       "      <td>male</td>\n",
       "      <td>Tuesday</td>\n",
       "      <td>October</td>\n",
       "      <td>October</td>\n",
       "    </tr>\n",
       "  </tbody>\n",
       "</table>\n",
       "<p>500 rows × 16 columns</p>\n",
       "</div>"
      ],
      "text/plain": [
       "         Loan_ID         loan_status  Principal  terms effective_date  \\\n",
       "0    xqd20166231             PAIDOFF       1000     30     09/08/2016   \n",
       "1    xqd20168902             PAIDOFF       1000     30     09/08/2016   \n",
       "2    xqd20160003             PAIDOFF       1000     30     09/08/2016   \n",
       "3    xqd20160004             PAIDOFF       1000     15     09/08/2016   \n",
       "4    xqd20160005             PAIDOFF       1000     30     09/09/2016   \n",
       "..           ...                 ...        ...    ...            ...   \n",
       "495  xqd20160496  COLLECTION_PAIDOFF       1000     30     09/12/2016   \n",
       "496  xqd20160497  COLLECTION_PAIDOFF       1000     15     09/12/2016   \n",
       "497  xqd20160498  COLLECTION_PAIDOFF        800     15     09/12/2016   \n",
       "498  xqd20160499  COLLECTION_PAIDOFF       1000     30     09/12/2016   \n",
       "499  xqd20160500  COLLECTION_PAIDOFF       1000     30     09/12/2016   \n",
       "\n",
       "    paid_off_time_hours paid_off_time_datename   due_date       paid_off_time  \\\n",
       "0                 19:31              Wednesday 2016-10-07 2016-09-14 19:31:00   \n",
       "1              09:00:00                 Friday 2016-10-07 2016-10-07 09:00:00   \n",
       "2                 16:58                 Sunday 2016-10-07 2016-09-25 16:58:00   \n",
       "3                 20:00               Thursday 2016-09-22 2016-09-22 20:00:00   \n",
       "4                 21:36                 Friday 2016-10-08 2016-09-23 21:36:00   \n",
       "..                  ...                    ...        ...                 ...   \n",
       "495               19:08                 Friday 2016-10-11 2016-10-14 19:08:00   \n",
       "496            20:02:00                 Monday 2016-09-26 2016-10-10 20:02:00   \n",
       "497               11:49               Thursday 2016-09-26 2016-09-29 11:49:00   \n",
       "498            22:40:00                 Friday 2016-11-10 2016-11-11 22:40:00   \n",
       "499               11:58              Wednesday 2016-10-11 2016-10-19 11:58:00   \n",
       "\n",
       "     past_due_days  age             education  Gender Due_Date_Day  \\\n",
       "0              0.0   45  High School or Below    male       Friday   \n",
       "1              0.0   50              Bechalor  female       Friday   \n",
       "2              0.0   33              Bechalor  female       Friday   \n",
       "3              0.0   27               college    male     Thursday   \n",
       "4              0.0   28               college  female     Saturday   \n",
       "..             ...  ...                   ...     ...          ...   \n",
       "495            3.0   28  High School or Below    male      Tuesday   \n",
       "496           14.0   26  High School or Below    male       Monday   \n",
       "497            3.0   30               college    male       Monday   \n",
       "498            1.0   38               college  female     Thursday   \n",
       "499            8.0   28  High School or Below    male      Tuesday   \n",
       "\n",
       "    paid_off_time_month Due_Date_Month  \n",
       "0             September        October  \n",
       "1               October        October  \n",
       "2             September        October  \n",
       "3             September      September  \n",
       "4             September        October  \n",
       "..                  ...            ...  \n",
       "495             October        October  \n",
       "496             October      September  \n",
       "497           September      September  \n",
       "498            November       November  \n",
       "499             October        October  \n",
       "\n",
       "[500 rows x 16 columns]"
      ]
     },
     "execution_count": 23,
     "metadata": {},
     "output_type": "execute_result"
    }
   ],
   "source": [
    "#Altering the Date columns to have Month name\n",
    "df['Due_Date_Month'] = df['due_date'].dt.month_name() \n",
    "df "
   ]
  },
  {
   "cell_type": "code",
   "execution_count": 24,
   "id": "50348033",
   "metadata": {
    "ExecuteTime": {
     "end_time": "2022-11-29T11:38:58.054964Z",
     "start_time": "2022-11-29T11:38:58.040816Z"
    }
   },
   "outputs": [],
   "source": [
    "#We can drop the due_date column now"
   ]
  },
  {
   "cell_type": "code",
   "execution_count": 25,
   "id": "6549a903",
   "metadata": {
    "ExecuteTime": {
     "end_time": "2022-11-29T11:38:58.070918Z",
     "start_time": "2022-11-29T11:38:58.056914Z"
    }
   },
   "outputs": [],
   "source": [
    "df['effective_date']= pd.to_datetime(df['effective_date']) #formatting "
   ]
  },
  {
   "cell_type": "code",
   "execution_count": 26,
   "id": "e0643746",
   "metadata": {
    "ExecuteTime": {
     "end_time": "2022-11-29T11:38:58.101303Z",
     "start_time": "2022-11-29T11:38:58.072597Z"
    }
   },
   "outputs": [
    {
     "data": {
      "text/html": [
       "<div>\n",
       "<style scoped>\n",
       "    .dataframe tbody tr th:only-of-type {\n",
       "        vertical-align: middle;\n",
       "    }\n",
       "\n",
       "    .dataframe tbody tr th {\n",
       "        vertical-align: top;\n",
       "    }\n",
       "\n",
       "    .dataframe thead th {\n",
       "        text-align: right;\n",
       "    }\n",
       "</style>\n",
       "<table border=\"1\" class=\"dataframe\">\n",
       "  <thead>\n",
       "    <tr style=\"text-align: right;\">\n",
       "      <th></th>\n",
       "      <th>Loan_ID</th>\n",
       "      <th>loan_status</th>\n",
       "      <th>Principal</th>\n",
       "      <th>terms</th>\n",
       "      <th>effective_date</th>\n",
       "      <th>paid_off_time_hours</th>\n",
       "      <th>paid_off_time_datename</th>\n",
       "      <th>due_date</th>\n",
       "      <th>paid_off_time</th>\n",
       "      <th>past_due_days</th>\n",
       "      <th>age</th>\n",
       "      <th>education</th>\n",
       "      <th>Gender</th>\n",
       "      <th>Due_Date_Day</th>\n",
       "      <th>paid_off_time_month</th>\n",
       "      <th>Due_Date_Month</th>\n",
       "      <th>paid_off_time_day</th>\n",
       "    </tr>\n",
       "  </thead>\n",
       "  <tbody>\n",
       "    <tr>\n",
       "      <th>0</th>\n",
       "      <td>xqd20166231</td>\n",
       "      <td>PAIDOFF</td>\n",
       "      <td>1000</td>\n",
       "      <td>30</td>\n",
       "      <td>2016-09-08</td>\n",
       "      <td>19:31</td>\n",
       "      <td>Wednesday</td>\n",
       "      <td>2016-10-07</td>\n",
       "      <td>2016-09-14 19:31:00</td>\n",
       "      <td>0.0</td>\n",
       "      <td>45</td>\n",
       "      <td>High School or Below</td>\n",
       "      <td>male</td>\n",
       "      <td>Friday</td>\n",
       "      <td>September</td>\n",
       "      <td>October</td>\n",
       "      <td>6 days 19:31:00</td>\n",
       "    </tr>\n",
       "    <tr>\n",
       "      <th>1</th>\n",
       "      <td>xqd20168902</td>\n",
       "      <td>PAIDOFF</td>\n",
       "      <td>1000</td>\n",
       "      <td>30</td>\n",
       "      <td>2016-09-08</td>\n",
       "      <td>09:00:00</td>\n",
       "      <td>Friday</td>\n",
       "      <td>2016-10-07</td>\n",
       "      <td>2016-10-07 09:00:00</td>\n",
       "      <td>0.0</td>\n",
       "      <td>50</td>\n",
       "      <td>Bechalor</td>\n",
       "      <td>female</td>\n",
       "      <td>Friday</td>\n",
       "      <td>October</td>\n",
       "      <td>October</td>\n",
       "      <td>29 days 09:00:00</td>\n",
       "    </tr>\n",
       "    <tr>\n",
       "      <th>2</th>\n",
       "      <td>xqd20160003</td>\n",
       "      <td>PAIDOFF</td>\n",
       "      <td>1000</td>\n",
       "      <td>30</td>\n",
       "      <td>2016-09-08</td>\n",
       "      <td>16:58</td>\n",
       "      <td>Sunday</td>\n",
       "      <td>2016-10-07</td>\n",
       "      <td>2016-09-25 16:58:00</td>\n",
       "      <td>0.0</td>\n",
       "      <td>33</td>\n",
       "      <td>Bechalor</td>\n",
       "      <td>female</td>\n",
       "      <td>Friday</td>\n",
       "      <td>September</td>\n",
       "      <td>October</td>\n",
       "      <td>17 days 16:58:00</td>\n",
       "    </tr>\n",
       "    <tr>\n",
       "      <th>3</th>\n",
       "      <td>xqd20160004</td>\n",
       "      <td>PAIDOFF</td>\n",
       "      <td>1000</td>\n",
       "      <td>15</td>\n",
       "      <td>2016-09-08</td>\n",
       "      <td>20:00</td>\n",
       "      <td>Thursday</td>\n",
       "      <td>2016-09-22</td>\n",
       "      <td>2016-09-22 20:00:00</td>\n",
       "      <td>0.0</td>\n",
       "      <td>27</td>\n",
       "      <td>college</td>\n",
       "      <td>male</td>\n",
       "      <td>Thursday</td>\n",
       "      <td>September</td>\n",
       "      <td>September</td>\n",
       "      <td>14 days 20:00:00</td>\n",
       "    </tr>\n",
       "    <tr>\n",
       "      <th>4</th>\n",
       "      <td>xqd20160005</td>\n",
       "      <td>PAIDOFF</td>\n",
       "      <td>1000</td>\n",
       "      <td>30</td>\n",
       "      <td>2016-09-09</td>\n",
       "      <td>21:36</td>\n",
       "      <td>Friday</td>\n",
       "      <td>2016-10-08</td>\n",
       "      <td>2016-09-23 21:36:00</td>\n",
       "      <td>0.0</td>\n",
       "      <td>28</td>\n",
       "      <td>college</td>\n",
       "      <td>female</td>\n",
       "      <td>Saturday</td>\n",
       "      <td>September</td>\n",
       "      <td>October</td>\n",
       "      <td>14 days 21:36:00</td>\n",
       "    </tr>\n",
       "    <tr>\n",
       "      <th>...</th>\n",
       "      <td>...</td>\n",
       "      <td>...</td>\n",
       "      <td>...</td>\n",
       "      <td>...</td>\n",
       "      <td>...</td>\n",
       "      <td>...</td>\n",
       "      <td>...</td>\n",
       "      <td>...</td>\n",
       "      <td>...</td>\n",
       "      <td>...</td>\n",
       "      <td>...</td>\n",
       "      <td>...</td>\n",
       "      <td>...</td>\n",
       "      <td>...</td>\n",
       "      <td>...</td>\n",
       "      <td>...</td>\n",
       "      <td>...</td>\n",
       "    </tr>\n",
       "    <tr>\n",
       "      <th>495</th>\n",
       "      <td>xqd20160496</td>\n",
       "      <td>COLLECTION_PAIDOFF</td>\n",
       "      <td>1000</td>\n",
       "      <td>30</td>\n",
       "      <td>2016-09-12</td>\n",
       "      <td>19:08</td>\n",
       "      <td>Friday</td>\n",
       "      <td>2016-10-11</td>\n",
       "      <td>2016-10-14 19:08:00</td>\n",
       "      <td>3.0</td>\n",
       "      <td>28</td>\n",
       "      <td>High School or Below</td>\n",
       "      <td>male</td>\n",
       "      <td>Tuesday</td>\n",
       "      <td>October</td>\n",
       "      <td>October</td>\n",
       "      <td>32 days 19:08:00</td>\n",
       "    </tr>\n",
       "    <tr>\n",
       "      <th>496</th>\n",
       "      <td>xqd20160497</td>\n",
       "      <td>COLLECTION_PAIDOFF</td>\n",
       "      <td>1000</td>\n",
       "      <td>15</td>\n",
       "      <td>2016-09-12</td>\n",
       "      <td>20:02:00</td>\n",
       "      <td>Monday</td>\n",
       "      <td>2016-09-26</td>\n",
       "      <td>2016-10-10 20:02:00</td>\n",
       "      <td>14.0</td>\n",
       "      <td>26</td>\n",
       "      <td>High School or Below</td>\n",
       "      <td>male</td>\n",
       "      <td>Monday</td>\n",
       "      <td>October</td>\n",
       "      <td>September</td>\n",
       "      <td>28 days 20:02:00</td>\n",
       "    </tr>\n",
       "    <tr>\n",
       "      <th>497</th>\n",
       "      <td>xqd20160498</td>\n",
       "      <td>COLLECTION_PAIDOFF</td>\n",
       "      <td>800</td>\n",
       "      <td>15</td>\n",
       "      <td>2016-09-12</td>\n",
       "      <td>11:49</td>\n",
       "      <td>Thursday</td>\n",
       "      <td>2016-09-26</td>\n",
       "      <td>2016-09-29 11:49:00</td>\n",
       "      <td>3.0</td>\n",
       "      <td>30</td>\n",
       "      <td>college</td>\n",
       "      <td>male</td>\n",
       "      <td>Monday</td>\n",
       "      <td>September</td>\n",
       "      <td>September</td>\n",
       "      <td>17 days 11:49:00</td>\n",
       "    </tr>\n",
       "    <tr>\n",
       "      <th>498</th>\n",
       "      <td>xqd20160499</td>\n",
       "      <td>COLLECTION_PAIDOFF</td>\n",
       "      <td>1000</td>\n",
       "      <td>30</td>\n",
       "      <td>2016-09-12</td>\n",
       "      <td>22:40:00</td>\n",
       "      <td>Friday</td>\n",
       "      <td>2016-11-10</td>\n",
       "      <td>2016-11-11 22:40:00</td>\n",
       "      <td>1.0</td>\n",
       "      <td>38</td>\n",
       "      <td>college</td>\n",
       "      <td>female</td>\n",
       "      <td>Thursday</td>\n",
       "      <td>November</td>\n",
       "      <td>November</td>\n",
       "      <td>60 days 22:40:00</td>\n",
       "    </tr>\n",
       "    <tr>\n",
       "      <th>499</th>\n",
       "      <td>xqd20160500</td>\n",
       "      <td>COLLECTION_PAIDOFF</td>\n",
       "      <td>1000</td>\n",
       "      <td>30</td>\n",
       "      <td>2016-09-12</td>\n",
       "      <td>11:58</td>\n",
       "      <td>Wednesday</td>\n",
       "      <td>2016-10-11</td>\n",
       "      <td>2016-10-19 11:58:00</td>\n",
       "      <td>8.0</td>\n",
       "      <td>28</td>\n",
       "      <td>High School or Below</td>\n",
       "      <td>male</td>\n",
       "      <td>Tuesday</td>\n",
       "      <td>October</td>\n",
       "      <td>October</td>\n",
       "      <td>37 days 11:58:00</td>\n",
       "    </tr>\n",
       "  </tbody>\n",
       "</table>\n",
       "<p>500 rows × 17 columns</p>\n",
       "</div>"
      ],
      "text/plain": [
       "         Loan_ID         loan_status  Principal  terms effective_date  \\\n",
       "0    xqd20166231             PAIDOFF       1000     30     2016-09-08   \n",
       "1    xqd20168902             PAIDOFF       1000     30     2016-09-08   \n",
       "2    xqd20160003             PAIDOFF       1000     30     2016-09-08   \n",
       "3    xqd20160004             PAIDOFF       1000     15     2016-09-08   \n",
       "4    xqd20160005             PAIDOFF       1000     30     2016-09-09   \n",
       "..           ...                 ...        ...    ...            ...   \n",
       "495  xqd20160496  COLLECTION_PAIDOFF       1000     30     2016-09-12   \n",
       "496  xqd20160497  COLLECTION_PAIDOFF       1000     15     2016-09-12   \n",
       "497  xqd20160498  COLLECTION_PAIDOFF        800     15     2016-09-12   \n",
       "498  xqd20160499  COLLECTION_PAIDOFF       1000     30     2016-09-12   \n",
       "499  xqd20160500  COLLECTION_PAIDOFF       1000     30     2016-09-12   \n",
       "\n",
       "    paid_off_time_hours paid_off_time_datename   due_date       paid_off_time  \\\n",
       "0                 19:31              Wednesday 2016-10-07 2016-09-14 19:31:00   \n",
       "1              09:00:00                 Friday 2016-10-07 2016-10-07 09:00:00   \n",
       "2                 16:58                 Sunday 2016-10-07 2016-09-25 16:58:00   \n",
       "3                 20:00               Thursday 2016-09-22 2016-09-22 20:00:00   \n",
       "4                 21:36                 Friday 2016-10-08 2016-09-23 21:36:00   \n",
       "..                  ...                    ...        ...                 ...   \n",
       "495               19:08                 Friday 2016-10-11 2016-10-14 19:08:00   \n",
       "496            20:02:00                 Monday 2016-09-26 2016-10-10 20:02:00   \n",
       "497               11:49               Thursday 2016-09-26 2016-09-29 11:49:00   \n",
       "498            22:40:00                 Friday 2016-11-10 2016-11-11 22:40:00   \n",
       "499               11:58              Wednesday 2016-10-11 2016-10-19 11:58:00   \n",
       "\n",
       "     past_due_days  age             education  Gender Due_Date_Day  \\\n",
       "0              0.0   45  High School or Below    male       Friday   \n",
       "1              0.0   50              Bechalor  female       Friday   \n",
       "2              0.0   33              Bechalor  female       Friday   \n",
       "3              0.0   27               college    male     Thursday   \n",
       "4              0.0   28               college  female     Saturday   \n",
       "..             ...  ...                   ...     ...          ...   \n",
       "495            3.0   28  High School or Below    male      Tuesday   \n",
       "496           14.0   26  High School or Below    male       Monday   \n",
       "497            3.0   30               college    male       Monday   \n",
       "498            1.0   38               college  female     Thursday   \n",
       "499            8.0   28  High School or Below    male      Tuesday   \n",
       "\n",
       "    paid_off_time_month Due_Date_Month paid_off_time_day  \n",
       "0             September        October   6 days 19:31:00  \n",
       "1               October        October  29 days 09:00:00  \n",
       "2             September        October  17 days 16:58:00  \n",
       "3             September      September  14 days 20:00:00  \n",
       "4             September        October  14 days 21:36:00  \n",
       "..                  ...            ...               ...  \n",
       "495             October        October  32 days 19:08:00  \n",
       "496             October      September  28 days 20:02:00  \n",
       "497           September      September  17 days 11:49:00  \n",
       "498            November       November  60 days 22:40:00  \n",
       "499             October        October  37 days 11:58:00  \n",
       "\n",
       "[500 rows x 17 columns]"
      ]
     },
     "execution_count": 26,
     "metadata": {},
     "output_type": "execute_result"
    }
   ],
   "source": [
    "df['paid_off_time_day'] = df['paid_off_time'] - df['effective_date']\n",
    "df #days "
   ]
  },
  {
   "cell_type": "code",
   "execution_count": 27,
   "id": "8e7ca7cf",
   "metadata": {
    "ExecuteTime": {
     "end_time": "2022-11-29T11:38:58.132490Z",
     "start_time": "2022-11-29T11:38:58.102980Z"
    }
   },
   "outputs": [
    {
     "data": {
      "text/html": [
       "<div>\n",
       "<style scoped>\n",
       "    .dataframe tbody tr th:only-of-type {\n",
       "        vertical-align: middle;\n",
       "    }\n",
       "\n",
       "    .dataframe tbody tr th {\n",
       "        vertical-align: top;\n",
       "    }\n",
       "\n",
       "    .dataframe thead th {\n",
       "        text-align: right;\n",
       "    }\n",
       "</style>\n",
       "<table border=\"1\" class=\"dataframe\">\n",
       "  <thead>\n",
       "    <tr style=\"text-align: right;\">\n",
       "      <th></th>\n",
       "      <th>Loan_ID</th>\n",
       "      <th>loan_status</th>\n",
       "      <th>Principal</th>\n",
       "      <th>terms</th>\n",
       "      <th>effective_date</th>\n",
       "      <th>paid_off_time_hours</th>\n",
       "      <th>paid_off_time_datename</th>\n",
       "      <th>due_date</th>\n",
       "      <th>paid_off_time</th>\n",
       "      <th>past_due_days</th>\n",
       "      <th>age</th>\n",
       "      <th>education</th>\n",
       "      <th>Gender</th>\n",
       "      <th>Due_Date_Day</th>\n",
       "      <th>paid_off_time_month</th>\n",
       "      <th>Due_Date_Month</th>\n",
       "      <th>paid_off_time_day</th>\n",
       "      <th>Effective_date_Month</th>\n",
       "    </tr>\n",
       "  </thead>\n",
       "  <tbody>\n",
       "    <tr>\n",
       "      <th>0</th>\n",
       "      <td>xqd20166231</td>\n",
       "      <td>PAIDOFF</td>\n",
       "      <td>1000</td>\n",
       "      <td>30</td>\n",
       "      <td>2016-09-08</td>\n",
       "      <td>19:31</td>\n",
       "      <td>Wednesday</td>\n",
       "      <td>2016-10-07</td>\n",
       "      <td>2016-09-14 19:31:00</td>\n",
       "      <td>0.0</td>\n",
       "      <td>45</td>\n",
       "      <td>High School or Below</td>\n",
       "      <td>male</td>\n",
       "      <td>Friday</td>\n",
       "      <td>September</td>\n",
       "      <td>October</td>\n",
       "      <td>6 days 19:31:00</td>\n",
       "      <td>September</td>\n",
       "    </tr>\n",
       "    <tr>\n",
       "      <th>1</th>\n",
       "      <td>xqd20168902</td>\n",
       "      <td>PAIDOFF</td>\n",
       "      <td>1000</td>\n",
       "      <td>30</td>\n",
       "      <td>2016-09-08</td>\n",
       "      <td>09:00:00</td>\n",
       "      <td>Friday</td>\n",
       "      <td>2016-10-07</td>\n",
       "      <td>2016-10-07 09:00:00</td>\n",
       "      <td>0.0</td>\n",
       "      <td>50</td>\n",
       "      <td>Bechalor</td>\n",
       "      <td>female</td>\n",
       "      <td>Friday</td>\n",
       "      <td>October</td>\n",
       "      <td>October</td>\n",
       "      <td>29 days 09:00:00</td>\n",
       "      <td>September</td>\n",
       "    </tr>\n",
       "    <tr>\n",
       "      <th>2</th>\n",
       "      <td>xqd20160003</td>\n",
       "      <td>PAIDOFF</td>\n",
       "      <td>1000</td>\n",
       "      <td>30</td>\n",
       "      <td>2016-09-08</td>\n",
       "      <td>16:58</td>\n",
       "      <td>Sunday</td>\n",
       "      <td>2016-10-07</td>\n",
       "      <td>2016-09-25 16:58:00</td>\n",
       "      <td>0.0</td>\n",
       "      <td>33</td>\n",
       "      <td>Bechalor</td>\n",
       "      <td>female</td>\n",
       "      <td>Friday</td>\n",
       "      <td>September</td>\n",
       "      <td>October</td>\n",
       "      <td>17 days 16:58:00</td>\n",
       "      <td>September</td>\n",
       "    </tr>\n",
       "    <tr>\n",
       "      <th>3</th>\n",
       "      <td>xqd20160004</td>\n",
       "      <td>PAIDOFF</td>\n",
       "      <td>1000</td>\n",
       "      <td>15</td>\n",
       "      <td>2016-09-08</td>\n",
       "      <td>20:00</td>\n",
       "      <td>Thursday</td>\n",
       "      <td>2016-09-22</td>\n",
       "      <td>2016-09-22 20:00:00</td>\n",
       "      <td>0.0</td>\n",
       "      <td>27</td>\n",
       "      <td>college</td>\n",
       "      <td>male</td>\n",
       "      <td>Thursday</td>\n",
       "      <td>September</td>\n",
       "      <td>September</td>\n",
       "      <td>14 days 20:00:00</td>\n",
       "      <td>September</td>\n",
       "    </tr>\n",
       "    <tr>\n",
       "      <th>4</th>\n",
       "      <td>xqd20160005</td>\n",
       "      <td>PAIDOFF</td>\n",
       "      <td>1000</td>\n",
       "      <td>30</td>\n",
       "      <td>2016-09-09</td>\n",
       "      <td>21:36</td>\n",
       "      <td>Friday</td>\n",
       "      <td>2016-10-08</td>\n",
       "      <td>2016-09-23 21:36:00</td>\n",
       "      <td>0.0</td>\n",
       "      <td>28</td>\n",
       "      <td>college</td>\n",
       "      <td>female</td>\n",
       "      <td>Saturday</td>\n",
       "      <td>September</td>\n",
       "      <td>October</td>\n",
       "      <td>14 days 21:36:00</td>\n",
       "      <td>September</td>\n",
       "    </tr>\n",
       "    <tr>\n",
       "      <th>...</th>\n",
       "      <td>...</td>\n",
       "      <td>...</td>\n",
       "      <td>...</td>\n",
       "      <td>...</td>\n",
       "      <td>...</td>\n",
       "      <td>...</td>\n",
       "      <td>...</td>\n",
       "      <td>...</td>\n",
       "      <td>...</td>\n",
       "      <td>...</td>\n",
       "      <td>...</td>\n",
       "      <td>...</td>\n",
       "      <td>...</td>\n",
       "      <td>...</td>\n",
       "      <td>...</td>\n",
       "      <td>...</td>\n",
       "      <td>...</td>\n",
       "      <td>...</td>\n",
       "    </tr>\n",
       "    <tr>\n",
       "      <th>495</th>\n",
       "      <td>xqd20160496</td>\n",
       "      <td>COLLECTION_PAIDOFF</td>\n",
       "      <td>1000</td>\n",
       "      <td>30</td>\n",
       "      <td>2016-09-12</td>\n",
       "      <td>19:08</td>\n",
       "      <td>Friday</td>\n",
       "      <td>2016-10-11</td>\n",
       "      <td>2016-10-14 19:08:00</td>\n",
       "      <td>3.0</td>\n",
       "      <td>28</td>\n",
       "      <td>High School or Below</td>\n",
       "      <td>male</td>\n",
       "      <td>Tuesday</td>\n",
       "      <td>October</td>\n",
       "      <td>October</td>\n",
       "      <td>32 days 19:08:00</td>\n",
       "      <td>September</td>\n",
       "    </tr>\n",
       "    <tr>\n",
       "      <th>496</th>\n",
       "      <td>xqd20160497</td>\n",
       "      <td>COLLECTION_PAIDOFF</td>\n",
       "      <td>1000</td>\n",
       "      <td>15</td>\n",
       "      <td>2016-09-12</td>\n",
       "      <td>20:02:00</td>\n",
       "      <td>Monday</td>\n",
       "      <td>2016-09-26</td>\n",
       "      <td>2016-10-10 20:02:00</td>\n",
       "      <td>14.0</td>\n",
       "      <td>26</td>\n",
       "      <td>High School or Below</td>\n",
       "      <td>male</td>\n",
       "      <td>Monday</td>\n",
       "      <td>October</td>\n",
       "      <td>September</td>\n",
       "      <td>28 days 20:02:00</td>\n",
       "      <td>September</td>\n",
       "    </tr>\n",
       "    <tr>\n",
       "      <th>497</th>\n",
       "      <td>xqd20160498</td>\n",
       "      <td>COLLECTION_PAIDOFF</td>\n",
       "      <td>800</td>\n",
       "      <td>15</td>\n",
       "      <td>2016-09-12</td>\n",
       "      <td>11:49</td>\n",
       "      <td>Thursday</td>\n",
       "      <td>2016-09-26</td>\n",
       "      <td>2016-09-29 11:49:00</td>\n",
       "      <td>3.0</td>\n",
       "      <td>30</td>\n",
       "      <td>college</td>\n",
       "      <td>male</td>\n",
       "      <td>Monday</td>\n",
       "      <td>September</td>\n",
       "      <td>September</td>\n",
       "      <td>17 days 11:49:00</td>\n",
       "      <td>September</td>\n",
       "    </tr>\n",
       "    <tr>\n",
       "      <th>498</th>\n",
       "      <td>xqd20160499</td>\n",
       "      <td>COLLECTION_PAIDOFF</td>\n",
       "      <td>1000</td>\n",
       "      <td>30</td>\n",
       "      <td>2016-09-12</td>\n",
       "      <td>22:40:00</td>\n",
       "      <td>Friday</td>\n",
       "      <td>2016-11-10</td>\n",
       "      <td>2016-11-11 22:40:00</td>\n",
       "      <td>1.0</td>\n",
       "      <td>38</td>\n",
       "      <td>college</td>\n",
       "      <td>female</td>\n",
       "      <td>Thursday</td>\n",
       "      <td>November</td>\n",
       "      <td>November</td>\n",
       "      <td>60 days 22:40:00</td>\n",
       "      <td>September</td>\n",
       "    </tr>\n",
       "    <tr>\n",
       "      <th>499</th>\n",
       "      <td>xqd20160500</td>\n",
       "      <td>COLLECTION_PAIDOFF</td>\n",
       "      <td>1000</td>\n",
       "      <td>30</td>\n",
       "      <td>2016-09-12</td>\n",
       "      <td>11:58</td>\n",
       "      <td>Wednesday</td>\n",
       "      <td>2016-10-11</td>\n",
       "      <td>2016-10-19 11:58:00</td>\n",
       "      <td>8.0</td>\n",
       "      <td>28</td>\n",
       "      <td>High School or Below</td>\n",
       "      <td>male</td>\n",
       "      <td>Tuesday</td>\n",
       "      <td>October</td>\n",
       "      <td>October</td>\n",
       "      <td>37 days 11:58:00</td>\n",
       "      <td>September</td>\n",
       "    </tr>\n",
       "  </tbody>\n",
       "</table>\n",
       "<p>500 rows × 18 columns</p>\n",
       "</div>"
      ],
      "text/plain": [
       "         Loan_ID         loan_status  Principal  terms effective_date  \\\n",
       "0    xqd20166231             PAIDOFF       1000     30     2016-09-08   \n",
       "1    xqd20168902             PAIDOFF       1000     30     2016-09-08   \n",
       "2    xqd20160003             PAIDOFF       1000     30     2016-09-08   \n",
       "3    xqd20160004             PAIDOFF       1000     15     2016-09-08   \n",
       "4    xqd20160005             PAIDOFF       1000     30     2016-09-09   \n",
       "..           ...                 ...        ...    ...            ...   \n",
       "495  xqd20160496  COLLECTION_PAIDOFF       1000     30     2016-09-12   \n",
       "496  xqd20160497  COLLECTION_PAIDOFF       1000     15     2016-09-12   \n",
       "497  xqd20160498  COLLECTION_PAIDOFF        800     15     2016-09-12   \n",
       "498  xqd20160499  COLLECTION_PAIDOFF       1000     30     2016-09-12   \n",
       "499  xqd20160500  COLLECTION_PAIDOFF       1000     30     2016-09-12   \n",
       "\n",
       "    paid_off_time_hours paid_off_time_datename   due_date       paid_off_time  \\\n",
       "0                 19:31              Wednesday 2016-10-07 2016-09-14 19:31:00   \n",
       "1              09:00:00                 Friday 2016-10-07 2016-10-07 09:00:00   \n",
       "2                 16:58                 Sunday 2016-10-07 2016-09-25 16:58:00   \n",
       "3                 20:00               Thursday 2016-09-22 2016-09-22 20:00:00   \n",
       "4                 21:36                 Friday 2016-10-08 2016-09-23 21:36:00   \n",
       "..                  ...                    ...        ...                 ...   \n",
       "495               19:08                 Friday 2016-10-11 2016-10-14 19:08:00   \n",
       "496            20:02:00                 Monday 2016-09-26 2016-10-10 20:02:00   \n",
       "497               11:49               Thursday 2016-09-26 2016-09-29 11:49:00   \n",
       "498            22:40:00                 Friday 2016-11-10 2016-11-11 22:40:00   \n",
       "499               11:58              Wednesday 2016-10-11 2016-10-19 11:58:00   \n",
       "\n",
       "     past_due_days  age             education  Gender Due_Date_Day  \\\n",
       "0              0.0   45  High School or Below    male       Friday   \n",
       "1              0.0   50              Bechalor  female       Friday   \n",
       "2              0.0   33              Bechalor  female       Friday   \n",
       "3              0.0   27               college    male     Thursday   \n",
       "4              0.0   28               college  female     Saturday   \n",
       "..             ...  ...                   ...     ...          ...   \n",
       "495            3.0   28  High School or Below    male      Tuesday   \n",
       "496           14.0   26  High School or Below    male       Monday   \n",
       "497            3.0   30               college    male       Monday   \n",
       "498            1.0   38               college  female     Thursday   \n",
       "499            8.0   28  High School or Below    male      Tuesday   \n",
       "\n",
       "    paid_off_time_month Due_Date_Month paid_off_time_day Effective_date_Month  \n",
       "0             September        October   6 days 19:31:00            September  \n",
       "1               October        October  29 days 09:00:00            September  \n",
       "2             September        October  17 days 16:58:00            September  \n",
       "3             September      September  14 days 20:00:00            September  \n",
       "4             September        October  14 days 21:36:00            September  \n",
       "..                  ...            ...               ...                  ...  \n",
       "495             October        October  32 days 19:08:00            September  \n",
       "496             October      September  28 days 20:02:00            September  \n",
       "497           September      September  17 days 11:49:00            September  \n",
       "498            November       November  60 days 22:40:00            September  \n",
       "499             October        October  37 days 11:58:00            September  \n",
       "\n",
       "[500 rows x 18 columns]"
      ]
     },
     "execution_count": 27,
     "metadata": {},
     "output_type": "execute_result"
    }
   ],
   "source": [
    "#formatting to generate month name col\n",
    "df['Effective_date_Month'] = df['effective_date'].dt.month_name() \n",
    "df "
   ]
  },
  {
   "cell_type": "code",
   "execution_count": 28,
   "id": "c2b1ebc4",
   "metadata": {
    "ExecuteTime": {
     "end_time": "2022-11-29T11:38:58.163539Z",
     "start_time": "2022-11-29T11:38:58.136626Z"
    }
   },
   "outputs": [
    {
     "data": {
      "text/html": [
       "<div>\n",
       "<style scoped>\n",
       "    .dataframe tbody tr th:only-of-type {\n",
       "        vertical-align: middle;\n",
       "    }\n",
       "\n",
       "    .dataframe tbody tr th {\n",
       "        vertical-align: top;\n",
       "    }\n",
       "\n",
       "    .dataframe thead th {\n",
       "        text-align: right;\n",
       "    }\n",
       "</style>\n",
       "<table border=\"1\" class=\"dataframe\">\n",
       "  <thead>\n",
       "    <tr style=\"text-align: right;\">\n",
       "      <th></th>\n",
       "      <th>Loan_ID</th>\n",
       "      <th>loan_status</th>\n",
       "      <th>Principal</th>\n",
       "      <th>terms</th>\n",
       "      <th>effective_date</th>\n",
       "      <th>paid_off_time_hours</th>\n",
       "      <th>paid_off_time_datename</th>\n",
       "      <th>due_date</th>\n",
       "      <th>paid_off_time</th>\n",
       "      <th>past_due_days</th>\n",
       "      <th>age</th>\n",
       "      <th>education</th>\n",
       "      <th>Gender</th>\n",
       "      <th>Due_Date_Day</th>\n",
       "      <th>paid_off_time_month</th>\n",
       "      <th>Due_Date_Month</th>\n",
       "      <th>paid_off_time_day</th>\n",
       "      <th>Effective_date_Month</th>\n",
       "      <th>Effective_date_Day</th>\n",
       "    </tr>\n",
       "  </thead>\n",
       "  <tbody>\n",
       "    <tr>\n",
       "      <th>0</th>\n",
       "      <td>xqd20166231</td>\n",
       "      <td>PAIDOFF</td>\n",
       "      <td>1000</td>\n",
       "      <td>30</td>\n",
       "      <td>2016-09-08</td>\n",
       "      <td>19:31</td>\n",
       "      <td>Wednesday</td>\n",
       "      <td>2016-10-07</td>\n",
       "      <td>2016-09-14 19:31:00</td>\n",
       "      <td>0.0</td>\n",
       "      <td>45</td>\n",
       "      <td>High School or Below</td>\n",
       "      <td>male</td>\n",
       "      <td>Friday</td>\n",
       "      <td>September</td>\n",
       "      <td>October</td>\n",
       "      <td>6 days 19:31:00</td>\n",
       "      <td>September</td>\n",
       "      <td>Thursday</td>\n",
       "    </tr>\n",
       "    <tr>\n",
       "      <th>1</th>\n",
       "      <td>xqd20168902</td>\n",
       "      <td>PAIDOFF</td>\n",
       "      <td>1000</td>\n",
       "      <td>30</td>\n",
       "      <td>2016-09-08</td>\n",
       "      <td>09:00:00</td>\n",
       "      <td>Friday</td>\n",
       "      <td>2016-10-07</td>\n",
       "      <td>2016-10-07 09:00:00</td>\n",
       "      <td>0.0</td>\n",
       "      <td>50</td>\n",
       "      <td>Bechalor</td>\n",
       "      <td>female</td>\n",
       "      <td>Friday</td>\n",
       "      <td>October</td>\n",
       "      <td>October</td>\n",
       "      <td>29 days 09:00:00</td>\n",
       "      <td>September</td>\n",
       "      <td>Thursday</td>\n",
       "    </tr>\n",
       "    <tr>\n",
       "      <th>2</th>\n",
       "      <td>xqd20160003</td>\n",
       "      <td>PAIDOFF</td>\n",
       "      <td>1000</td>\n",
       "      <td>30</td>\n",
       "      <td>2016-09-08</td>\n",
       "      <td>16:58</td>\n",
       "      <td>Sunday</td>\n",
       "      <td>2016-10-07</td>\n",
       "      <td>2016-09-25 16:58:00</td>\n",
       "      <td>0.0</td>\n",
       "      <td>33</td>\n",
       "      <td>Bechalor</td>\n",
       "      <td>female</td>\n",
       "      <td>Friday</td>\n",
       "      <td>September</td>\n",
       "      <td>October</td>\n",
       "      <td>17 days 16:58:00</td>\n",
       "      <td>September</td>\n",
       "      <td>Thursday</td>\n",
       "    </tr>\n",
       "    <tr>\n",
       "      <th>3</th>\n",
       "      <td>xqd20160004</td>\n",
       "      <td>PAIDOFF</td>\n",
       "      <td>1000</td>\n",
       "      <td>15</td>\n",
       "      <td>2016-09-08</td>\n",
       "      <td>20:00</td>\n",
       "      <td>Thursday</td>\n",
       "      <td>2016-09-22</td>\n",
       "      <td>2016-09-22 20:00:00</td>\n",
       "      <td>0.0</td>\n",
       "      <td>27</td>\n",
       "      <td>college</td>\n",
       "      <td>male</td>\n",
       "      <td>Thursday</td>\n",
       "      <td>September</td>\n",
       "      <td>September</td>\n",
       "      <td>14 days 20:00:00</td>\n",
       "      <td>September</td>\n",
       "      <td>Thursday</td>\n",
       "    </tr>\n",
       "    <tr>\n",
       "      <th>4</th>\n",
       "      <td>xqd20160005</td>\n",
       "      <td>PAIDOFF</td>\n",
       "      <td>1000</td>\n",
       "      <td>30</td>\n",
       "      <td>2016-09-09</td>\n",
       "      <td>21:36</td>\n",
       "      <td>Friday</td>\n",
       "      <td>2016-10-08</td>\n",
       "      <td>2016-09-23 21:36:00</td>\n",
       "      <td>0.0</td>\n",
       "      <td>28</td>\n",
       "      <td>college</td>\n",
       "      <td>female</td>\n",
       "      <td>Saturday</td>\n",
       "      <td>September</td>\n",
       "      <td>October</td>\n",
       "      <td>14 days 21:36:00</td>\n",
       "      <td>September</td>\n",
       "      <td>Friday</td>\n",
       "    </tr>\n",
       "    <tr>\n",
       "      <th>...</th>\n",
       "      <td>...</td>\n",
       "      <td>...</td>\n",
       "      <td>...</td>\n",
       "      <td>...</td>\n",
       "      <td>...</td>\n",
       "      <td>...</td>\n",
       "      <td>...</td>\n",
       "      <td>...</td>\n",
       "      <td>...</td>\n",
       "      <td>...</td>\n",
       "      <td>...</td>\n",
       "      <td>...</td>\n",
       "      <td>...</td>\n",
       "      <td>...</td>\n",
       "      <td>...</td>\n",
       "      <td>...</td>\n",
       "      <td>...</td>\n",
       "      <td>...</td>\n",
       "      <td>...</td>\n",
       "    </tr>\n",
       "    <tr>\n",
       "      <th>495</th>\n",
       "      <td>xqd20160496</td>\n",
       "      <td>COLLECTION_PAIDOFF</td>\n",
       "      <td>1000</td>\n",
       "      <td>30</td>\n",
       "      <td>2016-09-12</td>\n",
       "      <td>19:08</td>\n",
       "      <td>Friday</td>\n",
       "      <td>2016-10-11</td>\n",
       "      <td>2016-10-14 19:08:00</td>\n",
       "      <td>3.0</td>\n",
       "      <td>28</td>\n",
       "      <td>High School or Below</td>\n",
       "      <td>male</td>\n",
       "      <td>Tuesday</td>\n",
       "      <td>October</td>\n",
       "      <td>October</td>\n",
       "      <td>32 days 19:08:00</td>\n",
       "      <td>September</td>\n",
       "      <td>Monday</td>\n",
       "    </tr>\n",
       "    <tr>\n",
       "      <th>496</th>\n",
       "      <td>xqd20160497</td>\n",
       "      <td>COLLECTION_PAIDOFF</td>\n",
       "      <td>1000</td>\n",
       "      <td>15</td>\n",
       "      <td>2016-09-12</td>\n",
       "      <td>20:02:00</td>\n",
       "      <td>Monday</td>\n",
       "      <td>2016-09-26</td>\n",
       "      <td>2016-10-10 20:02:00</td>\n",
       "      <td>14.0</td>\n",
       "      <td>26</td>\n",
       "      <td>High School or Below</td>\n",
       "      <td>male</td>\n",
       "      <td>Monday</td>\n",
       "      <td>October</td>\n",
       "      <td>September</td>\n",
       "      <td>28 days 20:02:00</td>\n",
       "      <td>September</td>\n",
       "      <td>Monday</td>\n",
       "    </tr>\n",
       "    <tr>\n",
       "      <th>497</th>\n",
       "      <td>xqd20160498</td>\n",
       "      <td>COLLECTION_PAIDOFF</td>\n",
       "      <td>800</td>\n",
       "      <td>15</td>\n",
       "      <td>2016-09-12</td>\n",
       "      <td>11:49</td>\n",
       "      <td>Thursday</td>\n",
       "      <td>2016-09-26</td>\n",
       "      <td>2016-09-29 11:49:00</td>\n",
       "      <td>3.0</td>\n",
       "      <td>30</td>\n",
       "      <td>college</td>\n",
       "      <td>male</td>\n",
       "      <td>Monday</td>\n",
       "      <td>September</td>\n",
       "      <td>September</td>\n",
       "      <td>17 days 11:49:00</td>\n",
       "      <td>September</td>\n",
       "      <td>Monday</td>\n",
       "    </tr>\n",
       "    <tr>\n",
       "      <th>498</th>\n",
       "      <td>xqd20160499</td>\n",
       "      <td>COLLECTION_PAIDOFF</td>\n",
       "      <td>1000</td>\n",
       "      <td>30</td>\n",
       "      <td>2016-09-12</td>\n",
       "      <td>22:40:00</td>\n",
       "      <td>Friday</td>\n",
       "      <td>2016-11-10</td>\n",
       "      <td>2016-11-11 22:40:00</td>\n",
       "      <td>1.0</td>\n",
       "      <td>38</td>\n",
       "      <td>college</td>\n",
       "      <td>female</td>\n",
       "      <td>Thursday</td>\n",
       "      <td>November</td>\n",
       "      <td>November</td>\n",
       "      <td>60 days 22:40:00</td>\n",
       "      <td>September</td>\n",
       "      <td>Monday</td>\n",
       "    </tr>\n",
       "    <tr>\n",
       "      <th>499</th>\n",
       "      <td>xqd20160500</td>\n",
       "      <td>COLLECTION_PAIDOFF</td>\n",
       "      <td>1000</td>\n",
       "      <td>30</td>\n",
       "      <td>2016-09-12</td>\n",
       "      <td>11:58</td>\n",
       "      <td>Wednesday</td>\n",
       "      <td>2016-10-11</td>\n",
       "      <td>2016-10-19 11:58:00</td>\n",
       "      <td>8.0</td>\n",
       "      <td>28</td>\n",
       "      <td>High School or Below</td>\n",
       "      <td>male</td>\n",
       "      <td>Tuesday</td>\n",
       "      <td>October</td>\n",
       "      <td>October</td>\n",
       "      <td>37 days 11:58:00</td>\n",
       "      <td>September</td>\n",
       "      <td>Monday</td>\n",
       "    </tr>\n",
       "  </tbody>\n",
       "</table>\n",
       "<p>500 rows × 19 columns</p>\n",
       "</div>"
      ],
      "text/plain": [
       "         Loan_ID         loan_status  Principal  terms effective_date  \\\n",
       "0    xqd20166231             PAIDOFF       1000     30     2016-09-08   \n",
       "1    xqd20168902             PAIDOFF       1000     30     2016-09-08   \n",
       "2    xqd20160003             PAIDOFF       1000     30     2016-09-08   \n",
       "3    xqd20160004             PAIDOFF       1000     15     2016-09-08   \n",
       "4    xqd20160005             PAIDOFF       1000     30     2016-09-09   \n",
       "..           ...                 ...        ...    ...            ...   \n",
       "495  xqd20160496  COLLECTION_PAIDOFF       1000     30     2016-09-12   \n",
       "496  xqd20160497  COLLECTION_PAIDOFF       1000     15     2016-09-12   \n",
       "497  xqd20160498  COLLECTION_PAIDOFF        800     15     2016-09-12   \n",
       "498  xqd20160499  COLLECTION_PAIDOFF       1000     30     2016-09-12   \n",
       "499  xqd20160500  COLLECTION_PAIDOFF       1000     30     2016-09-12   \n",
       "\n",
       "    paid_off_time_hours paid_off_time_datename   due_date       paid_off_time  \\\n",
       "0                 19:31              Wednesday 2016-10-07 2016-09-14 19:31:00   \n",
       "1              09:00:00                 Friday 2016-10-07 2016-10-07 09:00:00   \n",
       "2                 16:58                 Sunday 2016-10-07 2016-09-25 16:58:00   \n",
       "3                 20:00               Thursday 2016-09-22 2016-09-22 20:00:00   \n",
       "4                 21:36                 Friday 2016-10-08 2016-09-23 21:36:00   \n",
       "..                  ...                    ...        ...                 ...   \n",
       "495               19:08                 Friday 2016-10-11 2016-10-14 19:08:00   \n",
       "496            20:02:00                 Monday 2016-09-26 2016-10-10 20:02:00   \n",
       "497               11:49               Thursday 2016-09-26 2016-09-29 11:49:00   \n",
       "498            22:40:00                 Friday 2016-11-10 2016-11-11 22:40:00   \n",
       "499               11:58              Wednesday 2016-10-11 2016-10-19 11:58:00   \n",
       "\n",
       "     past_due_days  age             education  Gender Due_Date_Day  \\\n",
       "0              0.0   45  High School or Below    male       Friday   \n",
       "1              0.0   50              Bechalor  female       Friday   \n",
       "2              0.0   33              Bechalor  female       Friday   \n",
       "3              0.0   27               college    male     Thursday   \n",
       "4              0.0   28               college  female     Saturday   \n",
       "..             ...  ...                   ...     ...          ...   \n",
       "495            3.0   28  High School or Below    male      Tuesday   \n",
       "496           14.0   26  High School or Below    male       Monday   \n",
       "497            3.0   30               college    male       Monday   \n",
       "498            1.0   38               college  female     Thursday   \n",
       "499            8.0   28  High School or Below    male      Tuesday   \n",
       "\n",
       "    paid_off_time_month Due_Date_Month paid_off_time_day Effective_date_Month  \\\n",
       "0             September        October   6 days 19:31:00            September   \n",
       "1               October        October  29 days 09:00:00            September   \n",
       "2             September        October  17 days 16:58:00            September   \n",
       "3             September      September  14 days 20:00:00            September   \n",
       "4             September        October  14 days 21:36:00            September   \n",
       "..                  ...            ...               ...                  ...   \n",
       "495             October        October  32 days 19:08:00            September   \n",
       "496             October      September  28 days 20:02:00            September   \n",
       "497           September      September  17 days 11:49:00            September   \n",
       "498            November       November  60 days 22:40:00            September   \n",
       "499             October        October  37 days 11:58:00            September   \n",
       "\n",
       "    Effective_date_Day  \n",
       "0             Thursday  \n",
       "1             Thursday  \n",
       "2             Thursday  \n",
       "3             Thursday  \n",
       "4               Friday  \n",
       "..                 ...  \n",
       "495             Monday  \n",
       "496             Monday  \n",
       "497             Monday  \n",
       "498             Monday  \n",
       "499             Monday  \n",
       "\n",
       "[500 rows x 19 columns]"
      ]
     },
     "execution_count": 28,
     "metadata": {},
     "output_type": "execute_result"
    }
   ],
   "source": [
    "df['Effective_date_Day'] = df['effective_date'].dt.day_name() \n",
    "df  #formatting so the day name is obtained"
   ]
  },
  {
   "cell_type": "code",
   "execution_count": 29,
   "id": "25d8d537",
   "metadata": {
    "ExecuteTime": {
     "end_time": "2022-11-29T11:38:58.179004Z",
     "start_time": "2022-11-29T11:38:58.165248Z"
    }
   },
   "outputs": [],
   "source": [
    "#formatting\n",
    "df['paid_off_time']= pd.to_datetime(df['paid_off_time']) #formatting to datetime so it is useable"
   ]
  },
  {
   "cell_type": "code",
   "execution_count": 30,
   "id": "2a2337c4",
   "metadata": {
    "ExecuteTime": {
     "end_time": "2022-11-29T11:38:58.194381Z",
     "start_time": "2022-11-29T11:38:58.180924Z"
    }
   },
   "outputs": [
    {
     "data": {
      "text/html": [
       "<div>\n",
       "<style scoped>\n",
       "    .dataframe tbody tr th:only-of-type {\n",
       "        vertical-align: middle;\n",
       "    }\n",
       "\n",
       "    .dataframe tbody tr th {\n",
       "        vertical-align: top;\n",
       "    }\n",
       "\n",
       "    .dataframe thead th {\n",
       "        text-align: right;\n",
       "    }\n",
       "</style>\n",
       "<table border=\"1\" class=\"dataframe\">\n",
       "  <thead>\n",
       "    <tr style=\"text-align: right;\">\n",
       "      <th></th>\n",
       "      <th>Loan_ID</th>\n",
       "      <th>loan_status</th>\n",
       "      <th>Principal</th>\n",
       "      <th>terms</th>\n",
       "      <th>effective_date</th>\n",
       "      <th>paid_off_time_hours</th>\n",
       "      <th>paid_off_time_datename</th>\n",
       "      <th>due_date</th>\n",
       "      <th>paid_off_time</th>\n",
       "      <th>past_due_days</th>\n",
       "      <th>age</th>\n",
       "      <th>education</th>\n",
       "      <th>Gender</th>\n",
       "      <th>Due_Date_Day</th>\n",
       "      <th>paid_off_time_month</th>\n",
       "      <th>Due_Date_Month</th>\n",
       "      <th>paid_off_time_day</th>\n",
       "      <th>Effective_date_Month</th>\n",
       "      <th>Effective_date_Day</th>\n",
       "    </tr>\n",
       "  </thead>\n",
       "  <tbody>\n",
       "    <tr>\n",
       "      <th>0</th>\n",
       "      <td>xqd20166231</td>\n",
       "      <td>PAIDOFF</td>\n",
       "      <td>1000</td>\n",
       "      <td>30</td>\n",
       "      <td>2016-09-08</td>\n",
       "      <td>19:31</td>\n",
       "      <td>Wednesday</td>\n",
       "      <td>2016-10-07</td>\n",
       "      <td>2016-09-14 19:31:00</td>\n",
       "      <td>0.0</td>\n",
       "      <td>45</td>\n",
       "      <td>High School or Below</td>\n",
       "      <td>male</td>\n",
       "      <td>Friday</td>\n",
       "      <td>September</td>\n",
       "      <td>October</td>\n",
       "      <td>6 days 19:31:00</td>\n",
       "      <td>September</td>\n",
       "      <td>Thursday</td>\n",
       "    </tr>\n",
       "    <tr>\n",
       "      <th>1</th>\n",
       "      <td>xqd20168902</td>\n",
       "      <td>PAIDOFF</td>\n",
       "      <td>1000</td>\n",
       "      <td>30</td>\n",
       "      <td>2016-09-08</td>\n",
       "      <td>09:00:00</td>\n",
       "      <td>Friday</td>\n",
       "      <td>2016-10-07</td>\n",
       "      <td>2016-10-07 09:00:00</td>\n",
       "      <td>0.0</td>\n",
       "      <td>50</td>\n",
       "      <td>Bechalor</td>\n",
       "      <td>female</td>\n",
       "      <td>Friday</td>\n",
       "      <td>October</td>\n",
       "      <td>October</td>\n",
       "      <td>29 days 09:00:00</td>\n",
       "      <td>September</td>\n",
       "      <td>Thursday</td>\n",
       "    </tr>\n",
       "    <tr>\n",
       "      <th>2</th>\n",
       "      <td>xqd20160003</td>\n",
       "      <td>PAIDOFF</td>\n",
       "      <td>1000</td>\n",
       "      <td>30</td>\n",
       "      <td>2016-09-08</td>\n",
       "      <td>16:58</td>\n",
       "      <td>Sunday</td>\n",
       "      <td>2016-10-07</td>\n",
       "      <td>2016-09-25 16:58:00</td>\n",
       "      <td>0.0</td>\n",
       "      <td>33</td>\n",
       "      <td>Bechalor</td>\n",
       "      <td>female</td>\n",
       "      <td>Friday</td>\n",
       "      <td>September</td>\n",
       "      <td>October</td>\n",
       "      <td>17 days 16:58:00</td>\n",
       "      <td>September</td>\n",
       "      <td>Thursday</td>\n",
       "    </tr>\n",
       "    <tr>\n",
       "      <th>3</th>\n",
       "      <td>xqd20160004</td>\n",
       "      <td>PAIDOFF</td>\n",
       "      <td>1000</td>\n",
       "      <td>15</td>\n",
       "      <td>2016-09-08</td>\n",
       "      <td>20:00</td>\n",
       "      <td>Thursday</td>\n",
       "      <td>2016-09-22</td>\n",
       "      <td>2016-09-22 20:00:00</td>\n",
       "      <td>0.0</td>\n",
       "      <td>27</td>\n",
       "      <td>college</td>\n",
       "      <td>male</td>\n",
       "      <td>Thursday</td>\n",
       "      <td>September</td>\n",
       "      <td>September</td>\n",
       "      <td>14 days 20:00:00</td>\n",
       "      <td>September</td>\n",
       "      <td>Thursday</td>\n",
       "    </tr>\n",
       "    <tr>\n",
       "      <th>4</th>\n",
       "      <td>xqd20160005</td>\n",
       "      <td>PAIDOFF</td>\n",
       "      <td>1000</td>\n",
       "      <td>30</td>\n",
       "      <td>2016-09-09</td>\n",
       "      <td>21:36</td>\n",
       "      <td>Friday</td>\n",
       "      <td>2016-10-08</td>\n",
       "      <td>2016-09-23 21:36:00</td>\n",
       "      <td>0.0</td>\n",
       "      <td>28</td>\n",
       "      <td>college</td>\n",
       "      <td>female</td>\n",
       "      <td>Saturday</td>\n",
       "      <td>September</td>\n",
       "      <td>October</td>\n",
       "      <td>14 days 21:36:00</td>\n",
       "      <td>September</td>\n",
       "      <td>Friday</td>\n",
       "    </tr>\n",
       "  </tbody>\n",
       "</table>\n",
       "</div>"
      ],
      "text/plain": [
       "       Loan_ID loan_status  Principal  terms effective_date  \\\n",
       "0  xqd20166231     PAIDOFF       1000     30     2016-09-08   \n",
       "1  xqd20168902     PAIDOFF       1000     30     2016-09-08   \n",
       "2  xqd20160003     PAIDOFF       1000     30     2016-09-08   \n",
       "3  xqd20160004     PAIDOFF       1000     15     2016-09-08   \n",
       "4  xqd20160005     PAIDOFF       1000     30     2016-09-09   \n",
       "\n",
       "  paid_off_time_hours paid_off_time_datename   due_date       paid_off_time  \\\n",
       "0               19:31              Wednesday 2016-10-07 2016-09-14 19:31:00   \n",
       "1            09:00:00                 Friday 2016-10-07 2016-10-07 09:00:00   \n",
       "2               16:58                 Sunday 2016-10-07 2016-09-25 16:58:00   \n",
       "3               20:00               Thursday 2016-09-22 2016-09-22 20:00:00   \n",
       "4               21:36                 Friday 2016-10-08 2016-09-23 21:36:00   \n",
       "\n",
       "   past_due_days  age             education  Gender Due_Date_Day  \\\n",
       "0            0.0   45  High School or Below    male       Friday   \n",
       "1            0.0   50              Bechalor  female       Friday   \n",
       "2            0.0   33              Bechalor  female       Friday   \n",
       "3            0.0   27               college    male     Thursday   \n",
       "4            0.0   28               college  female     Saturday   \n",
       "\n",
       "  paid_off_time_month Due_Date_Month paid_off_time_day Effective_date_Month  \\\n",
       "0           September        October   6 days 19:31:00            September   \n",
       "1             October        October  29 days 09:00:00            September   \n",
       "2           September        October  17 days 16:58:00            September   \n",
       "3           September      September  14 days 20:00:00            September   \n",
       "4           September        October  14 days 21:36:00            September   \n",
       "\n",
       "  Effective_date_Day  \n",
       "0           Thursday  \n",
       "1           Thursday  \n",
       "2           Thursday  \n",
       "3           Thursday  \n",
       "4             Friday  "
      ]
     },
     "execution_count": 30,
     "metadata": {},
     "output_type": "execute_result"
    }
   ],
   "source": [
    "#viewing the alterations made\n",
    "df.head()"
   ]
  },
  {
   "cell_type": "code",
   "execution_count": 31,
   "id": "ef28b27e",
   "metadata": {
    "ExecuteTime": {
     "end_time": "2022-11-29T11:38:58.225185Z",
     "start_time": "2022-11-29T11:38:58.195987Z"
    }
   },
   "outputs": [
    {
     "data": {
      "text/html": [
       "<div>\n",
       "<style scoped>\n",
       "    .dataframe tbody tr th:only-of-type {\n",
       "        vertical-align: middle;\n",
       "    }\n",
       "\n",
       "    .dataframe tbody tr th {\n",
       "        vertical-align: top;\n",
       "    }\n",
       "\n",
       "    .dataframe thead th {\n",
       "        text-align: right;\n",
       "    }\n",
       "</style>\n",
       "<table border=\"1\" class=\"dataframe\">\n",
       "  <thead>\n",
       "    <tr style=\"text-align: right;\">\n",
       "      <th></th>\n",
       "      <th>Loan_ID</th>\n",
       "      <th>loan_status</th>\n",
       "      <th>Principal</th>\n",
       "      <th>terms</th>\n",
       "      <th>effective_date</th>\n",
       "      <th>paid_off_time_hours</th>\n",
       "      <th>paid_off_time_datename</th>\n",
       "      <th>due_date</th>\n",
       "      <th>paid_off_time</th>\n",
       "      <th>past_due_days</th>\n",
       "      <th>age</th>\n",
       "      <th>education</th>\n",
       "      <th>Gender</th>\n",
       "      <th>Due_Date_Day</th>\n",
       "      <th>paid_off_time_month</th>\n",
       "      <th>Due_Date_Month</th>\n",
       "      <th>paid_off_time_day</th>\n",
       "      <th>Effective_date_Month</th>\n",
       "      <th>Effective_date_Day</th>\n",
       "      <th>Repayment_Time</th>\n",
       "    </tr>\n",
       "  </thead>\n",
       "  <tbody>\n",
       "    <tr>\n",
       "      <th>0</th>\n",
       "      <td>xqd20166231</td>\n",
       "      <td>PAIDOFF</td>\n",
       "      <td>1000</td>\n",
       "      <td>30</td>\n",
       "      <td>2016-09-08</td>\n",
       "      <td>19:31</td>\n",
       "      <td>Wednesday</td>\n",
       "      <td>2016-10-07</td>\n",
       "      <td>2016-09-14 19:31:00</td>\n",
       "      <td>0.0</td>\n",
       "      <td>45</td>\n",
       "      <td>High School or Below</td>\n",
       "      <td>male</td>\n",
       "      <td>Friday</td>\n",
       "      <td>September</td>\n",
       "      <td>October</td>\n",
       "      <td>6 days 19:31:00</td>\n",
       "      <td>September</td>\n",
       "      <td>Thursday</td>\n",
       "      <td>29</td>\n",
       "    </tr>\n",
       "    <tr>\n",
       "      <th>1</th>\n",
       "      <td>xqd20168902</td>\n",
       "      <td>PAIDOFF</td>\n",
       "      <td>1000</td>\n",
       "      <td>30</td>\n",
       "      <td>2016-09-08</td>\n",
       "      <td>09:00:00</td>\n",
       "      <td>Friday</td>\n",
       "      <td>2016-10-07</td>\n",
       "      <td>2016-10-07 09:00:00</td>\n",
       "      <td>0.0</td>\n",
       "      <td>50</td>\n",
       "      <td>Bechalor</td>\n",
       "      <td>female</td>\n",
       "      <td>Friday</td>\n",
       "      <td>October</td>\n",
       "      <td>October</td>\n",
       "      <td>29 days 09:00:00</td>\n",
       "      <td>September</td>\n",
       "      <td>Thursday</td>\n",
       "      <td>29</td>\n",
       "    </tr>\n",
       "    <tr>\n",
       "      <th>2</th>\n",
       "      <td>xqd20160003</td>\n",
       "      <td>PAIDOFF</td>\n",
       "      <td>1000</td>\n",
       "      <td>30</td>\n",
       "      <td>2016-09-08</td>\n",
       "      <td>16:58</td>\n",
       "      <td>Sunday</td>\n",
       "      <td>2016-10-07</td>\n",
       "      <td>2016-09-25 16:58:00</td>\n",
       "      <td>0.0</td>\n",
       "      <td>33</td>\n",
       "      <td>Bechalor</td>\n",
       "      <td>female</td>\n",
       "      <td>Friday</td>\n",
       "      <td>September</td>\n",
       "      <td>October</td>\n",
       "      <td>17 days 16:58:00</td>\n",
       "      <td>September</td>\n",
       "      <td>Thursday</td>\n",
       "      <td>29</td>\n",
       "    </tr>\n",
       "    <tr>\n",
       "      <th>3</th>\n",
       "      <td>xqd20160004</td>\n",
       "      <td>PAIDOFF</td>\n",
       "      <td>1000</td>\n",
       "      <td>15</td>\n",
       "      <td>2016-09-08</td>\n",
       "      <td>20:00</td>\n",
       "      <td>Thursday</td>\n",
       "      <td>2016-09-22</td>\n",
       "      <td>2016-09-22 20:00:00</td>\n",
       "      <td>0.0</td>\n",
       "      <td>27</td>\n",
       "      <td>college</td>\n",
       "      <td>male</td>\n",
       "      <td>Thursday</td>\n",
       "      <td>September</td>\n",
       "      <td>September</td>\n",
       "      <td>14 days 20:00:00</td>\n",
       "      <td>September</td>\n",
       "      <td>Thursday</td>\n",
       "      <td>14</td>\n",
       "    </tr>\n",
       "    <tr>\n",
       "      <th>4</th>\n",
       "      <td>xqd20160005</td>\n",
       "      <td>PAIDOFF</td>\n",
       "      <td>1000</td>\n",
       "      <td>30</td>\n",
       "      <td>2016-09-09</td>\n",
       "      <td>21:36</td>\n",
       "      <td>Friday</td>\n",
       "      <td>2016-10-08</td>\n",
       "      <td>2016-09-23 21:36:00</td>\n",
       "      <td>0.0</td>\n",
       "      <td>28</td>\n",
       "      <td>college</td>\n",
       "      <td>female</td>\n",
       "      <td>Saturday</td>\n",
       "      <td>September</td>\n",
       "      <td>October</td>\n",
       "      <td>14 days 21:36:00</td>\n",
       "      <td>September</td>\n",
       "      <td>Friday</td>\n",
       "      <td>29</td>\n",
       "    </tr>\n",
       "    <tr>\n",
       "      <th>...</th>\n",
       "      <td>...</td>\n",
       "      <td>...</td>\n",
       "      <td>...</td>\n",
       "      <td>...</td>\n",
       "      <td>...</td>\n",
       "      <td>...</td>\n",
       "      <td>...</td>\n",
       "      <td>...</td>\n",
       "      <td>...</td>\n",
       "      <td>...</td>\n",
       "      <td>...</td>\n",
       "      <td>...</td>\n",
       "      <td>...</td>\n",
       "      <td>...</td>\n",
       "      <td>...</td>\n",
       "      <td>...</td>\n",
       "      <td>...</td>\n",
       "      <td>...</td>\n",
       "      <td>...</td>\n",
       "      <td>...</td>\n",
       "    </tr>\n",
       "    <tr>\n",
       "      <th>495</th>\n",
       "      <td>xqd20160496</td>\n",
       "      <td>COLLECTION_PAIDOFF</td>\n",
       "      <td>1000</td>\n",
       "      <td>30</td>\n",
       "      <td>2016-09-12</td>\n",
       "      <td>19:08</td>\n",
       "      <td>Friday</td>\n",
       "      <td>2016-10-11</td>\n",
       "      <td>2016-10-14 19:08:00</td>\n",
       "      <td>3.0</td>\n",
       "      <td>28</td>\n",
       "      <td>High School or Below</td>\n",
       "      <td>male</td>\n",
       "      <td>Tuesday</td>\n",
       "      <td>October</td>\n",
       "      <td>October</td>\n",
       "      <td>32 days 19:08:00</td>\n",
       "      <td>September</td>\n",
       "      <td>Monday</td>\n",
       "      <td>29</td>\n",
       "    </tr>\n",
       "    <tr>\n",
       "      <th>496</th>\n",
       "      <td>xqd20160497</td>\n",
       "      <td>COLLECTION_PAIDOFF</td>\n",
       "      <td>1000</td>\n",
       "      <td>15</td>\n",
       "      <td>2016-09-12</td>\n",
       "      <td>20:02:00</td>\n",
       "      <td>Monday</td>\n",
       "      <td>2016-09-26</td>\n",
       "      <td>2016-10-10 20:02:00</td>\n",
       "      <td>14.0</td>\n",
       "      <td>26</td>\n",
       "      <td>High School or Below</td>\n",
       "      <td>male</td>\n",
       "      <td>Monday</td>\n",
       "      <td>October</td>\n",
       "      <td>September</td>\n",
       "      <td>28 days 20:02:00</td>\n",
       "      <td>September</td>\n",
       "      <td>Monday</td>\n",
       "      <td>14</td>\n",
       "    </tr>\n",
       "    <tr>\n",
       "      <th>497</th>\n",
       "      <td>xqd20160498</td>\n",
       "      <td>COLLECTION_PAIDOFF</td>\n",
       "      <td>800</td>\n",
       "      <td>15</td>\n",
       "      <td>2016-09-12</td>\n",
       "      <td>11:49</td>\n",
       "      <td>Thursday</td>\n",
       "      <td>2016-09-26</td>\n",
       "      <td>2016-09-29 11:49:00</td>\n",
       "      <td>3.0</td>\n",
       "      <td>30</td>\n",
       "      <td>college</td>\n",
       "      <td>male</td>\n",
       "      <td>Monday</td>\n",
       "      <td>September</td>\n",
       "      <td>September</td>\n",
       "      <td>17 days 11:49:00</td>\n",
       "      <td>September</td>\n",
       "      <td>Monday</td>\n",
       "      <td>14</td>\n",
       "    </tr>\n",
       "    <tr>\n",
       "      <th>498</th>\n",
       "      <td>xqd20160499</td>\n",
       "      <td>COLLECTION_PAIDOFF</td>\n",
       "      <td>1000</td>\n",
       "      <td>30</td>\n",
       "      <td>2016-09-12</td>\n",
       "      <td>22:40:00</td>\n",
       "      <td>Friday</td>\n",
       "      <td>2016-11-10</td>\n",
       "      <td>2016-11-11 22:40:00</td>\n",
       "      <td>1.0</td>\n",
       "      <td>38</td>\n",
       "      <td>college</td>\n",
       "      <td>female</td>\n",
       "      <td>Thursday</td>\n",
       "      <td>November</td>\n",
       "      <td>November</td>\n",
       "      <td>60 days 22:40:00</td>\n",
       "      <td>September</td>\n",
       "      <td>Monday</td>\n",
       "      <td>59</td>\n",
       "    </tr>\n",
       "    <tr>\n",
       "      <th>499</th>\n",
       "      <td>xqd20160500</td>\n",
       "      <td>COLLECTION_PAIDOFF</td>\n",
       "      <td>1000</td>\n",
       "      <td>30</td>\n",
       "      <td>2016-09-12</td>\n",
       "      <td>11:58</td>\n",
       "      <td>Wednesday</td>\n",
       "      <td>2016-10-11</td>\n",
       "      <td>2016-10-19 11:58:00</td>\n",
       "      <td>8.0</td>\n",
       "      <td>28</td>\n",
       "      <td>High School or Below</td>\n",
       "      <td>male</td>\n",
       "      <td>Tuesday</td>\n",
       "      <td>October</td>\n",
       "      <td>October</td>\n",
       "      <td>37 days 11:58:00</td>\n",
       "      <td>September</td>\n",
       "      <td>Monday</td>\n",
       "      <td>29</td>\n",
       "    </tr>\n",
       "  </tbody>\n",
       "</table>\n",
       "<p>500 rows × 20 columns</p>\n",
       "</div>"
      ],
      "text/plain": [
       "         Loan_ID         loan_status  Principal  terms effective_date  \\\n",
       "0    xqd20166231             PAIDOFF       1000     30     2016-09-08   \n",
       "1    xqd20168902             PAIDOFF       1000     30     2016-09-08   \n",
       "2    xqd20160003             PAIDOFF       1000     30     2016-09-08   \n",
       "3    xqd20160004             PAIDOFF       1000     15     2016-09-08   \n",
       "4    xqd20160005             PAIDOFF       1000     30     2016-09-09   \n",
       "..           ...                 ...        ...    ...            ...   \n",
       "495  xqd20160496  COLLECTION_PAIDOFF       1000     30     2016-09-12   \n",
       "496  xqd20160497  COLLECTION_PAIDOFF       1000     15     2016-09-12   \n",
       "497  xqd20160498  COLLECTION_PAIDOFF        800     15     2016-09-12   \n",
       "498  xqd20160499  COLLECTION_PAIDOFF       1000     30     2016-09-12   \n",
       "499  xqd20160500  COLLECTION_PAIDOFF       1000     30     2016-09-12   \n",
       "\n",
       "    paid_off_time_hours paid_off_time_datename   due_date       paid_off_time  \\\n",
       "0                 19:31              Wednesday 2016-10-07 2016-09-14 19:31:00   \n",
       "1              09:00:00                 Friday 2016-10-07 2016-10-07 09:00:00   \n",
       "2                 16:58                 Sunday 2016-10-07 2016-09-25 16:58:00   \n",
       "3                 20:00               Thursday 2016-09-22 2016-09-22 20:00:00   \n",
       "4                 21:36                 Friday 2016-10-08 2016-09-23 21:36:00   \n",
       "..                  ...                    ...        ...                 ...   \n",
       "495               19:08                 Friday 2016-10-11 2016-10-14 19:08:00   \n",
       "496            20:02:00                 Monday 2016-09-26 2016-10-10 20:02:00   \n",
       "497               11:49               Thursday 2016-09-26 2016-09-29 11:49:00   \n",
       "498            22:40:00                 Friday 2016-11-10 2016-11-11 22:40:00   \n",
       "499               11:58              Wednesday 2016-10-11 2016-10-19 11:58:00   \n",
       "\n",
       "     past_due_days  age             education  Gender Due_Date_Day  \\\n",
       "0              0.0   45  High School or Below    male       Friday   \n",
       "1              0.0   50              Bechalor  female       Friday   \n",
       "2              0.0   33              Bechalor  female       Friday   \n",
       "3              0.0   27               college    male     Thursday   \n",
       "4              0.0   28               college  female     Saturday   \n",
       "..             ...  ...                   ...     ...          ...   \n",
       "495            3.0   28  High School or Below    male      Tuesday   \n",
       "496           14.0   26  High School or Below    male       Monday   \n",
       "497            3.0   30               college    male       Monday   \n",
       "498            1.0   38               college  female     Thursday   \n",
       "499            8.0   28  High School or Below    male      Tuesday   \n",
       "\n",
       "    paid_off_time_month Due_Date_Month paid_off_time_day Effective_date_Month  \\\n",
       "0             September        October   6 days 19:31:00            September   \n",
       "1               October        October  29 days 09:00:00            September   \n",
       "2             September        October  17 days 16:58:00            September   \n",
       "3             September      September  14 days 20:00:00            September   \n",
       "4             September        October  14 days 21:36:00            September   \n",
       "..                  ...            ...               ...                  ...   \n",
       "495             October        October  32 days 19:08:00            September   \n",
       "496             October      September  28 days 20:02:00            September   \n",
       "497           September      September  17 days 11:49:00            September   \n",
       "498            November       November  60 days 22:40:00            September   \n",
       "499             October        October  37 days 11:58:00            September   \n",
       "\n",
       "    Effective_date_Day  Repayment_Time  \n",
       "0             Thursday              29  \n",
       "1             Thursday              29  \n",
       "2             Thursday              29  \n",
       "3             Thursday              14  \n",
       "4               Friday              29  \n",
       "..                 ...             ...  \n",
       "495             Monday              29  \n",
       "496             Monday              14  \n",
       "497             Monday              14  \n",
       "498             Monday              59  \n",
       "499             Monday              29  \n",
       "\n",
       "[500 rows x 20 columns]"
      ]
     },
     "execution_count": 31,
     "metadata": {},
     "output_type": "execute_result"
    }
   ],
   "source": [
    "df['Repayment_Time'] = (df['due_date'] - df['effective_date']).dt.days \n",
    "df  \n",
    "#Using .dt.days function to remove the word 'days' at the end of the repayment column input"
   ]
  },
  {
   "cell_type": "code",
   "execution_count": 32,
   "id": "724f81ba",
   "metadata": {
    "ExecuteTime": {
     "end_time": "2022-11-29T11:38:58.240780Z",
     "start_time": "2022-11-29T11:38:58.226161Z"
    }
   },
   "outputs": [
    {
     "data": {
      "text/plain": [
       "Timestamp('2016-09-09 13:45:00')"
      ]
     },
     "execution_count": 32,
     "metadata": {},
     "output_type": "execute_result"
    }
   ],
   "source": [
    "df['paid_off_time'].min()  #finding out the first instance of paid_off_time"
   ]
  },
  {
   "cell_type": "code",
   "execution_count": 33,
   "id": "77c2ceb2",
   "metadata": {
    "ExecuteTime": {
     "end_time": "2022-11-29T11:38:58.256785Z",
     "start_time": "2022-11-29T11:38:58.241744Z"
    }
   },
   "outputs": [
    {
     "data": {
      "text/plain": [
       "0      45.0\n",
       "1      50.0\n",
       "2      33.0\n",
       "3      27.0\n",
       "4      28.0\n",
       "       ... \n",
       "495    28.0\n",
       "496    26.0\n",
       "497    30.0\n",
       "498    38.0\n",
       "499    28.0\n",
       "Name: age, Length: 500, dtype: float64"
      ]
     },
     "execution_count": 33,
     "metadata": {},
     "output_type": "execute_result"
    }
   ],
   "source": [
    "df['age'].astype(float)  #changing the age type to float so it can be used in visuals"
   ]
  },
  {
   "cell_type": "code",
   "execution_count": 34,
   "id": "90f4bae6",
   "metadata": {
    "ExecuteTime": {
     "end_time": "2022-11-29T11:38:58.272448Z",
     "start_time": "2022-11-29T11:38:58.258296Z"
    }
   },
   "outputs": [
    {
     "data": {
      "text/html": [
       "<div>\n",
       "<style scoped>\n",
       "    .dataframe tbody tr th:only-of-type {\n",
       "        vertical-align: middle;\n",
       "    }\n",
       "\n",
       "    .dataframe tbody tr th {\n",
       "        vertical-align: top;\n",
       "    }\n",
       "\n",
       "    .dataframe thead th {\n",
       "        text-align: right;\n",
       "    }\n",
       "</style>\n",
       "<table border=\"1\" class=\"dataframe\">\n",
       "  <thead>\n",
       "    <tr style=\"text-align: right;\">\n",
       "      <th></th>\n",
       "      <th>Loan_ID</th>\n",
       "      <th>loan_status</th>\n",
       "      <th>Principal</th>\n",
       "      <th>terms</th>\n",
       "      <th>effective_date</th>\n",
       "      <th>paid_off_time_hours</th>\n",
       "      <th>paid_off_time_datename</th>\n",
       "      <th>due_date</th>\n",
       "      <th>paid_off_time</th>\n",
       "      <th>past_due_days</th>\n",
       "      <th>age</th>\n",
       "      <th>education</th>\n",
       "      <th>Gender</th>\n",
       "      <th>Due_Date_Day</th>\n",
       "      <th>paid_off_time_month</th>\n",
       "      <th>Due_Date_Month</th>\n",
       "      <th>paid_off_time_day</th>\n",
       "      <th>Effective_date_Month</th>\n",
       "      <th>Effective_date_Day</th>\n",
       "      <th>Repayment_Time</th>\n",
       "    </tr>\n",
       "  </thead>\n",
       "  <tbody>\n",
       "    <tr>\n",
       "      <th>0</th>\n",
       "      <td>xqd20166231</td>\n",
       "      <td>PAIDOFF</td>\n",
       "      <td>1000</td>\n",
       "      <td>30</td>\n",
       "      <td>2016-09-08</td>\n",
       "      <td>19:31</td>\n",
       "      <td>Wednesday</td>\n",
       "      <td>2016-10-07</td>\n",
       "      <td>2016-09-14 19:31:00</td>\n",
       "      <td>0.0</td>\n",
       "      <td>45</td>\n",
       "      <td>High School or Below</td>\n",
       "      <td>male</td>\n",
       "      <td>Friday</td>\n",
       "      <td>September</td>\n",
       "      <td>October</td>\n",
       "      <td>6 days 19:31:00</td>\n",
       "      <td>September</td>\n",
       "      <td>Thursday</td>\n",
       "      <td>29</td>\n",
       "    </tr>\n",
       "    <tr>\n",
       "      <th>1</th>\n",
       "      <td>xqd20168902</td>\n",
       "      <td>PAIDOFF</td>\n",
       "      <td>1000</td>\n",
       "      <td>30</td>\n",
       "      <td>2016-09-08</td>\n",
       "      <td>09:00:00</td>\n",
       "      <td>Friday</td>\n",
       "      <td>2016-10-07</td>\n",
       "      <td>2016-10-07 09:00:00</td>\n",
       "      <td>0.0</td>\n",
       "      <td>50</td>\n",
       "      <td>Bechalor</td>\n",
       "      <td>female</td>\n",
       "      <td>Friday</td>\n",
       "      <td>October</td>\n",
       "      <td>October</td>\n",
       "      <td>29 days 09:00:00</td>\n",
       "      <td>September</td>\n",
       "      <td>Thursday</td>\n",
       "      <td>29</td>\n",
       "    </tr>\n",
       "    <tr>\n",
       "      <th>2</th>\n",
       "      <td>xqd20160003</td>\n",
       "      <td>PAIDOFF</td>\n",
       "      <td>1000</td>\n",
       "      <td>30</td>\n",
       "      <td>2016-09-08</td>\n",
       "      <td>16:58</td>\n",
       "      <td>Sunday</td>\n",
       "      <td>2016-10-07</td>\n",
       "      <td>2016-09-25 16:58:00</td>\n",
       "      <td>0.0</td>\n",
       "      <td>33</td>\n",
       "      <td>Bechalor</td>\n",
       "      <td>female</td>\n",
       "      <td>Friday</td>\n",
       "      <td>September</td>\n",
       "      <td>October</td>\n",
       "      <td>17 days 16:58:00</td>\n",
       "      <td>September</td>\n",
       "      <td>Thursday</td>\n",
       "      <td>29</td>\n",
       "    </tr>\n",
       "    <tr>\n",
       "      <th>3</th>\n",
       "      <td>xqd20160004</td>\n",
       "      <td>PAIDOFF</td>\n",
       "      <td>1000</td>\n",
       "      <td>15</td>\n",
       "      <td>2016-09-08</td>\n",
       "      <td>20:00</td>\n",
       "      <td>Thursday</td>\n",
       "      <td>2016-09-22</td>\n",
       "      <td>2016-09-22 20:00:00</td>\n",
       "      <td>0.0</td>\n",
       "      <td>27</td>\n",
       "      <td>college</td>\n",
       "      <td>male</td>\n",
       "      <td>Thursday</td>\n",
       "      <td>September</td>\n",
       "      <td>September</td>\n",
       "      <td>14 days 20:00:00</td>\n",
       "      <td>September</td>\n",
       "      <td>Thursday</td>\n",
       "      <td>14</td>\n",
       "    </tr>\n",
       "    <tr>\n",
       "      <th>4</th>\n",
       "      <td>xqd20160005</td>\n",
       "      <td>PAIDOFF</td>\n",
       "      <td>1000</td>\n",
       "      <td>30</td>\n",
       "      <td>2016-09-09</td>\n",
       "      <td>21:36</td>\n",
       "      <td>Friday</td>\n",
       "      <td>2016-10-08</td>\n",
       "      <td>2016-09-23 21:36:00</td>\n",
       "      <td>0.0</td>\n",
       "      <td>28</td>\n",
       "      <td>college</td>\n",
       "      <td>female</td>\n",
       "      <td>Saturday</td>\n",
       "      <td>September</td>\n",
       "      <td>October</td>\n",
       "      <td>14 days 21:36:00</td>\n",
       "      <td>September</td>\n",
       "      <td>Friday</td>\n",
       "      <td>29</td>\n",
       "    </tr>\n",
       "  </tbody>\n",
       "</table>\n",
       "</div>"
      ],
      "text/plain": [
       "       Loan_ID loan_status  Principal  terms effective_date  \\\n",
       "0  xqd20166231     PAIDOFF       1000     30     2016-09-08   \n",
       "1  xqd20168902     PAIDOFF       1000     30     2016-09-08   \n",
       "2  xqd20160003     PAIDOFF       1000     30     2016-09-08   \n",
       "3  xqd20160004     PAIDOFF       1000     15     2016-09-08   \n",
       "4  xqd20160005     PAIDOFF       1000     30     2016-09-09   \n",
       "\n",
       "  paid_off_time_hours paid_off_time_datename   due_date       paid_off_time  \\\n",
       "0               19:31              Wednesday 2016-10-07 2016-09-14 19:31:00   \n",
       "1            09:00:00                 Friday 2016-10-07 2016-10-07 09:00:00   \n",
       "2               16:58                 Sunday 2016-10-07 2016-09-25 16:58:00   \n",
       "3               20:00               Thursday 2016-09-22 2016-09-22 20:00:00   \n",
       "4               21:36                 Friday 2016-10-08 2016-09-23 21:36:00   \n",
       "\n",
       "   past_due_days  age             education  Gender Due_Date_Day  \\\n",
       "0            0.0   45  High School or Below    male       Friday   \n",
       "1            0.0   50              Bechalor  female       Friday   \n",
       "2            0.0   33              Bechalor  female       Friday   \n",
       "3            0.0   27               college    male     Thursday   \n",
       "4            0.0   28               college  female     Saturday   \n",
       "\n",
       "  paid_off_time_month Due_Date_Month paid_off_time_day Effective_date_Month  \\\n",
       "0           September        October   6 days 19:31:00            September   \n",
       "1             October        October  29 days 09:00:00            September   \n",
       "2           September        October  17 days 16:58:00            September   \n",
       "3           September      September  14 days 20:00:00            September   \n",
       "4           September        October  14 days 21:36:00            September   \n",
       "\n",
       "  Effective_date_Day  Repayment_Time  \n",
       "0           Thursday              29  \n",
       "1           Thursday              29  \n",
       "2           Thursday              29  \n",
       "3           Thursday              14  \n",
       "4             Friday              29  "
      ]
     },
     "execution_count": 34,
     "metadata": {},
     "output_type": "execute_result"
    }
   ],
   "source": [
    "df.head()"
   ]
  },
  {
   "cell_type": "code",
   "execution_count": 35,
   "id": "d432f841",
   "metadata": {
    "ExecuteTime": {
     "end_time": "2022-11-29T11:38:58.287819Z",
     "start_time": "2022-11-29T11:38:58.274827Z"
    }
   },
   "outputs": [
    {
     "data": {
      "text/plain": [
       "(500, 20)"
      ]
     },
     "execution_count": 35,
     "metadata": {},
     "output_type": "execute_result"
    }
   ],
   "source": [
    "df.shape #20 columns - we can now drop some columns"
   ]
  },
  {
   "cell_type": "code",
   "execution_count": 36,
   "id": "4692274c",
   "metadata": {
    "ExecuteTime": {
     "end_time": "2022-11-29T11:38:58.302946Z",
     "start_time": "2022-11-29T11:38:58.288779Z"
    }
   },
   "outputs": [],
   "source": [
    "df = df.drop('Loan_ID', axis=1) #axis=1 identifies that it is in the column position  "
   ]
  },
  {
   "cell_type": "code",
   "execution_count": 37,
   "id": "b921d53b",
   "metadata": {
    "ExecuteTime": {
     "end_time": "2022-11-29T11:38:58.318942Z",
     "start_time": "2022-11-29T11:38:58.304544Z"
    }
   },
   "outputs": [],
   "source": [
    "#Can now drop the columns that are not needed \n",
    "df = df.drop('effective_date', axis=1) #axis=1 identifies that it is in the column position"
   ]
  },
  {
   "cell_type": "code",
   "execution_count": 38,
   "id": "d66432bb",
   "metadata": {
    "ExecuteTime": {
     "end_time": "2022-11-29T11:38:58.334395Z",
     "start_time": "2022-11-29T11:38:58.320519Z"
    }
   },
   "outputs": [],
   "source": [
    "df = df.drop('due_date', axis=1) #dropping due date column"
   ]
  },
  {
   "cell_type": "code",
   "execution_count": 39,
   "id": "4203beb7",
   "metadata": {
    "ExecuteTime": {
     "end_time": "2022-11-29T11:38:58.349489Z",
     "start_time": "2022-11-29T11:38:58.335930Z"
    }
   },
   "outputs": [],
   "source": [
    "df = df.drop('paid_off_time', axis=1) #dropping the paid off time column"
   ]
  },
  {
   "cell_type": "code",
   "execution_count": 40,
   "id": "0edea3ad",
   "metadata": {
    "ExecuteTime": {
     "end_time": "2022-11-29T11:38:58.365681Z",
     "start_time": "2022-11-29T11:38:58.350496Z"
    }
   },
   "outputs": [
    {
     "data": {
      "text/html": [
       "<div>\n",
       "<style scoped>\n",
       "    .dataframe tbody tr th:only-of-type {\n",
       "        vertical-align: middle;\n",
       "    }\n",
       "\n",
       "    .dataframe tbody tr th {\n",
       "        vertical-align: top;\n",
       "    }\n",
       "\n",
       "    .dataframe thead th {\n",
       "        text-align: right;\n",
       "    }\n",
       "</style>\n",
       "<table border=\"1\" class=\"dataframe\">\n",
       "  <thead>\n",
       "    <tr style=\"text-align: right;\">\n",
       "      <th></th>\n",
       "      <th>loan_status</th>\n",
       "      <th>Principal</th>\n",
       "      <th>terms</th>\n",
       "      <th>paid_off_time_hours</th>\n",
       "      <th>paid_off_time_datename</th>\n",
       "      <th>past_due_days</th>\n",
       "      <th>age</th>\n",
       "      <th>education</th>\n",
       "      <th>Gender</th>\n",
       "      <th>Due_Date_Day</th>\n",
       "      <th>paid_off_time_month</th>\n",
       "      <th>Due_Date_Month</th>\n",
       "      <th>paid_off_time_day</th>\n",
       "      <th>Effective_date_Month</th>\n",
       "      <th>Effective_date_Day</th>\n",
       "      <th>Repayment_Time</th>\n",
       "    </tr>\n",
       "  </thead>\n",
       "  <tbody>\n",
       "    <tr>\n",
       "      <th>0</th>\n",
       "      <td>PAIDOFF</td>\n",
       "      <td>1000</td>\n",
       "      <td>30</td>\n",
       "      <td>19:31</td>\n",
       "      <td>Wednesday</td>\n",
       "      <td>0.0</td>\n",
       "      <td>45</td>\n",
       "      <td>High School or Below</td>\n",
       "      <td>male</td>\n",
       "      <td>Friday</td>\n",
       "      <td>September</td>\n",
       "      <td>October</td>\n",
       "      <td>6 days 19:31:00</td>\n",
       "      <td>September</td>\n",
       "      <td>Thursday</td>\n",
       "      <td>29</td>\n",
       "    </tr>\n",
       "    <tr>\n",
       "      <th>1</th>\n",
       "      <td>PAIDOFF</td>\n",
       "      <td>1000</td>\n",
       "      <td>30</td>\n",
       "      <td>09:00:00</td>\n",
       "      <td>Friday</td>\n",
       "      <td>0.0</td>\n",
       "      <td>50</td>\n",
       "      <td>Bechalor</td>\n",
       "      <td>female</td>\n",
       "      <td>Friday</td>\n",
       "      <td>October</td>\n",
       "      <td>October</td>\n",
       "      <td>29 days 09:00:00</td>\n",
       "      <td>September</td>\n",
       "      <td>Thursday</td>\n",
       "      <td>29</td>\n",
       "    </tr>\n",
       "    <tr>\n",
       "      <th>2</th>\n",
       "      <td>PAIDOFF</td>\n",
       "      <td>1000</td>\n",
       "      <td>30</td>\n",
       "      <td>16:58</td>\n",
       "      <td>Sunday</td>\n",
       "      <td>0.0</td>\n",
       "      <td>33</td>\n",
       "      <td>Bechalor</td>\n",
       "      <td>female</td>\n",
       "      <td>Friday</td>\n",
       "      <td>September</td>\n",
       "      <td>October</td>\n",
       "      <td>17 days 16:58:00</td>\n",
       "      <td>September</td>\n",
       "      <td>Thursday</td>\n",
       "      <td>29</td>\n",
       "    </tr>\n",
       "    <tr>\n",
       "      <th>3</th>\n",
       "      <td>PAIDOFF</td>\n",
       "      <td>1000</td>\n",
       "      <td>15</td>\n",
       "      <td>20:00</td>\n",
       "      <td>Thursday</td>\n",
       "      <td>0.0</td>\n",
       "      <td>27</td>\n",
       "      <td>college</td>\n",
       "      <td>male</td>\n",
       "      <td>Thursday</td>\n",
       "      <td>September</td>\n",
       "      <td>September</td>\n",
       "      <td>14 days 20:00:00</td>\n",
       "      <td>September</td>\n",
       "      <td>Thursday</td>\n",
       "      <td>14</td>\n",
       "    </tr>\n",
       "    <tr>\n",
       "      <th>4</th>\n",
       "      <td>PAIDOFF</td>\n",
       "      <td>1000</td>\n",
       "      <td>30</td>\n",
       "      <td>21:36</td>\n",
       "      <td>Friday</td>\n",
       "      <td>0.0</td>\n",
       "      <td>28</td>\n",
       "      <td>college</td>\n",
       "      <td>female</td>\n",
       "      <td>Saturday</td>\n",
       "      <td>September</td>\n",
       "      <td>October</td>\n",
       "      <td>14 days 21:36:00</td>\n",
       "      <td>September</td>\n",
       "      <td>Friday</td>\n",
       "      <td>29</td>\n",
       "    </tr>\n",
       "  </tbody>\n",
       "</table>\n",
       "</div>"
      ],
      "text/plain": [
       "  loan_status  Principal  terms paid_off_time_hours paid_off_time_datename  \\\n",
       "0     PAIDOFF       1000     30               19:31              Wednesday   \n",
       "1     PAIDOFF       1000     30            09:00:00                 Friday   \n",
       "2     PAIDOFF       1000     30               16:58                 Sunday   \n",
       "3     PAIDOFF       1000     15               20:00               Thursday   \n",
       "4     PAIDOFF       1000     30               21:36                 Friday   \n",
       "\n",
       "   past_due_days  age             education  Gender Due_Date_Day  \\\n",
       "0            0.0   45  High School or Below    male       Friday   \n",
       "1            0.0   50              Bechalor  female       Friday   \n",
       "2            0.0   33              Bechalor  female       Friday   \n",
       "3            0.0   27               college    male     Thursday   \n",
       "4            0.0   28               college  female     Saturday   \n",
       "\n",
       "  paid_off_time_month Due_Date_Month paid_off_time_day Effective_date_Month  \\\n",
       "0           September        October   6 days 19:31:00            September   \n",
       "1             October        October  29 days 09:00:00            September   \n",
       "2           September        October  17 days 16:58:00            September   \n",
       "3           September      September  14 days 20:00:00            September   \n",
       "4           September        October  14 days 21:36:00            September   \n",
       "\n",
       "  Effective_date_Day  Repayment_Time  \n",
       "0           Thursday              29  \n",
       "1           Thursday              29  \n",
       "2           Thursday              29  \n",
       "3           Thursday              14  \n",
       "4             Friday              29  "
      ]
     },
     "execution_count": 40,
     "metadata": {},
     "output_type": "execute_result"
    }
   ],
   "source": [
    "df.head() #viewing the final dataframe that has been cleaned"
   ]
  },
  {
   "cell_type": "code",
   "execution_count": 41,
   "id": "e4192aeb",
   "metadata": {
    "ExecuteTime": {
     "end_time": "2022-11-29T11:38:58.381357Z",
     "start_time": "2022-11-29T11:38:58.368280Z"
    }
   },
   "outputs": [
    {
     "data": {
      "text/plain": [
       "(500, 16)"
      ]
     },
     "execution_count": 41,
     "metadata": {},
     "output_type": "execute_result"
    }
   ],
   "source": [
    "df.shape #final cleaned dataframe has 500 rows and 16 columns after dropping"
   ]
  },
  {
   "cell_type": "code",
   "execution_count": 42,
   "id": "3f3d3350",
   "metadata": {
    "ExecuteTime": {
     "end_time": "2022-11-29T11:38:58.397042Z",
     "start_time": "2022-11-29T11:38:58.383334Z"
    }
   },
   "outputs": [],
   "source": [
    "#exporting the csv\n",
    "df.to_csv('Loans data edited.csv')  "
   ]
  },
  {
   "cell_type": "markdown",
   "id": "c946ea7a",
   "metadata": {},
   "source": [
    "### Visulisations with Seaborn "
   ]
  },
  {
   "cell_type": "code",
   "execution_count": 43,
   "id": "126fbf2e",
   "metadata": {
    "ExecuteTime": {
     "end_time": "2022-11-29T11:38:59.713426Z",
     "start_time": "2022-11-29T11:38:58.402031Z"
    }
   },
   "outputs": [
    {
     "data": {
      "image/png": "[encoded data removed]",
      "text/plain": [
       "<Figure size 900x900 with 20 Axes>"
      ]
     },
     "metadata": {
      "needs_background": "light"
     },
     "output_type": "display_data"
    }
   ],
   "source": [
    "#PairPlot\n",
    "sns.pairplot(data=df, corner=True); "
   ]
  },
  {
   "cell_type": "code",
   "execution_count": 44,
   "id": "26ca545f",
   "metadata": {
    "ExecuteTime": {
     "end_time": "2022-11-29T11:38:59.839131Z",
     "start_time": "2022-11-29T11:38:59.714414Z"
    }
   },
   "outputs": [
    {
     "data": {
      "image/png": "[encoded data removed]",
      "text/plain": [
       "<Figure size 432x288 with 2 Axes>"
      ]
     },
     "metadata": {
      "needs_background": "light"
     },
     "output_type": "display_data"
    }
   ],
   "source": [
    "#HeatMap\n",
    "sns.heatmap(df.corr(),annot=True,cmap=\"RdYlGn\"); \n",
    "#increasing fig size  \n",
    "#terms and principal have the strongest correlations\n",
    "#terms and repayment time also has a strong correlation"
   ]
  },
  {
   "cell_type": "code",
   "execution_count": 45,
   "id": "b4621776",
   "metadata": {
    "ExecuteTime": {
     "end_time": "2022-11-29T11:38:59.854959Z",
     "start_time": "2022-11-29T11:38:59.840247Z"
    }
   },
   "outputs": [
    {
     "data": {
      "text/plain": [
       "26    46\n",
       "29    42\n",
       "27    38\n",
       "30    37\n",
       "28    32\n",
       "33    30\n",
       "35    26\n",
       "34    25\n",
       "24    23\n",
       "31    22\n",
       "32    20\n",
       "25    20\n",
       "37    19\n",
       "38    19\n",
       "36    14\n",
       "23    10\n",
       "39    10\n",
       "40     8\n",
       "22     8\n",
       "21     7\n",
       "41     5\n",
       "46     5\n",
       "45     5\n",
       "43     5\n",
       "44     4\n",
       "50     4\n",
       "20     4\n",
       "42     4\n",
       "47     3\n",
       "19     2\n",
       "51     1\n",
       "18     1\n",
       "49     1\n",
       "Name: age, dtype: int64"
      ]
     },
     "execution_count": 45,
     "metadata": {},
     "output_type": "execute_result"
    }
   ],
   "source": [
    "df['age'].value_counts() #viewing the most common age to take out a loan "
   ]
  },
  {
   "cell_type": "code",
   "execution_count": 46,
   "id": "eefd32e0",
   "metadata": {
    "ExecuteTime": {
     "end_time": "2022-11-29T11:38:59.964569Z",
     "start_time": "2022-11-29T11:38:59.856406Z"
    }
   },
   "outputs": [
    {
     "data": {
      "image/png": "[encoded data removed]",
      "text/plain": [
       "<Figure size 1080x720 with 1 Axes>"
      ]
     },
     "metadata": {
      "needs_background": "light"
     },
     "output_type": "display_data"
    }
   ],
   "source": [
    "#Age distribution - Hist Plot\n",
    "plt.figure(figsize=(15,10))  \n",
    "sns.histplot(data=df, x='age').set(title='Age Distribution'); \n",
    "#Most common ages to take out a loan in 2016 is from the ages of 26-30\n",
    "#26 year olds being the most likely to take out a loan\n",
    " \n"
   ]
  },
  {
   "cell_type": "code",
   "execution_count": 47,
   "id": "bd002794",
   "metadata": {
    "ExecuteTime": {
     "end_time": "2022-11-29T11:38:59.980065Z",
     "start_time": "2022-11-29T11:38:59.966440Z"
    }
   },
   "outputs": [
    {
     "data": {
      "text/plain": [
       "51"
      ]
     },
     "execution_count": 47,
     "metadata": {},
     "output_type": "execute_result"
    }
   ],
   "source": [
    "df['age'].max() "
   ]
  },
  {
   "cell_type": "code",
   "execution_count": 48,
   "id": "9c556b90",
   "metadata": {
    "ExecuteTime": {
     "end_time": "2022-11-29T11:38:59.995560Z",
     "start_time": "2022-11-29T11:38:59.981459Z"
    }
   },
   "outputs": [
    {
     "data": {
      "text/plain": [
       "Gender\n",
       "male      423\n",
       "female     77\n",
       "dtype: int64"
      ]
     },
     "execution_count": 48,
     "metadata": {},
     "output_type": "execute_result"
    }
   ],
   "source": [
    "gender = df.value_counts('Gender') \n",
    "gender \n"
   ]
  },
  {
   "cell_type": "code",
   "execution_count": 49,
   "id": "6d8b9834",
   "metadata": {
    "ExecuteTime": {
     "end_time": "2022-11-29T11:39:00.073530Z",
     "start_time": "2022-11-29T11:38:59.996570Z"
    }
   },
   "outputs": [
    {
     "data": {
      "image/png": "[encoded data removed]",
      "text/plain": [
       "<Figure size 432x288 with 1 Axes>"
      ]
     },
     "metadata": {},
     "output_type": "display_data"
    }
   ],
   "source": [
    "#Gender Split - Doughnut Chart\n",
    "explode=[0.02,0.02]\n",
    "colors = ['#66b3ff','#ff9999']\n",
    "px = gender.plot(kind='pie', autopct='%1.1f%%',shadow=False, startangle=0, fontsize=13, explode=explode, colors=colors, pctdistance=0.85)\n",
    "px.set_title('Gender Distribution', fontsize=20)\n",
    "centre_circle = plt.Circle((0,0),0.70,fc='white')\n",
    "fig = plt.gcf()\n",
    "fig.gca().add_artist(centre_circle)\n",
    "px.axis('equal')\n",
    "plt.tight_layout() \n",
    "plt.show()  "
   ]
  },
  {
   "cell_type": "code",
   "execution_count": 50,
   "id": "9717de33",
   "metadata": {
    "ExecuteTime": {
     "end_time": "2022-11-29T11:39:00.088923Z",
     "start_time": "2022-11-29T11:39:00.075243Z"
    }
   },
   "outputs": [
    {
     "data": {
      "text/plain": [
       "college                 220\n",
       "High School or Below    209\n",
       "Bechalor                 67\n",
       "Master or Above           4\n",
       "Name: education, dtype: int64"
      ]
     },
     "execution_count": 50,
     "metadata": {},
     "output_type": "execute_result"
    }
   ],
   "source": [
    "df['education'].value_counts()  \n",
    "#3 - High school or below\n",
    "#2 - Masters and above\n",
    "#1 - College \n",
    "#0 Bachelors"
   ]
  },
  {
   "cell_type": "code",
   "execution_count": 51,
   "id": "cc7bf385",
   "metadata": {
    "ExecuteTime": {
     "end_time": "2022-11-29T11:39:00.277076Z",
     "start_time": "2022-11-29T11:39:00.089932Z"
    }
   },
   "outputs": [
    {
     "data": {
      "image/png": "[encoded data removed]",
      "text/plain": [
       "<Figure size 864x576 with 1 Axes>"
      ]
     },
     "metadata": {
      "needs_background": "light"
     },
     "output_type": "display_data"
    }
   ],
   "source": [
    "# plotting loan_staus with respect to Education\n",
    "plt.figure(figsize=(12,8))\n",
    "ax = sns.countplot(data=df, x='education',hue='loan_status', palette='Set1') \n",
    "ax.set_xlabel(\"Education Level\",fontsize=15)\n",
    "ax.set_ylabel(\"Total\",fontsize=15)  \n",
    "ax.tick_params(labelsize=12)    \n",
    "plt.setp(ax.get_legend().get_texts(), fontsize='18')\n",
    "plt.setp(ax.get_legend().get_title(), fontsize='20')\n",
    "ax.set_title(\"Level of Education and Loan Status\", fontsize=25);  "
   ]
  },
  {
   "cell_type": "code",
   "execution_count": 52,
   "id": "d76fd5d3",
   "metadata": {
    "ExecuteTime": {
     "end_time": "2022-11-29T11:39:00.511785Z",
     "start_time": "2022-11-29T11:39:00.279023Z"
    }
   },
   "outputs": [
    {
     "data": {
      "image/png": "[encoded data removed]",
      "text/plain": [
       "<Figure size 1440x720 with 1 Axes>"
      ]
     },
     "metadata": {
      "needs_background": "light"
     },
     "output_type": "display_data"
    }
   ],
   "source": [
    "plt.figure(figsize=(20,10))\n",
    "op = sns.countplot(data=df, x='age',hue='loan_status', palette='Set1')\n",
    "op.set_xlabel(\"Age\",fontsize=25)\n",
    "op.set_ylabel(\"Total\",fontsize=25) \n",
    "plt.legend(loc='upper right', fontsize=20) \n",
    "op.tick_params(labelsize=20);    \n",
    "#Most people have paid off their loans\n",
    "#26-29 year olds being the most reliable\n",
    "#min age required to take out a loan is 18 years old\n",
    "#no one older than 51 took out a loan in this 2016 dataset\n"
   ]
  },
  {
   "cell_type": "code",
   "execution_count": 53,
   "id": "6c25e158",
   "metadata": {
    "ExecuteTime": {
     "end_time": "2022-11-29T11:39:00.591776Z",
     "start_time": "2022-11-29T11:39:00.513103Z"
    },
    "scrolled": true
   },
   "outputs": [
    {
     "data": {
      "image/png": "[encoded data removed]",
      "text/plain": [
       "<Figure size 432x288 with 1 Axes>"
      ]
     },
     "metadata": {
      "needs_background": "light"
     },
     "output_type": "display_data"
    }
   ],
   "source": [
    "df.groupby(['Repayment_Time']).size().plot(kind = \"bar\", color='0.8') \n",
    "plt.xticks(rotation=0)\n",
    "plt.title('Loan Repayment Time') \n",
    "plt.xlabel('Repayment time (Days)')\n",
    "plt.ylabel('Count'); \n",
    "#29 days for the repayment time most common\n",
    "#little as 6 days to pay to 59 days to pay "
   ]
  },
  {
   "cell_type": "code",
   "execution_count": 54,
   "id": "4963f696",
   "metadata": {
    "ExecuteTime": {
     "end_time": "2022-11-29T11:39:00.668415Z",
     "start_time": "2022-11-29T11:39:00.592775Z"
    }
   },
   "outputs": [
    {
     "data": {
      "image/png": "[encoded data removed]",
      "text/plain": [
       "<Figure size 432x288 with 1 Axes>"
      ]
     },
     "metadata": {
      "needs_background": "light"
     },
     "output_type": "display_data"
    }
   ],
   "source": [
    "df.groupby(['Due_Date_Month']).size().plot(kind = \"bar\", color='c') \n",
    "plt.xticks(rotation=0)\n",
    "plt.title('Month when the Loan is due') \n",
    "plt.xlabel('Month')\n",
    "plt.ylabel('Count');   \n",
    "#October is the month when the loans are due\n",
    "#There are only 3 months - sept, oct, novemeber"
   ]
  },
  {
   "cell_type": "code",
   "execution_count": 55,
   "id": "ec166976",
   "metadata": {
    "ExecuteTime": {
     "end_time": "2022-11-29T11:39:00.729525Z",
     "start_time": "2022-11-29T11:39:00.669419Z"
    }
   },
   "outputs": [
    {
     "data": {
      "image/png": "[encoded data removed]",
      "text/plain": [
       "<Figure size 432x288 with 1 Axes>"
      ]
     },
     "metadata": {
      "needs_background": "light"
     },
     "output_type": "display_data"
    }
   ],
   "source": [
    "df.groupby(['Effective_date_Month']).size().plot(kind = \"bar\", color='lightblue')  \n",
    "plt.xticks(rotation=0)\n",
    "plt.title('Month when the Loan starts') \n",
    "plt.xlabel('Month')\n",
    "plt.ylabel('Count');  \n",
    "#All loans are given in September "
   ]
  },
  {
   "cell_type": "code",
   "execution_count": 56,
   "id": "fc42beae",
   "metadata": {
    "ExecuteTime": {
     "end_time": "2022-11-29T11:39:00.808253Z",
     "start_time": "2022-11-29T11:39:00.730413Z"
    }
   },
   "outputs": [
    {
     "data": {
      "image/png": "[encoded data removed]",
      "text/plain": [
       "<Figure size 432x288 with 1 Axes>"
      ]
     },
     "metadata": {
      "needs_background": "light"
     },
     "output_type": "display_data"
    }
   ],
   "source": [
    "df.groupby(['paid_off_time_month']).size().plot(kind = \"bar\", color='darkviolet')  \n",
    "plt.xticks(rotation=0)\n",
    "plt.title('Month Loan is Paid Off') \n",
    "plt.xlabel('Month')\n",
    "plt.ylabel('Count');  \n",
    "#Loans are paid off mainly in September from 2016 dataset"
   ]
  },
  {
   "cell_type": "code",
   "execution_count": 57,
   "id": "cda230de",
   "metadata": {
    "ExecuteTime": {
     "end_time": "2022-11-29T11:39:00.887890Z",
     "start_time": "2022-11-29T11:39:00.809185Z"
    }
   },
   "outputs": [
    {
     "data": {
      "image/png": "[encoded data removed]",
      "text/plain": [
       "<Figure size 432x288 with 1 Axes>"
      ]
     },
     "metadata": {
      "needs_background": "light"
     },
     "output_type": "display_data"
    }
   ],
   "source": [
    "df.groupby(['paid_off_time_datename']).size().plot(kind = \"bar\", color='lightblue')\n",
    "plt.title('Day Loan is Paid Off') \n",
    "plt.xlabel('Day')   \n",
    "plt.ylabel('Count');  \n",
    "#Monday most likely for loan to be paid off"
   ]
  },
  {
   "cell_type": "code",
   "execution_count": 58,
   "id": "eb118ee2",
   "metadata": {
    "ExecuteTime": {
     "end_time": "2022-11-29T11:39:01.216781Z",
     "start_time": "2022-11-29T11:39:00.888996Z"
    }
   },
   "outputs": [
    {
     "name": "stderr",
     "output_type": "stream",
     "text": [
      "C:\\ProgramData\\Anaconda3\\lib\\site-packages\\seaborn\\distributions.py:2619: FutureWarning: `distplot` is a deprecated function and will be removed in a future version. Please adapt your code to use either `displot` (a figure-level function with similar flexibility) or `histplot` (an axes-level function for histograms).\n",
      "  warnings.warn(msg, FutureWarning)\n"
     ]
    },
    {
     "data": {
      "image/png": "[encoded data removed]",
      "text/plain": [
       "<Figure size 432x288 with 1 Axes>"
      ]
     },
     "metadata": {
      "needs_background": "light"
     },
     "output_type": "display_data"
    }
   ],
   "source": [
    "sns.distplot(df.Principal, color='b');\n",
    "#Basic principal loan amount at the origination \n",
    "#Most people took out a loan of £1000 "
   ]
  },
  {
   "cell_type": "code",
   "execution_count": 59,
   "id": "1975f102",
   "metadata": {
    "ExecuteTime": {
     "end_time": "2022-11-29T11:39:01.232728Z",
     "start_time": "2022-11-29T11:39:01.217784Z"
    }
   },
   "outputs": [
    {
     "data": {
      "text/plain": [
       "1000    377\n",
       "800     111\n",
       "300       6\n",
       "500       3\n",
       "900       2\n",
       "700       1\n",
       "Name: Principal, dtype: int64"
      ]
     },
     "execution_count": 59,
     "metadata": {},
     "output_type": "execute_result"
    }
   ],
   "source": [
    "df['Principal'].value_counts() "
   ]
  },
  {
   "cell_type": "markdown",
   "id": "70d39b3a",
   "metadata": {},
   "source": [
    "## Train-Test-Split"
   ]
  },
  {
   "cell_type": "code",
   "execution_count": 60,
   "id": "5a33b55a",
   "metadata": {
    "ExecuteTime": {
     "end_time": "2022-11-29T11:39:01.247996Z",
     "start_time": "2022-11-29T11:39:01.234281Z"
    },
    "scrolled": true
   },
   "outputs": [
    {
     "data": {
      "text/html": [
       "<div>\n",
       "<style scoped>\n",
       "    .dataframe tbody tr th:only-of-type {\n",
       "        vertical-align: middle;\n",
       "    }\n",
       "\n",
       "    .dataframe tbody tr th {\n",
       "        vertical-align: top;\n",
       "    }\n",
       "\n",
       "    .dataframe thead th {\n",
       "        text-align: right;\n",
       "    }\n",
       "</style>\n",
       "<table border=\"1\" class=\"dataframe\">\n",
       "  <thead>\n",
       "    <tr style=\"text-align: right;\">\n",
       "      <th></th>\n",
       "      <th>loan_status</th>\n",
       "      <th>Principal</th>\n",
       "      <th>terms</th>\n",
       "      <th>paid_off_time_hours</th>\n",
       "      <th>paid_off_time_datename</th>\n",
       "      <th>past_due_days</th>\n",
       "      <th>age</th>\n",
       "      <th>education</th>\n",
       "      <th>Gender</th>\n",
       "      <th>Due_Date_Day</th>\n",
       "      <th>paid_off_time_month</th>\n",
       "      <th>Due_Date_Month</th>\n",
       "      <th>paid_off_time_day</th>\n",
       "      <th>Effective_date_Month</th>\n",
       "      <th>Effective_date_Day</th>\n",
       "      <th>Repayment_Time</th>\n",
       "    </tr>\n",
       "  </thead>\n",
       "  <tbody>\n",
       "    <tr>\n",
       "      <th>0</th>\n",
       "      <td>PAIDOFF</td>\n",
       "      <td>1000</td>\n",
       "      <td>30</td>\n",
       "      <td>19:31</td>\n",
       "      <td>Wednesday</td>\n",
       "      <td>0.0</td>\n",
       "      <td>45</td>\n",
       "      <td>High School or Below</td>\n",
       "      <td>male</td>\n",
       "      <td>Friday</td>\n",
       "      <td>September</td>\n",
       "      <td>October</td>\n",
       "      <td>6 days 19:31:00</td>\n",
       "      <td>September</td>\n",
       "      <td>Thursday</td>\n",
       "      <td>29</td>\n",
       "    </tr>\n",
       "    <tr>\n",
       "      <th>1</th>\n",
       "      <td>PAIDOFF</td>\n",
       "      <td>1000</td>\n",
       "      <td>30</td>\n",
       "      <td>09:00:00</td>\n",
       "      <td>Friday</td>\n",
       "      <td>0.0</td>\n",
       "      <td>50</td>\n",
       "      <td>Bechalor</td>\n",
       "      <td>female</td>\n",
       "      <td>Friday</td>\n",
       "      <td>October</td>\n",
       "      <td>October</td>\n",
       "      <td>29 days 09:00:00</td>\n",
       "      <td>September</td>\n",
       "      <td>Thursday</td>\n",
       "      <td>29</td>\n",
       "    </tr>\n",
       "    <tr>\n",
       "      <th>2</th>\n",
       "      <td>PAIDOFF</td>\n",
       "      <td>1000</td>\n",
       "      <td>30</td>\n",
       "      <td>16:58</td>\n",
       "      <td>Sunday</td>\n",
       "      <td>0.0</td>\n",
       "      <td>33</td>\n",
       "      <td>Bechalor</td>\n",
       "      <td>female</td>\n",
       "      <td>Friday</td>\n",
       "      <td>September</td>\n",
       "      <td>October</td>\n",
       "      <td>17 days 16:58:00</td>\n",
       "      <td>September</td>\n",
       "      <td>Thursday</td>\n",
       "      <td>29</td>\n",
       "    </tr>\n",
       "    <tr>\n",
       "      <th>3</th>\n",
       "      <td>PAIDOFF</td>\n",
       "      <td>1000</td>\n",
       "      <td>15</td>\n",
       "      <td>20:00</td>\n",
       "      <td>Thursday</td>\n",
       "      <td>0.0</td>\n",
       "      <td>27</td>\n",
       "      <td>college</td>\n",
       "      <td>male</td>\n",
       "      <td>Thursday</td>\n",
       "      <td>September</td>\n",
       "      <td>September</td>\n",
       "      <td>14 days 20:00:00</td>\n",
       "      <td>September</td>\n",
       "      <td>Thursday</td>\n",
       "      <td>14</td>\n",
       "    </tr>\n",
       "    <tr>\n",
       "      <th>4</th>\n",
       "      <td>PAIDOFF</td>\n",
       "      <td>1000</td>\n",
       "      <td>30</td>\n",
       "      <td>21:36</td>\n",
       "      <td>Friday</td>\n",
       "      <td>0.0</td>\n",
       "      <td>28</td>\n",
       "      <td>college</td>\n",
       "      <td>female</td>\n",
       "      <td>Saturday</td>\n",
       "      <td>September</td>\n",
       "      <td>October</td>\n",
       "      <td>14 days 21:36:00</td>\n",
       "      <td>September</td>\n",
       "      <td>Friday</td>\n",
       "      <td>29</td>\n",
       "    </tr>\n",
       "  </tbody>\n",
       "</table>\n",
       "</div>"
      ],
      "text/plain": [
       "  loan_status  Principal  terms paid_off_time_hours paid_off_time_datename  \\\n",
       "0     PAIDOFF       1000     30               19:31              Wednesday   \n",
       "1     PAIDOFF       1000     30            09:00:00                 Friday   \n",
       "2     PAIDOFF       1000     30               16:58                 Sunday   \n",
       "3     PAIDOFF       1000     15               20:00               Thursday   \n",
       "4     PAIDOFF       1000     30               21:36                 Friday   \n",
       "\n",
       "   past_due_days  age             education  Gender Due_Date_Day  \\\n",
       "0            0.0   45  High School or Below    male       Friday   \n",
       "1            0.0   50              Bechalor  female       Friday   \n",
       "2            0.0   33              Bechalor  female       Friday   \n",
       "3            0.0   27               college    male     Thursday   \n",
       "4            0.0   28               college  female     Saturday   \n",
       "\n",
       "  paid_off_time_month Due_Date_Month paid_off_time_day Effective_date_Month  \\\n",
       "0           September        October   6 days 19:31:00            September   \n",
       "1             October        October  29 days 09:00:00            September   \n",
       "2           September        October  17 days 16:58:00            September   \n",
       "3           September      September  14 days 20:00:00            September   \n",
       "4           September        October  14 days 21:36:00            September   \n",
       "\n",
       "  Effective_date_Day  Repayment_Time  \n",
       "0           Thursday              29  \n",
       "1           Thursday              29  \n",
       "2           Thursday              29  \n",
       "3           Thursday              14  \n",
       "4             Friday              29  "
      ]
     },
     "execution_count": 60,
     "metadata": {},
     "output_type": "execute_result"
    }
   ],
   "source": [
    "df.head() #Viewing the data types in order to determine which columns to label encode"
   ]
  },
  {
   "cell_type": "code",
   "execution_count": 61,
   "id": "97951051",
   "metadata": {
    "ExecuteTime": {
     "end_time": "2022-11-29T11:39:01.264663Z",
     "start_time": "2022-11-29T11:39:01.248993Z"
    }
   },
   "outputs": [],
   "source": [
    "#Label Encoding - selecting only the necessary columns \n",
    "from sklearn.preprocessing import LabelEncoder, OneHotEncoder\n",
    "cols = ['loan_status', 'paid_off_time_hours', 'paid_off_time_datename', 'education', 'Gender', 'Due_Date_Day', 'paid_off_time_month', 'Due_Date_Month', 'Effective_date_Month', 'Effective_date_Day']\n",
    "le = LabelEncoder() \n",
    "for col in cols: \n",
    "    df[col] = le.fit_transform(df[col])    #transforming all the selected categorical columns"
   ]
  },
  {
   "cell_type": "code",
   "execution_count": 62,
   "id": "c72fdf8b",
   "metadata": {
    "ExecuteTime": {
     "end_time": "2022-11-29T11:39:01.279637Z",
     "start_time": "2022-11-29T11:39:01.266373Z"
    }
   },
   "outputs": [
    {
     "data": {
      "text/html": [
       "<div>\n",
       "<style scoped>\n",
       "    .dataframe tbody tr th:only-of-type {\n",
       "        vertical-align: middle;\n",
       "    }\n",
       "\n",
       "    .dataframe tbody tr th {\n",
       "        vertical-align: top;\n",
       "    }\n",
       "\n",
       "    .dataframe thead th {\n",
       "        text-align: right;\n",
       "    }\n",
       "</style>\n",
       "<table border=\"1\" class=\"dataframe\">\n",
       "  <thead>\n",
       "    <tr style=\"text-align: right;\">\n",
       "      <th></th>\n",
       "      <th>loan_status</th>\n",
       "      <th>Principal</th>\n",
       "      <th>terms</th>\n",
       "      <th>paid_off_time_hours</th>\n",
       "      <th>paid_off_time_datename</th>\n",
       "      <th>past_due_days</th>\n",
       "      <th>age</th>\n",
       "      <th>education</th>\n",
       "      <th>Gender</th>\n",
       "      <th>Due_Date_Day</th>\n",
       "      <th>paid_off_time_month</th>\n",
       "      <th>Due_Date_Month</th>\n",
       "      <th>paid_off_time_day</th>\n",
       "      <th>Effective_date_Month</th>\n",
       "      <th>Effective_date_Day</th>\n",
       "      <th>Repayment_Time</th>\n",
       "    </tr>\n",
       "  </thead>\n",
       "  <tbody>\n",
       "    <tr>\n",
       "      <th>0</th>\n",
       "      <td>2</td>\n",
       "      <td>1000</td>\n",
       "      <td>30</td>\n",
       "      <td>217</td>\n",
       "      <td>6</td>\n",
       "      <td>0.0</td>\n",
       "      <td>45</td>\n",
       "      <td>1</td>\n",
       "      <td>1</td>\n",
       "      <td>0</td>\n",
       "      <td>3</td>\n",
       "      <td>1</td>\n",
       "      <td>6 days 19:31:00</td>\n",
       "      <td>0</td>\n",
       "      <td>4</td>\n",
       "      <td>29</td>\n",
       "    </tr>\n",
       "    <tr>\n",
       "      <th>1</th>\n",
       "      <td>2</td>\n",
       "      <td>1000</td>\n",
       "      <td>30</td>\n",
       "      <td>31</td>\n",
       "      <td>0</td>\n",
       "      <td>0.0</td>\n",
       "      <td>50</td>\n",
       "      <td>0</td>\n",
       "      <td>0</td>\n",
       "      <td>0</td>\n",
       "      <td>2</td>\n",
       "      <td>1</td>\n",
       "      <td>29 days 09:00:00</td>\n",
       "      <td>0</td>\n",
       "      <td>4</td>\n",
       "      <td>29</td>\n",
       "    </tr>\n",
       "    <tr>\n",
       "      <th>2</th>\n",
       "      <td>2</td>\n",
       "      <td>1000</td>\n",
       "      <td>30</td>\n",
       "      <td>185</td>\n",
       "      <td>3</td>\n",
       "      <td>0.0</td>\n",
       "      <td>33</td>\n",
       "      <td>0</td>\n",
       "      <td>0</td>\n",
       "      <td>0</td>\n",
       "      <td>3</td>\n",
       "      <td>1</td>\n",
       "      <td>17 days 16:58:00</td>\n",
       "      <td>0</td>\n",
       "      <td>4</td>\n",
       "      <td>29</td>\n",
       "    </tr>\n",
       "    <tr>\n",
       "      <th>3</th>\n",
       "      <td>2</td>\n",
       "      <td>1000</td>\n",
       "      <td>15</td>\n",
       "      <td>221</td>\n",
       "      <td>4</td>\n",
       "      <td>0.0</td>\n",
       "      <td>27</td>\n",
       "      <td>3</td>\n",
       "      <td>1</td>\n",
       "      <td>4</td>\n",
       "      <td>3</td>\n",
       "      <td>2</td>\n",
       "      <td>14 days 20:00:00</td>\n",
       "      <td>0</td>\n",
       "      <td>4</td>\n",
       "      <td>14</td>\n",
       "    </tr>\n",
       "    <tr>\n",
       "      <th>4</th>\n",
       "      <td>2</td>\n",
       "      <td>1000</td>\n",
       "      <td>30</td>\n",
       "      <td>241</td>\n",
       "      <td>0</td>\n",
       "      <td>0.0</td>\n",
       "      <td>28</td>\n",
       "      <td>3</td>\n",
       "      <td>0</td>\n",
       "      <td>2</td>\n",
       "      <td>3</td>\n",
       "      <td>1</td>\n",
       "      <td>14 days 21:36:00</td>\n",
       "      <td>0</td>\n",
       "      <td>0</td>\n",
       "      <td>29</td>\n",
       "    </tr>\n",
       "  </tbody>\n",
       "</table>\n",
       "</div>"
      ],
      "text/plain": [
       "   loan_status  Principal  terms  paid_off_time_hours  paid_off_time_datename  \\\n",
       "0            2       1000     30                  217                       6   \n",
       "1            2       1000     30                   31                       0   \n",
       "2            2       1000     30                  185                       3   \n",
       "3            2       1000     15                  221                       4   \n",
       "4            2       1000     30                  241                       0   \n",
       "\n",
       "   past_due_days  age  education  Gender  Due_Date_Day  paid_off_time_month  \\\n",
       "0            0.0   45          1       1             0                    3   \n",
       "1            0.0   50          0       0             0                    2   \n",
       "2            0.0   33          0       0             0                    3   \n",
       "3            0.0   27          3       1             4                    3   \n",
       "4            0.0   28          3       0             2                    3   \n",
       "\n",
       "   Due_Date_Month paid_off_time_day  Effective_date_Month  Effective_date_Day  \\\n",
       "0               1   6 days 19:31:00                     0                   4   \n",
       "1               1  29 days 09:00:00                     0                   4   \n",
       "2               1  17 days 16:58:00                     0                   4   \n",
       "3               2  14 days 20:00:00                     0                   4   \n",
       "4               1  14 days 21:36:00                     0                   0   \n",
       "\n",
       "   Repayment_Time  \n",
       "0              29  \n",
       "1              29  \n",
       "2              29  \n",
       "3              14  \n",
       "4              29  "
      ]
     },
     "execution_count": 62,
     "metadata": {},
     "output_type": "execute_result"
    }
   ],
   "source": [
    "df.head() #viewing the altered dataframe"
   ]
  },
  {
   "cell_type": "code",
   "execution_count": 63,
   "id": "41b7cfec",
   "metadata": {
    "ExecuteTime": {
     "end_time": "2022-11-29T11:39:01.311584Z",
     "start_time": "2022-11-29T11:39:01.280562Z"
    }
   },
   "outputs": [
    {
     "data": {
      "text/plain": [
       "(     Principal  terms  paid_off_time_hours  paid_off_time_datename  \\\n",
       " 249       1000     15                   10                       1   \n",
       " 433       1000     30                  133                       6   \n",
       " 19         800     30                   21                       0   \n",
       " 322       1000     30                  264                       7   \n",
       " 332       1000     30                  264                       7   \n",
       " ..         ...    ...                  ...                     ...   \n",
       " 106       1000     30                  192                       2   \n",
       " 270       1000     30                   62                       0   \n",
       " 348       1000     30                  264                       7   \n",
       " 435       1000     30                  174                       5   \n",
       " 102       1000     30                  166                       1   \n",
       " \n",
       "      past_due_days  age  education  Gender  Due_Date_Day  paid_off_time_month  \\\n",
       " 249            0.0   35          0       0             5                    3   \n",
       " 433            2.0   29          3       1             1                    2   \n",
       " 19             0.0   26          3       1             3                    3   \n",
       " 322           60.0   37          3       1             3                    4   \n",
       " 332           59.0   21          1       1             1                    4   \n",
       " ..             ...  ...        ...     ...           ...                  ...   \n",
       " 106            0.0   31          1       1             1                    2   \n",
       " 270            0.0   29          1       1             4                    2   \n",
       " 348           59.0   32          1       1             1                    4   \n",
       " 435            1.0   29          0       1             1                    2   \n",
       " 102            0.0   30          3       1             1                    2   \n",
       " \n",
       "      Due_Date_Month paid_off_time_day  Effective_date_Month  \\\n",
       " 249               2  13 days 06:17:00                     0   \n",
       " 433               1  31 days 14:32:00                     0   \n",
       " 19                1  13 days 07:42:00                     0   \n",
       " 322               1               NaT                     0   \n",
       " 332               1               NaT                     0   \n",
       " ..              ...               ...                   ...   \n",
       " 106               1  27 days 17:19:00                     0   \n",
       " 270               1  30 days 11:03:00                     0   \n",
       " 348               1               NaT                     0   \n",
       " 435               1  30 days 16:27:00                     0   \n",
       " 102               1  29 days 16:00:00                     0   \n",
       " \n",
       "      Effective_date_Day  Repayment_Time  \n",
       " 249                   5              14  \n",
       " 433                   3              29  \n",
       " 19                    2              29  \n",
       " 322                   2              29  \n",
       " 332                   3              29  \n",
       " ..                  ...             ...  \n",
       " 106                   3              29  \n",
       " 270                   6              29  \n",
       " 348                   3              29  \n",
       " 435                   3              29  \n",
       " 102                   3              29  \n",
       " \n",
       " [400 rows x 15 columns],\n",
       "      Principal  terms  paid_off_time_hours  paid_off_time_datename  \\\n",
       " 361        800     15                  264                       7   \n",
       " 73        1000     15                   30                       3   \n",
       " 374       1000     30                  264                       7   \n",
       " 155       1000     30                  102                       5   \n",
       " 104       1000     15                  108                       4   \n",
       " ..         ...    ...                  ...                     ...   \n",
       " 347        800     15                  264                       7   \n",
       " 86        1000     30                   31                       1   \n",
       " 75        1000     30                  107                       2   \n",
       " 438       1000     30                   45                       1   \n",
       " 15         800     15                  165                       2   \n",
       " \n",
       "      past_due_days  age  education  Gender  Due_Date_Day  paid_off_time_month  \\\n",
       " 361           74.0   29          1       1             3                    4   \n",
       " 73             0.0   34          3       1             3                    3   \n",
       " 374           59.0   29          3       1             1                    4   \n",
       " 155            0.0   36          1       0             5                    2   \n",
       " 104            0.0   35          3       1             3                    3   \n",
       " ..             ...  ...        ...     ...           ...                  ...   \n",
       " 347           74.0   40          3       1             3                    4   \n",
       " 86             0.0   24          1       0             1                    2   \n",
       " 75             0.0   30          1       1             1                    2   \n",
       " 438            7.0   25          3       0             1                    2   \n",
       " 15             0.0   26          3       1             2                    3   \n",
       " \n",
       "      Due_Date_Month paid_off_time_day  Effective_date_Month  \\\n",
       " 361               2               NaT                     0   \n",
       " 73                2  14 days 09:00:00                     0   \n",
       " 374               1               NaT                     0   \n",
       " 155               1  29 days 13:00:00                     0   \n",
       " 104               2  11 days 13:15:00                     0   \n",
       " ..              ...               ...                   ...   \n",
       " 347               2               NaT                     0   \n",
       " 86                1  29 days 09:00:00                     0   \n",
       " 75                1  27 days 13:12:00                     0   \n",
       " 438               1  36 days 10:06:00                     0   \n",
       " 15                2  14 days 16:00:00                     0   \n",
       " \n",
       "      Effective_date_Day  Repayment_Time  \n",
       " 361                   3              14  \n",
       " 73                    3              14  \n",
       " 374                   3              29  \n",
       " 155                   1              29  \n",
       " 104                   3              14  \n",
       " ..                  ...             ...  \n",
       " 347                   3              14  \n",
       " 86                    3              29  \n",
       " 75                    3              29  \n",
       " 438                   3              29  \n",
       " 15                    2              14  \n",
       " \n",
       " [100 rows x 15 columns],\n",
       " 249    2\n",
       " 433    1\n",
       " 19     2\n",
       " 322    0\n",
       " 332    0\n",
       "       ..\n",
       " 106    2\n",
       " 270    2\n",
       " 348    0\n",
       " 435    1\n",
       " 102    2\n",
       " Name: loan_status, Length: 400, dtype: int32,\n",
       " 361    0\n",
       " 73     2\n",
       " 374    0\n",
       " 155    2\n",
       " 104    2\n",
       "       ..\n",
       " 347    0\n",
       " 86     2\n",
       " 75     2\n",
       " 438    1\n",
       " 15     2\n",
       " Name: loan_status, Length: 100, dtype: int32)"
      ]
     },
     "execution_count": 63,
     "metadata": {},
     "output_type": "execute_result"
    }
   ],
   "source": [
    "# Splitting information into dependent independent (X, y)\n",
    "# function: train_test_split / 80% training and 20% testing\n",
    "# random state = 42\n",
    "\n",
    "X = df.drop(columns=['loan_status'], axis=1)  #all columns apart from target variable\n",
    "y = df['loan_status']                         #target variable\n",
    "X_train, X_test, y_train, y_test = train_test_split(X, y, test_size=0.2, random_state=42)\n",
    "X_train, X_test, y_train, y_test"
   ]
  },
  {
   "cell_type": "code",
   "execution_count": 64,
   "id": "3368c532",
   "metadata": {
    "ExecuteTime": {
     "end_time": "2022-11-29T11:39:01.326889Z",
     "start_time": "2022-11-29T11:39:01.312677Z"
    }
   },
   "outputs": [],
   "source": [
    "#df_test['loan_status']= pd.DataFrame(np.where(df_test['loan_status']=='PAIDOFF',1, 0))"
   ]
  },
  {
   "cell_type": "code",
   "execution_count": 65,
   "id": "df4093db",
   "metadata": {
    "ExecuteTime": {
     "end_time": "2022-11-29T11:39:01.342171Z",
     "start_time": "2022-11-29T11:39:01.328370Z"
    }
   },
   "outputs": [],
   "source": [
    "#Selecting which factors affect the loan status (target variable) the most:\n",
    "\n",
    "#Principal\n",
    "#Terms\n",
    "#age \n",
    "#Education\n",
    "#Gender\n",
    "#Repayment_Time "
   ]
  },
  {
   "cell_type": "code",
   "execution_count": 66,
   "id": "1a8e5441",
   "metadata": {
    "ExecuteTime": {
     "end_time": "2022-11-29T11:39:01.358422Z",
     "start_time": "2022-11-29T11:39:01.343177Z"
    }
   },
   "outputs": [],
   "source": [
    "#X = df[['Principal', 'terms', 'age', 'education', 'Gender', 'Repayment_Time']]#feature selection\n",
    "#Originally I had selected these columns specifically however these generated low scores in report"
   ]
  },
  {
   "cell_type": "code",
   "execution_count": 67,
   "id": "fac7a5d1",
   "metadata": {
    "ExecuteTime": {
     "end_time": "2022-11-29T11:39:03.801991Z",
     "start_time": "2022-11-29T11:39:01.359427Z"
    }
   },
   "outputs": [
    {
     "name": "stdout",
     "output_type": "stream",
     "text": [
      "Defaulting to user installation because normal site-packages is not writeable\n",
      "Requirement already satisfied: imblearn in c:\\users\\abdul-hafizjoarder\\appdata\\roaming\\python\\python39\\site-packages (0.0)\n",
      "Requirement already satisfied: imbalanced-learn in c:\\users\\abdul-hafizjoarder\\appdata\\roaming\\python\\python39\\site-packages (from imblearn) (0.9.1)\n",
      "Requirement already satisfied: joblib>=1.0.0 in c:\\programdata\\anaconda3\\lib\\site-packages (from imbalanced-learn->imblearn) (1.1.0)\n",
      "Requirement already satisfied: threadpoolctl>=2.0.0 in c:\\programdata\\anaconda3\\lib\\site-packages (from imbalanced-learn->imblearn) (2.2.0)\n",
      "Requirement already satisfied: numpy>=1.17.3 in c:\\programdata\\anaconda3\\lib\\site-packages (from imbalanced-learn->imblearn) (1.21.5)\n",
      "Requirement already satisfied: scipy>=1.3.2 in c:\\programdata\\anaconda3\\lib\\site-packages (from imbalanced-learn->imblearn) (1.7.3)\n",
      "Requirement already satisfied: scikit-learn>=1.1.0 in c:\\users\\abdul-hafizjoarder\\appdata\\roaming\\python\\python39\\site-packages (from imbalanced-learn->imblearn) (1.1.3)\n"
     ]
    }
   ],
   "source": [
    "#Balancing Target Variable\n",
    "#pip install imblearn\n",
    "!pip install imblearn \n",
    "import imblearn\n",
    "from collections import Counter\n",
    "from sklearn.datasets import make_classification\n",
    "from imblearn.over_sampling import RandomOverSampler \n",
    "from imblearn.over_sampling import SMOTE \n"
   ]
  },
  {
   "cell_type": "code",
   "execution_count": 68,
   "id": "508cd54a",
   "metadata": {
    "ExecuteTime": {
     "end_time": "2022-11-29T11:39:03.817780Z",
     "start_time": "2022-11-29T11:39:03.803552Z"
    }
   },
   "outputs": [
    {
     "data": {
      "text/plain": [
       "[0.6, 0.2, 0.2]"
      ]
     },
     "execution_count": 68,
     "metadata": {},
     "output_type": "execute_result"
    }
   ],
   "source": [
    "weights = [i for i in df['loan_status'].value_counts(normalize=True)]\n",
    "weights "
   ]
  },
  {
   "cell_type": "code",
   "execution_count": 69,
   "id": "44566bb1",
   "metadata": {
    "ExecuteTime": {
     "end_time": "2022-11-29T11:39:03.833131Z",
     "start_time": "2022-11-29T11:39:03.818650Z"
    }
   },
   "outputs": [
    {
     "data": {
      "text/plain": [
       "(500, 16)"
      ]
     },
     "execution_count": 69,
     "metadata": {},
     "output_type": "execute_result"
    }
   ],
   "source": [
    "df.shape"
   ]
  },
  {
   "cell_type": "code",
   "execution_count": 70,
   "id": "0cb845f3",
   "metadata": {
    "ExecuteTime": {
     "end_time": "2022-11-29T11:39:03.848526Z",
     "start_time": "2022-11-29T11:39:03.835442Z"
    }
   },
   "outputs": [
    {
     "name": "stdout",
     "output_type": "stream",
     "text": [
      "Counter({0: 598, 2: 203, 1: 199})\n"
     ]
    }
   ],
   "source": [
    "#Defining the dataset\n",
    "X, y = make_classification(n_samples=1000, weights=weights, n_classes=3, n_redundant=0, n_informative=2,\n",
    "                        n_clusters_per_class=1)    \n",
    "print(Counter(y))   "
   ]
  },
  {
   "cell_type": "code",
   "execution_count": 71,
   "id": "875b1bd0",
   "metadata": {
    "ExecuteTime": {
     "end_time": "2022-11-29T11:39:03.991272Z",
     "start_time": "2022-11-29T11:39:03.850446Z"
    }
   },
   "outputs": [
    {
     "data": {
      "image/png": "[encoded data removed]",
      "text/plain": [
       "<Figure size 432x288 with 1 Axes>"
      ]
     },
     "metadata": {
      "needs_background": "light"
     },
     "output_type": "display_data"
    }
   ],
   "source": [
    "plt.hist(y); "
   ]
  },
  {
   "cell_type": "code",
   "execution_count": 72,
   "id": "2e63928f",
   "metadata": {
    "ExecuteTime": {
     "end_time": "2022-11-29T11:39:04.085854Z",
     "start_time": "2022-11-29T11:39:03.992800Z"
    }
   },
   "outputs": [
    {
     "name": "stdout",
     "output_type": "stream",
     "text": [
      "Counter({1: 598, 0: 598, 2: 598})\n"
     ]
    }
   ],
   "source": [
    "#Transforming the dataset\n",
    "smote1 = SMOTE() \n",
    "X_over, y_over = smote1.fit_resample(X,y)\n",
    "print(Counter(y_over))  "
   ]
  },
  {
   "cell_type": "code",
   "execution_count": 73,
   "id": "b24f30d2",
   "metadata": {
    "ExecuteTime": {
     "end_time": "2022-11-29T11:39:04.259392Z",
     "start_time": "2022-11-29T11:39:04.087274Z"
    }
   },
   "outputs": [
    {
     "data": {
      "image/png": "[encoded data removed]",
      "text/plain": [
       "<Figure size 432x288 with 1 Axes>"
      ]
     },
     "metadata": {
      "needs_background": "light"
     },
     "output_type": "display_data"
    }
   ],
   "source": [
    "plt.hist(y_over); \n",
    "#The target variable column is now balanced"
   ]
  },
  {
   "cell_type": "code",
   "execution_count": 74,
   "id": "66ee8463",
   "metadata": {
    "ExecuteTime": {
     "end_time": "2022-11-29T11:39:04.274283Z",
     "start_time": "2022-11-29T11:39:04.262391Z"
    }
   },
   "outputs": [
    {
     "data": {
      "text/plain": [
       "((1794, 20), (100, 15), (1794,), (100,))"
      ]
     },
     "execution_count": 74,
     "metadata": {},
     "output_type": "execute_result"
    }
   ],
   "source": [
    "X_over.shape, X_test.shape, y_over.shape, y_test.shape "
   ]
  },
  {
   "cell_type": "code",
   "execution_count": 75,
   "id": "a905377e",
   "metadata": {
    "ExecuteTime": {
     "end_time": "2022-11-29T11:39:04.880429Z",
     "start_time": "2022-11-29T11:39:04.275219Z"
    }
   },
   "outputs": [
    {
     "data": {
      "image/png": "[encoded data removed]",
      "text/plain": [
       "<Figure size 432x288 with 1 Axes>"
      ]
     },
     "metadata": {
      "needs_background": "light"
     },
     "output_type": "display_data"
    }
   ],
   "source": [
    "plt.hist(X_over); #visualising distribution of the X"
   ]
  },
  {
   "cell_type": "markdown",
   "id": "70c5255b",
   "metadata": {},
   "source": [
    "#### KNN "
   ]
  },
  {
   "cell_type": "code",
   "execution_count": 76,
   "id": "24d5672f",
   "metadata": {
    "ExecuteTime": {
     "end_time": "2022-11-29T11:39:04.895601Z",
     "start_time": "2022-11-29T11:39:04.882012Z"
    }
   },
   "outputs": [
    {
     "data": {
      "text/html": [
       "<style>#sk-container-id-1 {color: black;background-color: white;}#sk-container-id-1 pre{padding: 0;}#sk-container-id-1 div.sk-toggleable {background-color: white;}#sk-container-id-1 label.sk-toggleable__label {cursor: pointer;display: block;width: 100%;margin-bottom: 0;padding: 0.3em;box-sizing: border-box;text-align: center;}#sk-container-id-1 label.sk-toggleable__label-arrow:before {content: \"▸\";float: left;margin-right: 0.25em;color: #696969;}#sk-container-id-1 label.sk-toggleable__label-arrow:hover:before {color: black;}#sk-container-id-1 div.sk-estimator:hover label.sk-toggleable__label-arrow:before {color: black;}#sk-container-id-1 div.sk-toggleable__content {max-height: 0;max-width: 0;overflow: hidden;text-align: left;background-color: #f0f8ff;}#sk-container-id-1 div.sk-toggleable__content pre {margin: 0.2em;color: black;border-radius: 0.25em;background-color: #f0f8ff;}#sk-container-id-1 input.sk-toggleable__control:checked~div.sk-toggleable__content {max-height: 200px;max-width: 100%;overflow: auto;}#sk-container-id-1 input.sk-toggleable__control:checked~label.sk-toggleable__label-arrow:before {content: \"▾\";}#sk-container-id-1 div.sk-estimator input.sk-toggleable__control:checked~label.sk-toggleable__label {background-color: #d4ebff;}#sk-container-id-1 div.sk-label input.sk-toggleable__control:checked~label.sk-toggleable__label {background-color: #d4ebff;}#sk-container-id-1 input.sk-hidden--visually {border: 0;clip: rect(1px 1px 1px 1px);clip: rect(1px, 1px, 1px, 1px);height: 1px;margin: -1px;overflow: hidden;padding: 0;position: absolute;width: 1px;}#sk-container-id-1 div.sk-estimator {font-family: monospace;background-color: #f0f8ff;border: 1px dotted black;border-radius: 0.25em;box-sizing: border-box;margin-bottom: 0.5em;}#sk-container-id-1 div.sk-estimator:hover {background-color: #d4ebff;}#sk-container-id-1 div.sk-parallel-item::after {content: \"\";width: 100%;border-bottom: 1px solid gray;flex-grow: 1;}#sk-container-id-1 div.sk-label:hover label.sk-toggleable__label {background-color: #d4ebff;}#sk-container-id-1 div.sk-serial::before {content: \"\";position: absolute;border-left: 1px solid gray;box-sizing: border-box;top: 0;bottom: 0;left: 50%;z-index: 0;}#sk-container-id-1 div.sk-serial {display: flex;flex-direction: column;align-items: center;background-color: white;padding-right: 0.2em;padding-left: 0.2em;position: relative;}#sk-container-id-1 div.sk-item {position: relative;z-index: 1;}#sk-container-id-1 div.sk-parallel {display: flex;align-items: stretch;justify-content: center;background-color: white;position: relative;}#sk-container-id-1 div.sk-item::before, #sk-container-id-1 div.sk-parallel-item::before {content: \"\";position: absolute;border-left: 1px solid gray;box-sizing: border-box;top: 0;bottom: 0;left: 50%;z-index: -1;}#sk-container-id-1 div.sk-parallel-item {display: flex;flex-direction: column;z-index: 1;position: relative;background-color: white;}#sk-container-id-1 div.sk-parallel-item:first-child::after {align-self: flex-end;width: 50%;}#sk-container-id-1 div.sk-parallel-item:last-child::after {align-self: flex-start;width: 50%;}#sk-container-id-1 div.sk-parallel-item:only-child::after {width: 0;}#sk-container-id-1 div.sk-dashed-wrapped {border: 1px dashed gray;margin: 0 0.4em 0.5em 0.4em;box-sizing: border-box;padding-bottom: 0.4em;background-color: white;}#sk-container-id-1 div.sk-label label {font-family: monospace;font-weight: bold;display: inline-block;line-height: 1.2em;}#sk-container-id-1 div.sk-label-container {text-align: center;}#sk-container-id-1 div.sk-container {/* jupyter's `normalize.less` sets `[hidden] { display: none; }` but bootstrap.min.css set `[hidden] { display: none !important; }` so we also need the `!important` here to be able to override the default hidden behavior on the sphinx rendered scikit-learn.org. See: https://github.com/scikit-learn/scikit-learn/issues/21755 */display: inline-block !important;position: relative;}#sk-container-id-1 div.sk-text-repr-fallback {display: none;}</style><div id=\"sk-container-id-1\" class=\"sk-top-container\"><div class=\"sk-text-repr-fallback\"><pre>KNeighborsClassifier(metric=&#x27;euclidean&#x27;, n_neighbors=11, p=3)</pre><b>In a Jupyter environment, please rerun this cell to show the HTML representation or trust the notebook. <br />On GitHub, the HTML representation is unable to render, please try loading this page with nbviewer.org.</b></div><div class=\"sk-container\" hidden><div class=\"sk-item\"><div class=\"sk-estimator sk-toggleable\"><input class=\"sk-toggleable__control sk-hidden--visually\" id=\"sk-estimator-id-1\" type=\"checkbox\" checked><label for=\"sk-estimator-id-1\" class=\"sk-toggleable__label sk-toggleable__label-arrow\">KNeighborsClassifier</label><div class=\"sk-toggleable__content\"><pre>KNeighborsClassifier(metric=&#x27;euclidean&#x27;, n_neighbors=11, p=3)</pre></div></div></div></div></div>"
      ],
      "text/plain": [
       "KNeighborsClassifier(metric='euclidean', n_neighbors=11, p=3)"
      ]
     },
     "execution_count": 76,
     "metadata": {},
     "output_type": "execute_result"
    }
   ],
   "source": [
    "classifier = KNeighborsClassifier(n_neighbors=11, p=3, metric='euclidean') \n",
    "classifier \n",
    "#p value indicates two options"
   ]
  },
  {
   "cell_type": "code",
   "execution_count": 77,
   "id": "aba2f306",
   "metadata": {
    "ExecuteTime": {
     "end_time": "2022-11-29T11:39:04.910946Z",
     "start_time": "2022-11-29T11:39:04.896619Z"
    }
   },
   "outputs": [
    {
     "data": {
      "text/html": [
       "<style>#sk-container-id-2 {color: black;background-color: white;}#sk-container-id-2 pre{padding: 0;}#sk-container-id-2 div.sk-toggleable {background-color: white;}#sk-container-id-2 label.sk-toggleable__label {cursor: pointer;display: block;width: 100%;margin-bottom: 0;padding: 0.3em;box-sizing: border-box;text-align: center;}#sk-container-id-2 label.sk-toggleable__label-arrow:before {content: \"▸\";float: left;margin-right: 0.25em;color: #696969;}#sk-container-id-2 label.sk-toggleable__label-arrow:hover:before {color: black;}#sk-container-id-2 div.sk-estimator:hover label.sk-toggleable__label-arrow:before {color: black;}#sk-container-id-2 div.sk-toggleable__content {max-height: 0;max-width: 0;overflow: hidden;text-align: left;background-color: #f0f8ff;}#sk-container-id-2 div.sk-toggleable__content pre {margin: 0.2em;color: black;border-radius: 0.25em;background-color: #f0f8ff;}#sk-container-id-2 input.sk-toggleable__control:checked~div.sk-toggleable__content {max-height: 200px;max-width: 100%;overflow: auto;}#sk-container-id-2 input.sk-toggleable__control:checked~label.sk-toggleable__label-arrow:before {content: \"▾\";}#sk-container-id-2 div.sk-estimator input.sk-toggleable__control:checked~label.sk-toggleable__label {background-color: #d4ebff;}#sk-container-id-2 div.sk-label input.sk-toggleable__control:checked~label.sk-toggleable__label {background-color: #d4ebff;}#sk-container-id-2 input.sk-hidden--visually {border: 0;clip: rect(1px 1px 1px 1px);clip: rect(1px, 1px, 1px, 1px);height: 1px;margin: -1px;overflow: hidden;padding: 0;position: absolute;width: 1px;}#sk-container-id-2 div.sk-estimator {font-family: monospace;background-color: #f0f8ff;border: 1px dotted black;border-radius: 0.25em;box-sizing: border-box;margin-bottom: 0.5em;}#sk-container-id-2 div.sk-estimator:hover {background-color: #d4ebff;}#sk-container-id-2 div.sk-parallel-item::after {content: \"\";width: 100%;border-bottom: 1px solid gray;flex-grow: 1;}#sk-container-id-2 div.sk-label:hover label.sk-toggleable__label {background-color: #d4ebff;}#sk-container-id-2 div.sk-serial::before {content: \"\";position: absolute;border-left: 1px solid gray;box-sizing: border-box;top: 0;bottom: 0;left: 50%;z-index: 0;}#sk-container-id-2 div.sk-serial {display: flex;flex-direction: column;align-items: center;background-color: white;padding-right: 0.2em;padding-left: 0.2em;position: relative;}#sk-container-id-2 div.sk-item {position: relative;z-index: 1;}#sk-container-id-2 div.sk-parallel {display: flex;align-items: stretch;justify-content: center;background-color: white;position: relative;}#sk-container-id-2 div.sk-item::before, #sk-container-id-2 div.sk-parallel-item::before {content: \"\";position: absolute;border-left: 1px solid gray;box-sizing: border-box;top: 0;bottom: 0;left: 50%;z-index: -1;}#sk-container-id-2 div.sk-parallel-item {display: flex;flex-direction: column;z-index: 1;position: relative;background-color: white;}#sk-container-id-2 div.sk-parallel-item:first-child::after {align-self: flex-end;width: 50%;}#sk-container-id-2 div.sk-parallel-item:last-child::after {align-self: flex-start;width: 50%;}#sk-container-id-2 div.sk-parallel-item:only-child::after {width: 0;}#sk-container-id-2 div.sk-dashed-wrapped {border: 1px dashed gray;margin: 0 0.4em 0.5em 0.4em;box-sizing: border-box;padding-bottom: 0.4em;background-color: white;}#sk-container-id-2 div.sk-label label {font-family: monospace;font-weight: bold;display: inline-block;line-height: 1.2em;}#sk-container-id-2 div.sk-label-container {text-align: center;}#sk-container-id-2 div.sk-container {/* jupyter's `normalize.less` sets `[hidden] { display: none; }` but bootstrap.min.css set `[hidden] { display: none !important; }` so we also need the `!important` here to be able to override the default hidden behavior on the sphinx rendered scikit-learn.org. See: https://github.com/scikit-learn/scikit-learn/issues/21755 */display: inline-block !important;position: relative;}#sk-container-id-2 div.sk-text-repr-fallback {display: none;}</style><div id=\"sk-container-id-2\" class=\"sk-top-container\"><div class=\"sk-text-repr-fallback\"><pre>KNeighborsClassifier(metric=&#x27;euclidean&#x27;, n_neighbors=11, p=3)</pre><b>In a Jupyter environment, please rerun this cell to show the HTML representation or trust the notebook. <br />On GitHub, the HTML representation is unable to render, please try loading this page with nbviewer.org.</b></div><div class=\"sk-container\" hidden><div class=\"sk-item\"><div class=\"sk-estimator sk-toggleable\"><input class=\"sk-toggleable__control sk-hidden--visually\" id=\"sk-estimator-id-2\" type=\"checkbox\" checked><label for=\"sk-estimator-id-2\" class=\"sk-toggleable__label sk-toggleable__label-arrow\">KNeighborsClassifier</label><div class=\"sk-toggleable__content\"><pre>KNeighborsClassifier(metric=&#x27;euclidean&#x27;, n_neighbors=11, p=3)</pre></div></div></div></div></div>"
      ],
      "text/plain": [
       "KNeighborsClassifier(metric='euclidean', n_neighbors=11, p=3)"
      ]
     },
     "execution_count": 77,
     "metadata": {},
     "output_type": "execute_result"
    }
   ],
   "source": [
    "# Train model\n",
    "classifier.fit(X_over, y_over)   "
   ]
  },
  {
   "cell_type": "code",
   "execution_count": 78,
   "id": "cadc61f5",
   "metadata": {
    "ExecuteTime": {
     "end_time": "2022-11-29T11:39:05.004431Z",
     "start_time": "2022-11-29T11:39:04.912465Z"
    }
   },
   "outputs": [
    {
     "data": {
      "text/plain": [
       "(array([1, 0, 0, ..., 2, 2, 2]),\n",
       " 361    0\n",
       " 73     2\n",
       " 374    0\n",
       " 155    2\n",
       " 104    2\n",
       "       ..\n",
       " 347    0\n",
       " 86     2\n",
       " 75     2\n",
       " 438    1\n",
       " 15     2\n",
       " Name: loan_status, Length: 100, dtype: int32)"
      ]
     },
     "execution_count": 78,
     "metadata": {},
     "output_type": "execute_result"
    }
   ],
   "source": [
    "#collecting the predictions\n",
    "y_pred_knn = classifier.predict(X_over) \n",
    "y_pred_knn, y_test    "
   ]
  },
  {
   "cell_type": "code",
   "execution_count": 79,
   "id": "55ad4ae9",
   "metadata": {
    "ExecuteTime": {
     "end_time": "2022-11-29T11:39:05.019620Z",
     "start_time": "2022-11-29T11:39:05.006056Z"
    }
   },
   "outputs": [
    {
     "data": {
      "text/plain": [
       "array([[429,  51, 118],\n",
       "       [  6, 581,  11],\n",
       "       [  3,   4, 591]], dtype=int64)"
      ]
     },
     "execution_count": 79,
     "metadata": {},
     "output_type": "execute_result"
    }
   ],
   "source": [
    "# Confusion Matrix\n",
    "confusion_matrix(y_over, y_pred_knn)      "
   ]
  },
  {
   "cell_type": "code",
   "execution_count": 80,
   "id": "b4ddcd6d",
   "metadata": {
    "ExecuteTime": {
     "end_time": "2022-11-29T11:39:05.034703Z",
     "start_time": "2022-11-29T11:39:05.022274Z"
    }
   },
   "outputs": [
    {
     "name": "stdout",
     "output_type": "stream",
     "text": [
      "88.88839474017153 %\n"
     ]
    }
   ],
   "source": [
    "# F1 score\n",
    "print(f1_score(y_over, y_pred_knn, average='weighted')*100,'%')  \n",
    "#85% f1 score  "
   ]
  },
  {
   "cell_type": "code",
   "execution_count": 81,
   "id": "d4d073f1",
   "metadata": {
    "ExecuteTime": {
     "end_time": "2022-11-29T11:39:05.050234Z",
     "start_time": "2022-11-29T11:39:05.038348Z"
    }
   },
   "outputs": [
    {
     "name": "stdout",
     "output_type": "stream",
     "text": [
      "89.24191750278708 %\n"
     ]
    }
   ],
   "source": [
    "# Accuracy \n",
    "print(accuracy_score(y_over, y_pred_knn)*100,'%') \n",
    "#85% accuracy"
   ]
  },
  {
   "cell_type": "code",
   "execution_count": 82,
   "id": "38e7dfd1",
   "metadata": {
    "ExecuteTime": {
     "end_time": "2022-11-29T11:39:05.097644Z",
     "start_time": "2022-11-29T11:39:05.068173Z"
    }
   },
   "outputs": [
    {
     "name": "stdout",
     "output_type": "stream",
     "text": [
      "              precision    recall  f1-score   support\n",
      "\n",
      "           0       0.98      0.72      0.83       598\n",
      "           1       0.91      0.97      0.94       598\n",
      "           2       0.82      0.99      0.90       598\n",
      "\n",
      "    accuracy                           0.89      1794\n",
      "   macro avg       0.90      0.89      0.89      1794\n",
      "weighted avg       0.90      0.89      0.89      1794\n",
      "\n"
     ]
    }
   ],
   "source": [
    "print(classification_report(y_over, y_pred_knn))  #good classifier "
   ]
  },
  {
   "cell_type": "code",
   "execution_count": 83,
   "id": "e6ee2613",
   "metadata": {
    "ExecuteTime": {
     "end_time": "2022-11-29T11:39:05.137442Z",
     "start_time": "2022-11-29T11:39:05.099439Z"
    }
   },
   "outputs": [],
   "source": [
    "#Target Variable Categories\n",
    "\n",
    "#Paid off - 0\n",
    "#Collection - 1\n",
    "#Collection Paid off - 2 "
   ]
  },
  {
   "cell_type": "markdown",
   "id": "1dd00892",
   "metadata": {},
   "source": [
    "#### Logisistic Regression"
   ]
  },
  {
   "cell_type": "code",
   "execution_count": 84,
   "id": "a238ac52",
   "metadata": {
    "ExecuteTime": {
     "end_time": "2022-11-29T11:39:05.206158Z",
     "start_time": "2022-11-29T11:39:05.139785Z"
    }
   },
   "outputs": [
    {
     "name": "stdout",
     "output_type": "stream",
     "text": [
      "Logistic Regression Accuracy Score: 94.31438127090301 %\n"
     ]
    }
   ],
   "source": [
    "#MLR\n",
    "import sklearn.metrics as metrics\n",
    "lr = LogisticRegression() \n",
    "lr.fit(X_over,y_over)   \n",
    "lr_prediction = lr.predict(X_over) \n",
    "print('Logistic Regression Accuracy Score:', metrics.accuracy_score(lr_prediction, y_over)*100,'%')   \n",
    "#86.31% accuracy score for logistic regression    "
   ]
  },
  {
   "cell_type": "code",
   "execution_count": 85,
   "id": "bc4e34f6",
   "metadata": {
    "ExecuteTime": {
     "end_time": "2022-11-29T11:39:05.221323Z",
     "start_time": "2022-11-29T11:39:05.208578Z"
    }
   },
   "outputs": [
    {
     "name": "stdout",
     "output_type": "stream",
     "text": [
      "Confusion matrix\n",
      "\n",
      " [[542   3  53]\n",
      " [ 13 576   9]\n",
      " [ 12  12 574]]\n",
      "\n",
      "True Positives(TP) =  542\n",
      "\n",
      "True Negatives(TN) =  576\n",
      "\n",
      "False Positives(FP) =  3\n",
      "\n",
      "False Negatives(FN) =  13\n"
     ]
    }
   ],
   "source": [
    "# Printing the Confusion Matrix\n",
    "from sklearn.metrics import confusion_matrix\n",
    "cm = confusion_matrix(y_over, lr_prediction)\n",
    "print('Confusion matrix\\n\\n', cm)\n",
    "print('\\nTrue Positives(TP) = ', cm[0,0])\n",
    "print('\\nTrue Negatives(TN) = ', cm[1,1])\n",
    "print('\\nFalse Positives(FP) = ', cm[0,1])\n",
    "print('\\nFalse Negatives(FN) = ', cm[1,0]) \n",
    "##A TP and B TN \n",
    "#C and D false postives / negatives\n"
   ]
  },
  {
   "cell_type": "code",
   "execution_count": 86,
   "id": "9e347254",
   "metadata": {
    "ExecuteTime": {
     "end_time": "2022-11-29T11:39:05.252354Z",
     "start_time": "2022-11-29T11:39:05.223310Z"
    }
   },
   "outputs": [
    {
     "name": "stdout",
     "output_type": "stream",
     "text": [
      "              precision    recall  f1-score   support\n",
      "\n",
      "           0       0.96      0.91      0.93       598\n",
      "           1       0.97      0.96      0.97       598\n",
      "           2       0.90      0.96      0.93       598\n",
      "\n",
      "    accuracy                           0.94      1794\n",
      "   macro avg       0.94      0.94      0.94      1794\n",
      "weighted avg       0.94      0.94      0.94      1794\n",
      "\n"
     ]
    }
   ],
   "source": [
    "from sklearn.metrics import classification_report\n",
    "\n",
    "print(classification_report(y_over, lr_prediction)) \n",
    "#81-94% f1-scores "
   ]
  },
  {
   "cell_type": "markdown",
   "id": "4fb3e16c",
   "metadata": {},
   "source": [
    "#### Decision Trees "
   ]
  },
  {
   "cell_type": "code",
   "execution_count": 87,
   "id": "b91edf25",
   "metadata": {
    "ExecuteTime": {
     "end_time": "2022-11-29T11:39:05.282965Z",
     "start_time": "2022-11-29T11:39:05.254638Z"
    }
   },
   "outputs": [
    {
     "data": {
      "text/html": [
       "<div>\n",
       "<style scoped>\n",
       "    .dataframe tbody tr th:only-of-type {\n",
       "        vertical-align: middle;\n",
       "    }\n",
       "\n",
       "    .dataframe tbody tr th {\n",
       "        vertical-align: top;\n",
       "    }\n",
       "\n",
       "    .dataframe thead th {\n",
       "        text-align: right;\n",
       "    }\n",
       "</style>\n",
       "<table border=\"1\" class=\"dataframe\">\n",
       "  <thead>\n",
       "    <tr style=\"text-align: right;\">\n",
       "      <th></th>\n",
       "      <th>loan_status</th>\n",
       "      <th>Principal</th>\n",
       "      <th>terms</th>\n",
       "      <th>paid_off_time_hours</th>\n",
       "      <th>paid_off_time_datename</th>\n",
       "      <th>past_due_days</th>\n",
       "      <th>age</th>\n",
       "      <th>education</th>\n",
       "      <th>Gender</th>\n",
       "      <th>Due_Date_Day</th>\n",
       "      <th>paid_off_time_month</th>\n",
       "      <th>Due_Date_Month</th>\n",
       "      <th>paid_off_time_day</th>\n",
       "      <th>Effective_date_Month</th>\n",
       "      <th>Effective_date_Day</th>\n",
       "      <th>Repayment_Time</th>\n",
       "    </tr>\n",
       "  </thead>\n",
       "  <tbody>\n",
       "    <tr>\n",
       "      <th>0</th>\n",
       "      <td>2</td>\n",
       "      <td>1000</td>\n",
       "      <td>30</td>\n",
       "      <td>217</td>\n",
       "      <td>6</td>\n",
       "      <td>0.0</td>\n",
       "      <td>45</td>\n",
       "      <td>1</td>\n",
       "      <td>1</td>\n",
       "      <td>0</td>\n",
       "      <td>3</td>\n",
       "      <td>1</td>\n",
       "      <td>6 days 19:31:00</td>\n",
       "      <td>0</td>\n",
       "      <td>4</td>\n",
       "      <td>29</td>\n",
       "    </tr>\n",
       "    <tr>\n",
       "      <th>1</th>\n",
       "      <td>2</td>\n",
       "      <td>1000</td>\n",
       "      <td>30</td>\n",
       "      <td>31</td>\n",
       "      <td>0</td>\n",
       "      <td>0.0</td>\n",
       "      <td>50</td>\n",
       "      <td>0</td>\n",
       "      <td>0</td>\n",
       "      <td>0</td>\n",
       "      <td>2</td>\n",
       "      <td>1</td>\n",
       "      <td>29 days 09:00:00</td>\n",
       "      <td>0</td>\n",
       "      <td>4</td>\n",
       "      <td>29</td>\n",
       "    </tr>\n",
       "    <tr>\n",
       "      <th>2</th>\n",
       "      <td>2</td>\n",
       "      <td>1000</td>\n",
       "      <td>30</td>\n",
       "      <td>185</td>\n",
       "      <td>3</td>\n",
       "      <td>0.0</td>\n",
       "      <td>33</td>\n",
       "      <td>0</td>\n",
       "      <td>0</td>\n",
       "      <td>0</td>\n",
       "      <td>3</td>\n",
       "      <td>1</td>\n",
       "      <td>17 days 16:58:00</td>\n",
       "      <td>0</td>\n",
       "      <td>4</td>\n",
       "      <td>29</td>\n",
       "    </tr>\n",
       "    <tr>\n",
       "      <th>3</th>\n",
       "      <td>2</td>\n",
       "      <td>1000</td>\n",
       "      <td>15</td>\n",
       "      <td>221</td>\n",
       "      <td>4</td>\n",
       "      <td>0.0</td>\n",
       "      <td>27</td>\n",
       "      <td>3</td>\n",
       "      <td>1</td>\n",
       "      <td>4</td>\n",
       "      <td>3</td>\n",
       "      <td>2</td>\n",
       "      <td>14 days 20:00:00</td>\n",
       "      <td>0</td>\n",
       "      <td>4</td>\n",
       "      <td>14</td>\n",
       "    </tr>\n",
       "    <tr>\n",
       "      <th>4</th>\n",
       "      <td>2</td>\n",
       "      <td>1000</td>\n",
       "      <td>30</td>\n",
       "      <td>241</td>\n",
       "      <td>0</td>\n",
       "      <td>0.0</td>\n",
       "      <td>28</td>\n",
       "      <td>3</td>\n",
       "      <td>0</td>\n",
       "      <td>2</td>\n",
       "      <td>3</td>\n",
       "      <td>1</td>\n",
       "      <td>14 days 21:36:00</td>\n",
       "      <td>0</td>\n",
       "      <td>0</td>\n",
       "      <td>29</td>\n",
       "    </tr>\n",
       "  </tbody>\n",
       "</table>\n",
       "</div>"
      ],
      "text/plain": [
       "   loan_status  Principal  terms  paid_off_time_hours  paid_off_time_datename  \\\n",
       "0            2       1000     30                  217                       6   \n",
       "1            2       1000     30                   31                       0   \n",
       "2            2       1000     30                  185                       3   \n",
       "3            2       1000     15                  221                       4   \n",
       "4            2       1000     30                  241                       0   \n",
       "\n",
       "   past_due_days  age  education  Gender  Due_Date_Day  paid_off_time_month  \\\n",
       "0            0.0   45          1       1             0                    3   \n",
       "1            0.0   50          0       0             0                    2   \n",
       "2            0.0   33          0       0             0                    3   \n",
       "3            0.0   27          3       1             4                    3   \n",
       "4            0.0   28          3       0             2                    3   \n",
       "\n",
       "   Due_Date_Month paid_off_time_day  Effective_date_Month  Effective_date_Day  \\\n",
       "0               1   6 days 19:31:00                     0                   4   \n",
       "1               1  29 days 09:00:00                     0                   4   \n",
       "2               1  17 days 16:58:00                     0                   4   \n",
       "3               2  14 days 20:00:00                     0                   4   \n",
       "4               1  14 days 21:36:00                     0                   0   \n",
       "\n",
       "   Repayment_Time  \n",
       "0              29  \n",
       "1              29  \n",
       "2              29  \n",
       "3              14  \n",
       "4              29  "
      ]
     },
     "execution_count": 87,
     "metadata": {},
     "output_type": "execute_result"
    }
   ],
   "source": [
    "df.head() "
   ]
  },
  {
   "cell_type": "code",
   "execution_count": 88,
   "id": "1d3ca6e0",
   "metadata": {
    "ExecuteTime": {
     "end_time": "2022-11-29T11:39:05.298501Z",
     "start_time": "2022-11-29T11:39:05.285463Z"
    }
   },
   "outputs": [],
   "source": [
    "#For decision trees and random forest the data is splitted differently with select feature columns\n",
    "#for the X variable\n",
    "#This removes the possibility of overfitting causing 100% scores in the accuracy reports"
   ]
  },
  {
   "cell_type": "code",
   "execution_count": 89,
   "id": "e905f07f",
   "metadata": {
    "ExecuteTime": {
     "end_time": "2022-11-29T11:39:05.329341Z",
     "start_time": "2022-11-29T11:39:05.301237Z"
    }
   },
   "outputs": [
    {
     "data": {
      "text/plain": [
       "(     Principal  terms  age  education  Gender  Repayment_Time  \\\n",
       " 249       1000     15   35          0       0              14   \n",
       " 433       1000     30   29          3       1              29   \n",
       " 19         800     30   26          3       1              29   \n",
       " 322       1000     30   37          3       1              29   \n",
       " 332       1000     30   21          1       1              29   \n",
       " ..         ...    ...  ...        ...     ...             ...   \n",
       " 106       1000     30   31          1       1              29   \n",
       " 270       1000     30   29          1       1              29   \n",
       " 348       1000     30   32          1       1              29   \n",
       " 435       1000     30   29          0       1              29   \n",
       " 102       1000     30   30          3       1              29   \n",
       " \n",
       "      Effective_date_Day  Due_Date_Day  paid_off_time_datename  \n",
       " 249                   5             5                       1  \n",
       " 433                   3             1                       6  \n",
       " 19                    2             3                       0  \n",
       " 322                   2             3                       7  \n",
       " 332                   3             1                       7  \n",
       " ..                  ...           ...                     ...  \n",
       " 106                   3             1                       2  \n",
       " 270                   6             4                       0  \n",
       " 348                   3             1                       7  \n",
       " 435                   3             1                       5  \n",
       " 102                   3             1                       1  \n",
       " \n",
       " [400 rows x 9 columns],\n",
       "      Principal  terms  age  education  Gender  Repayment_Time  \\\n",
       " 361        800     15   29          1       1              14   \n",
       " 73        1000     15   34          3       1              14   \n",
       " 374       1000     30   29          3       1              29   \n",
       " 155       1000     30   36          1       0              29   \n",
       " 104       1000     15   35          3       1              14   \n",
       " ..         ...    ...  ...        ...     ...             ...   \n",
       " 347        800     15   40          3       1              14   \n",
       " 86        1000     30   24          1       0              29   \n",
       " 75        1000     30   30          1       1              29   \n",
       " 438       1000     30   25          3       0              29   \n",
       " 15         800     15   26          3       1              14   \n",
       " \n",
       "      Effective_date_Day  Due_Date_Day  paid_off_time_datename  \n",
       " 361                   3             3                       7  \n",
       " 73                    3             3                       3  \n",
       " 374                   3             1                       7  \n",
       " 155                   1             5                       5  \n",
       " 104                   3             3                       4  \n",
       " ..                  ...           ...                     ...  \n",
       " 347                   3             3                       7  \n",
       " 86                    3             1                       1  \n",
       " 75                    3             1                       2  \n",
       " 438                   3             1                       1  \n",
       " 15                    2             2                       2  \n",
       " \n",
       " [100 rows x 9 columns],\n",
       " 249    2\n",
       " 433    1\n",
       " 19     2\n",
       " 322    0\n",
       " 332    0\n",
       "       ..\n",
       " 106    2\n",
       " 270    2\n",
       " 348    0\n",
       " 435    1\n",
       " 102    2\n",
       " Name: loan_status, Length: 400, dtype: int32,\n",
       " 361    0\n",
       " 73     2\n",
       " 374    0\n",
       " 155    2\n",
       " 104    2\n",
       "       ..\n",
       " 347    0\n",
       " 86     2\n",
       " 75     2\n",
       " 438    1\n",
       " 15     2\n",
       " Name: loan_status, Length: 100, dtype: int32)"
      ]
     },
     "execution_count": 89,
     "metadata": {},
     "output_type": "execute_result"
    }
   ],
   "source": [
    "#splitting again\n",
    "X2 = df[['Principal', 'terms', 'age', 'education', 'Gender', 'Repayment_Time','Effective_date_Day', 'Due_Date_Day', 'paid_off_time_datename']] #all columns apart from target variable\n",
    "y2 = df['loan_status']                         #target variable\n",
    "X2_train, X2_test, y2_train, y2_test = train_test_split(X2, y2, test_size=0.2, random_state=42)\n",
    "X2_train, X2_test, y2_train, y2_test "
   ]
  },
  {
   "cell_type": "code",
   "execution_count": 90,
   "id": "a17c92e3",
   "metadata": {
    "ExecuteTime": {
     "end_time": "2022-11-29T11:39:05.344934Z",
     "start_time": "2022-11-29T11:39:05.330960Z"
    }
   },
   "outputs": [],
   "source": [
    "# StandardScaler removes the mean and scales the data to the unit variance\n",
    "sc_X2 = StandardScaler()                         #defining standard scaler\n",
    "sc_X2.fit(X2_train) \n",
    "\n",
    "X2_train = sc_X2.transform(X2_train)             #fitting onto x train\n",
    "X2_test = sc_X2.transform(X2_test) "
   ]
  },
  {
   "cell_type": "code",
   "execution_count": 91,
   "id": "a299807a",
   "metadata": {
    "ExecuteTime": {
     "end_time": "2022-11-29T11:39:05.360824Z",
     "start_time": "2022-11-29T11:39:05.346589Z"
    }
   },
   "outputs": [],
   "source": [
    "# Import decisiontreeclassifier from sklearn\n",
    "from sklearn.tree import DecisionTreeClassifier  "
   ]
  },
  {
   "cell_type": "code",
   "execution_count": 92,
   "id": "75d3ab83",
   "metadata": {
    "ExecuteTime": {
     "end_time": "2022-11-29T11:39:05.376705Z",
     "start_time": "2022-11-29T11:39:05.363383Z"
    }
   },
   "outputs": [
    {
     "data": {
      "text/html": [
       "<style>#sk-container-id-3 {color: black;background-color: white;}#sk-container-id-3 pre{padding: 0;}#sk-container-id-3 div.sk-toggleable {background-color: white;}#sk-container-id-3 label.sk-toggleable__label {cursor: pointer;display: block;width: 100%;margin-bottom: 0;padding: 0.3em;box-sizing: border-box;text-align: center;}#sk-container-id-3 label.sk-toggleable__label-arrow:before {content: \"▸\";float: left;margin-right: 0.25em;color: #696969;}#sk-container-id-3 label.sk-toggleable__label-arrow:hover:before {color: black;}#sk-container-id-3 div.sk-estimator:hover label.sk-toggleable__label-arrow:before {color: black;}#sk-container-id-3 div.sk-toggleable__content {max-height: 0;max-width: 0;overflow: hidden;text-align: left;background-color: #f0f8ff;}#sk-container-id-3 div.sk-toggleable__content pre {margin: 0.2em;color: black;border-radius: 0.25em;background-color: #f0f8ff;}#sk-container-id-3 input.sk-toggleable__control:checked~div.sk-toggleable__content {max-height: 200px;max-width: 100%;overflow: auto;}#sk-container-id-3 input.sk-toggleable__control:checked~label.sk-toggleable__label-arrow:before {content: \"▾\";}#sk-container-id-3 div.sk-estimator input.sk-toggleable__control:checked~label.sk-toggleable__label {background-color: #d4ebff;}#sk-container-id-3 div.sk-label input.sk-toggleable__control:checked~label.sk-toggleable__label {background-color: #d4ebff;}#sk-container-id-3 input.sk-hidden--visually {border: 0;clip: rect(1px 1px 1px 1px);clip: rect(1px, 1px, 1px, 1px);height: 1px;margin: -1px;overflow: hidden;padding: 0;position: absolute;width: 1px;}#sk-container-id-3 div.sk-estimator {font-family: monospace;background-color: #f0f8ff;border: 1px dotted black;border-radius: 0.25em;box-sizing: border-box;margin-bottom: 0.5em;}#sk-container-id-3 div.sk-estimator:hover {background-color: #d4ebff;}#sk-container-id-3 div.sk-parallel-item::after {content: \"\";width: 100%;border-bottom: 1px solid gray;flex-grow: 1;}#sk-container-id-3 div.sk-label:hover label.sk-toggleable__label {background-color: #d4ebff;}#sk-container-id-3 div.sk-serial::before {content: \"\";position: absolute;border-left: 1px solid gray;box-sizing: border-box;top: 0;bottom: 0;left: 50%;z-index: 0;}#sk-container-id-3 div.sk-serial {display: flex;flex-direction: column;align-items: center;background-color: white;padding-right: 0.2em;padding-left: 0.2em;position: relative;}#sk-container-id-3 div.sk-item {position: relative;z-index: 1;}#sk-container-id-3 div.sk-parallel {display: flex;align-items: stretch;justify-content: center;background-color: white;position: relative;}#sk-container-id-3 div.sk-item::before, #sk-container-id-3 div.sk-parallel-item::before {content: \"\";position: absolute;border-left: 1px solid gray;box-sizing: border-box;top: 0;bottom: 0;left: 50%;z-index: -1;}#sk-container-id-3 div.sk-parallel-item {display: flex;flex-direction: column;z-index: 1;position: relative;background-color: white;}#sk-container-id-3 div.sk-parallel-item:first-child::after {align-self: flex-end;width: 50%;}#sk-container-id-3 div.sk-parallel-item:last-child::after {align-self: flex-start;width: 50%;}#sk-container-id-3 div.sk-parallel-item:only-child::after {width: 0;}#sk-container-id-3 div.sk-dashed-wrapped {border: 1px dashed gray;margin: 0 0.4em 0.5em 0.4em;box-sizing: border-box;padding-bottom: 0.4em;background-color: white;}#sk-container-id-3 div.sk-label label {font-family: monospace;font-weight: bold;display: inline-block;line-height: 1.2em;}#sk-container-id-3 div.sk-label-container {text-align: center;}#sk-container-id-3 div.sk-container {/* jupyter's `normalize.less` sets `[hidden] { display: none; }` but bootstrap.min.css set `[hidden] { display: none !important; }` so we also need the `!important` here to be able to override the default hidden behavior on the sphinx rendered scikit-learn.org. See: https://github.com/scikit-learn/scikit-learn/issues/21755 */display: inline-block !important;position: relative;}#sk-container-id-3 div.sk-text-repr-fallback {display: none;}</style><div id=\"sk-container-id-3\" class=\"sk-top-container\"><div class=\"sk-text-repr-fallback\"><pre>DecisionTreeClassifier()</pre><b>In a Jupyter environment, please rerun this cell to show the HTML representation or trust the notebook. <br />On GitHub, the HTML representation is unable to render, please try loading this page with nbviewer.org.</b></div><div class=\"sk-container\" hidden><div class=\"sk-item\"><div class=\"sk-estimator sk-toggleable\"><input class=\"sk-toggleable__control sk-hidden--visually\" id=\"sk-estimator-id-3\" type=\"checkbox\" checked><label for=\"sk-estimator-id-3\" class=\"sk-toggleable__label sk-toggleable__label-arrow\">DecisionTreeClassifier</label><div class=\"sk-toggleable__content\"><pre>DecisionTreeClassifier()</pre></div></div></div></div></div>"
      ],
      "text/plain": [
       "DecisionTreeClassifier()"
      ]
     },
     "execution_count": 92,
     "metadata": {},
     "output_type": "execute_result"
    }
   ],
   "source": [
    "# Create decisiontreeclassifier object\n",
    "dtree = DecisionTreeClassifier() \n",
    "dtree  "
   ]
  },
  {
   "cell_type": "code",
   "execution_count": 93,
   "id": "1b756581",
   "metadata": {
    "ExecuteTime": {
     "end_time": "2022-11-29T11:39:05.392012Z",
     "start_time": "2022-11-29T11:39:05.378784Z"
    }
   },
   "outputs": [
    {
     "data": {
      "text/html": [
       "<style>#sk-container-id-4 {color: black;background-color: white;}#sk-container-id-4 pre{padding: 0;}#sk-container-id-4 div.sk-toggleable {background-color: white;}#sk-container-id-4 label.sk-toggleable__label {cursor: pointer;display: block;width: 100%;margin-bottom: 0;padding: 0.3em;box-sizing: border-box;text-align: center;}#sk-container-id-4 label.sk-toggleable__label-arrow:before {content: \"▸\";float: left;margin-right: 0.25em;color: #696969;}#sk-container-id-4 label.sk-toggleable__label-arrow:hover:before {color: black;}#sk-container-id-4 div.sk-estimator:hover label.sk-toggleable__label-arrow:before {color: black;}#sk-container-id-4 div.sk-toggleable__content {max-height: 0;max-width: 0;overflow: hidden;text-align: left;background-color: #f0f8ff;}#sk-container-id-4 div.sk-toggleable__content pre {margin: 0.2em;color: black;border-radius: 0.25em;background-color: #f0f8ff;}#sk-container-id-4 input.sk-toggleable__control:checked~div.sk-toggleable__content {max-height: 200px;max-width: 100%;overflow: auto;}#sk-container-id-4 input.sk-toggleable__control:checked~label.sk-toggleable__label-arrow:before {content: \"▾\";}#sk-container-id-4 div.sk-estimator input.sk-toggleable__control:checked~label.sk-toggleable__label {background-color: #d4ebff;}#sk-container-id-4 div.sk-label input.sk-toggleable__control:checked~label.sk-toggleable__label {background-color: #d4ebff;}#sk-container-id-4 input.sk-hidden--visually {border: 0;clip: rect(1px 1px 1px 1px);clip: rect(1px, 1px, 1px, 1px);height: 1px;margin: -1px;overflow: hidden;padding: 0;position: absolute;width: 1px;}#sk-container-id-4 div.sk-estimator {font-family: monospace;background-color: #f0f8ff;border: 1px dotted black;border-radius: 0.25em;box-sizing: border-box;margin-bottom: 0.5em;}#sk-container-id-4 div.sk-estimator:hover {background-color: #d4ebff;}#sk-container-id-4 div.sk-parallel-item::after {content: \"\";width: 100%;border-bottom: 1px solid gray;flex-grow: 1;}#sk-container-id-4 div.sk-label:hover label.sk-toggleable__label {background-color: #d4ebff;}#sk-container-id-4 div.sk-serial::before {content: \"\";position: absolute;border-left: 1px solid gray;box-sizing: border-box;top: 0;bottom: 0;left: 50%;z-index: 0;}#sk-container-id-4 div.sk-serial {display: flex;flex-direction: column;align-items: center;background-color: white;padding-right: 0.2em;padding-left: 0.2em;position: relative;}#sk-container-id-4 div.sk-item {position: relative;z-index: 1;}#sk-container-id-4 div.sk-parallel {display: flex;align-items: stretch;justify-content: center;background-color: white;position: relative;}#sk-container-id-4 div.sk-item::before, #sk-container-id-4 div.sk-parallel-item::before {content: \"\";position: absolute;border-left: 1px solid gray;box-sizing: border-box;top: 0;bottom: 0;left: 50%;z-index: -1;}#sk-container-id-4 div.sk-parallel-item {display: flex;flex-direction: column;z-index: 1;position: relative;background-color: white;}#sk-container-id-4 div.sk-parallel-item:first-child::after {align-self: flex-end;width: 50%;}#sk-container-id-4 div.sk-parallel-item:last-child::after {align-self: flex-start;width: 50%;}#sk-container-id-4 div.sk-parallel-item:only-child::after {width: 0;}#sk-container-id-4 div.sk-dashed-wrapped {border: 1px dashed gray;margin: 0 0.4em 0.5em 0.4em;box-sizing: border-box;padding-bottom: 0.4em;background-color: white;}#sk-container-id-4 div.sk-label label {font-family: monospace;font-weight: bold;display: inline-block;line-height: 1.2em;}#sk-container-id-4 div.sk-label-container {text-align: center;}#sk-container-id-4 div.sk-container {/* jupyter's `normalize.less` sets `[hidden] { display: none; }` but bootstrap.min.css set `[hidden] { display: none !important; }` so we also need the `!important` here to be able to override the default hidden behavior on the sphinx rendered scikit-learn.org. See: https://github.com/scikit-learn/scikit-learn/issues/21755 */display: inline-block !important;position: relative;}#sk-container-id-4 div.sk-text-repr-fallback {display: none;}</style><div id=\"sk-container-id-4\" class=\"sk-top-container\"><div class=\"sk-text-repr-fallback\"><pre>DecisionTreeClassifier()</pre><b>In a Jupyter environment, please rerun this cell to show the HTML representation or trust the notebook. <br />On GitHub, the HTML representation is unable to render, please try loading this page with nbviewer.org.</b></div><div class=\"sk-container\" hidden><div class=\"sk-item\"><div class=\"sk-estimator sk-toggleable\"><input class=\"sk-toggleable__control sk-hidden--visually\" id=\"sk-estimator-id-4\" type=\"checkbox\" checked><label for=\"sk-estimator-id-4\" class=\"sk-toggleable__label sk-toggleable__label-arrow\">DecisionTreeClassifier</label><div class=\"sk-toggleable__content\"><pre>DecisionTreeClassifier()</pre></div></div></div></div></div>"
      ],
      "text/plain": [
       "DecisionTreeClassifier()"
      ]
     },
     "execution_count": 93,
     "metadata": {},
     "output_type": "execute_result"
    }
   ],
   "source": [
    "dtree.fit(X2_train, y2_train)    "
   ]
  },
  {
   "cell_type": "code",
   "execution_count": 94,
   "id": "9ccc8e79",
   "metadata": {
    "ExecuteTime": {
     "end_time": "2022-11-29T11:39:05.408030Z",
     "start_time": "2022-11-29T11:39:05.394025Z"
    }
   },
   "outputs": [],
   "source": [
    "import math \n",
    "from sklearn.metrics import confusion_matrix\n",
    "from sklearn.metrics import f1_score\n",
    "from sklearn.metrics import accuracy_score\n",
    "from sklearn.metrics import classification_report   "
   ]
  },
  {
   "cell_type": "code",
   "execution_count": 95,
   "id": "927e8169",
   "metadata": {
    "ExecuteTime": {
     "end_time": "2022-11-29T11:39:05.424063Z",
     "start_time": "2022-11-29T11:39:05.410020Z"
    }
   },
   "outputs": [],
   "source": [
    "y2_prediction = dtree.predict(X2_test) \n",
    "list(zip(y2_prediction, y2_test));    "
   ]
  },
  {
   "cell_type": "code",
   "execution_count": 96,
   "id": "de980a36",
   "metadata": {
    "ExecuteTime": {
     "end_time": "2022-11-29T11:39:05.439755Z",
     "start_time": "2022-11-29T11:39:05.427253Z"
    }
   },
   "outputs": [
    {
     "data": {
      "text/plain": [
       "array([[24,  0,  0],\n",
       "       [ 0, 11, 13],\n",
       "       [ 0,  9, 43]], dtype=int64)"
      ]
     },
     "execution_count": 96,
     "metadata": {},
     "output_type": "execute_result"
    }
   ],
   "source": [
    "#confusion matrix\n",
    "confusion_matrix(y2_test, y2_prediction) "
   ]
  },
  {
   "cell_type": "code",
   "execution_count": 97,
   "id": "e411b48a",
   "metadata": {
    "ExecuteTime": {
     "end_time": "2022-11-29T11:39:05.471622Z",
     "start_time": "2022-11-29T11:39:05.442513Z"
    }
   },
   "outputs": [
    {
     "name": "stdout",
     "output_type": "stream",
     "text": [
      "              precision    recall  f1-score   support\n",
      "\n",
      "           0       1.00      1.00      1.00        24\n",
      "           1       0.55      0.46      0.50        24\n",
      "           2       0.77      0.83      0.80        52\n",
      "\n",
      "    accuracy                           0.78       100\n",
      "   macro avg       0.77      0.76      0.77       100\n",
      "weighted avg       0.77      0.78      0.77       100\n",
      "\n"
     ]
    }
   ],
   "source": [
    "#Printing the classification report\n",
    "print(classification_report(y2_test, y2_prediction))     \n",
    "#81% accuracy score for predictions\n",
    "#100% for paid off loans and 82% for collection paid off"
   ]
  },
  {
   "cell_type": "markdown",
   "id": "e98a79c1",
   "metadata": {},
   "source": [
    "#### Random Forest Classifier \n"
   ]
  },
  {
   "cell_type": "code",
   "execution_count": 98,
   "id": "d9bf8d84",
   "metadata": {
    "ExecuteTime": {
     "end_time": "2022-11-29T11:39:05.735577Z",
     "start_time": "2022-11-29T11:39:05.473618Z"
    }
   },
   "outputs": [
    {
     "data": {
      "text/html": [
       "<style>#sk-container-id-5 {color: black;background-color: white;}#sk-container-id-5 pre{padding: 0;}#sk-container-id-5 div.sk-toggleable {background-color: white;}#sk-container-id-5 label.sk-toggleable__label {cursor: pointer;display: block;width: 100%;margin-bottom: 0;padding: 0.3em;box-sizing: border-box;text-align: center;}#sk-container-id-5 label.sk-toggleable__label-arrow:before {content: \"▸\";float: left;margin-right: 0.25em;color: #696969;}#sk-container-id-5 label.sk-toggleable__label-arrow:hover:before {color: black;}#sk-container-id-5 div.sk-estimator:hover label.sk-toggleable__label-arrow:before {color: black;}#sk-container-id-5 div.sk-toggleable__content {max-height: 0;max-width: 0;overflow: hidden;text-align: left;background-color: #f0f8ff;}#sk-container-id-5 div.sk-toggleable__content pre {margin: 0.2em;color: black;border-radius: 0.25em;background-color: #f0f8ff;}#sk-container-id-5 input.sk-toggleable__control:checked~div.sk-toggleable__content {max-height: 200px;max-width: 100%;overflow: auto;}#sk-container-id-5 input.sk-toggleable__control:checked~label.sk-toggleable__label-arrow:before {content: \"▾\";}#sk-container-id-5 div.sk-estimator input.sk-toggleable__control:checked~label.sk-toggleable__label {background-color: #d4ebff;}#sk-container-id-5 div.sk-label input.sk-toggleable__control:checked~label.sk-toggleable__label {background-color: #d4ebff;}#sk-container-id-5 input.sk-hidden--visually {border: 0;clip: rect(1px 1px 1px 1px);clip: rect(1px, 1px, 1px, 1px);height: 1px;margin: -1px;overflow: hidden;padding: 0;position: absolute;width: 1px;}#sk-container-id-5 div.sk-estimator {font-family: monospace;background-color: #f0f8ff;border: 1px dotted black;border-radius: 0.25em;box-sizing: border-box;margin-bottom: 0.5em;}#sk-container-id-5 div.sk-estimator:hover {background-color: #d4ebff;}#sk-container-id-5 div.sk-parallel-item::after {content: \"\";width: 100%;border-bottom: 1px solid gray;flex-grow: 1;}#sk-container-id-5 div.sk-label:hover label.sk-toggleable__label {background-color: #d4ebff;}#sk-container-id-5 div.sk-serial::before {content: \"\";position: absolute;border-left: 1px solid gray;box-sizing: border-box;top: 0;bottom: 0;left: 50%;z-index: 0;}#sk-container-id-5 div.sk-serial {display: flex;flex-direction: column;align-items: center;background-color: white;padding-right: 0.2em;padding-left: 0.2em;position: relative;}#sk-container-id-5 div.sk-item {position: relative;z-index: 1;}#sk-container-id-5 div.sk-parallel {display: flex;align-items: stretch;justify-content: center;background-color: white;position: relative;}#sk-container-id-5 div.sk-item::before, #sk-container-id-5 div.sk-parallel-item::before {content: \"\";position: absolute;border-left: 1px solid gray;box-sizing: border-box;top: 0;bottom: 0;left: 50%;z-index: -1;}#sk-container-id-5 div.sk-parallel-item {display: flex;flex-direction: column;z-index: 1;position: relative;background-color: white;}#sk-container-id-5 div.sk-parallel-item:first-child::after {align-self: flex-end;width: 50%;}#sk-container-id-5 div.sk-parallel-item:last-child::after {align-self: flex-start;width: 50%;}#sk-container-id-5 div.sk-parallel-item:only-child::after {width: 0;}#sk-container-id-5 div.sk-dashed-wrapped {border: 1px dashed gray;margin: 0 0.4em 0.5em 0.4em;box-sizing: border-box;padding-bottom: 0.4em;background-color: white;}#sk-container-id-5 div.sk-label label {font-family: monospace;font-weight: bold;display: inline-block;line-height: 1.2em;}#sk-container-id-5 div.sk-label-container {text-align: center;}#sk-container-id-5 div.sk-container {/* jupyter's `normalize.less` sets `[hidden] { display: none; }` but bootstrap.min.css set `[hidden] { display: none !important; }` so we also need the `!important` here to be able to override the default hidden behavior on the sphinx rendered scikit-learn.org. See: https://github.com/scikit-learn/scikit-learn/issues/21755 */display: inline-block !important;position: relative;}#sk-container-id-5 div.sk-text-repr-fallback {display: none;}</style><div id=\"sk-container-id-5\" class=\"sk-top-container\"><div class=\"sk-text-repr-fallback\"><pre>RandomForestClassifier(n_jobs=2, random_state=42)</pre><b>In a Jupyter environment, please rerun this cell to show the HTML representation or trust the notebook. <br />On GitHub, the HTML representation is unable to render, please try loading this page with nbviewer.org.</b></div><div class=\"sk-container\" hidden><div class=\"sk-item\"><div class=\"sk-estimator sk-toggleable\"><input class=\"sk-toggleable__control sk-hidden--visually\" id=\"sk-estimator-id-5\" type=\"checkbox\" checked><label for=\"sk-estimator-id-5\" class=\"sk-toggleable__label sk-toggleable__label-arrow\">RandomForestClassifier</label><div class=\"sk-toggleable__content\"><pre>RandomForestClassifier(n_jobs=2, random_state=42)</pre></div></div></div></div></div>"
      ],
      "text/plain": [
       "RandomForestClassifier(n_jobs=2, random_state=42)"
      ]
     },
     "execution_count": 98,
     "metadata": {},
     "output_type": "execute_result"
    }
   ],
   "source": [
    "# making classifier object\n",
    "rf = RandomForestClassifier(n_jobs=2,random_state=42)\n",
    "# training classifier\n",
    "rf.fit(X2_train,y2_train)   "
   ]
  },
  {
   "cell_type": "code",
   "execution_count": 99,
   "id": "8f6ae6c8",
   "metadata": {
    "ExecuteTime": {
     "end_time": "2022-11-29T11:39:05.780973Z",
     "start_time": "2022-11-29T11:39:05.737762Z"
    }
   },
   "outputs": [],
   "source": [
    "pred_rf = rf.predict(X2_test)\n",
    "list(zip(pred_rf,y2_test));      "
   ]
  },
  {
   "cell_type": "code",
   "execution_count": 100,
   "id": "50816029",
   "metadata": {
    "ExecuteTime": {
     "end_time": "2022-11-29T11:39:05.796557Z",
     "start_time": "2022-11-29T11:39:05.782569Z"
    }
   },
   "outputs": [
    {
     "name": "stdout",
     "output_type": "stream",
     "text": [
      "              precision    recall  f1-score   support\n",
      "\n",
      "           0       1.00      1.00      1.00        24\n",
      "           1       0.75      0.25      0.38        24\n",
      "           2       0.74      0.96      0.83        52\n",
      "\n",
      "    accuracy                           0.80       100\n",
      "   macro avg       0.83      0.74      0.74       100\n",
      "weighted avg       0.80      0.80      0.76       100\n",
      "\n"
     ]
    }
   ],
   "source": [
    "## Evaluating the success of the random forest classifier\n",
    "##Lets look at the performance indexes\n",
    "print(classification_report(y2_test,pred_rf))  \n",
    "#38%-83% - 100% f1-score \n",
    "#80% accuracy"
   ]
  },
  {
   "cell_type": "code",
   "execution_count": 101,
   "id": "9a235884",
   "metadata": {
    "ExecuteTime": {
     "end_time": "2022-11-29T11:39:05.812251Z",
     "start_time": "2022-11-29T11:39:05.798826Z"
    }
   },
   "outputs": [
    {
     "name": "stdout",
     "output_type": "stream",
     "text": [
      "Random Forest Classifier Accuracy Score: 80.0 %\n"
     ]
    }
   ],
   "source": [
    "print('Random Forest Classifier Accuracy Score:', metrics.accuracy_score(y2_test, pred_rf)*100,'%')   \n",
    "#80% accuracy score "
   ]
  },
  {
   "cell_type": "code",
   "execution_count": 102,
   "id": "a4d8ac11",
   "metadata": {
    "ExecuteTime": {
     "end_time": "2022-11-29T11:39:05.827620Z",
     "start_time": "2022-11-29T11:39:05.813765Z"
    }
   },
   "outputs": [
    {
     "data": {
      "text/plain": [
       "array([[24,  0,  0],\n",
       "       [ 0,  6, 18],\n",
       "       [ 0,  2, 50]], dtype=int64)"
      ]
     },
     "execution_count": 102,
     "metadata": {},
     "output_type": "execute_result"
    }
   ],
   "source": [
    "##Looking at the confusion matrix\n",
    "confusion_matrix(y2_test, pred_rf)    "
   ]
  },
  {
   "cell_type": "markdown",
   "id": "41f35843",
   "metadata": {},
   "source": [
    "## Visualising the Machine Learning Predicitons"
   ]
  },
  {
   "cell_type": "code",
   "execution_count": 103,
   "id": "1846e10b",
   "metadata": {
    "ExecuteTime": {
     "end_time": "2022-11-29T11:39:06.438662Z",
     "start_time": "2022-11-29T11:39:05.828606Z"
    }
   },
   "outputs": [
    {
     "name": "stderr",
     "output_type": "stream",
     "text": [
      "C:\\ProgramData\\Anaconda3\\lib\\site-packages\\seaborn\\distributions.py:2619: FutureWarning: `distplot` is a deprecated function and will be removed in a future version. Please adapt your code to use either `displot` (a figure-level function with similar flexibility) or `kdeplot` (an axes-level function for kernel density plots).\n",
      "  warnings.warn(msg, FutureWarning)\n",
      "C:\\ProgramData\\Anaconda3\\lib\\site-packages\\seaborn\\distributions.py:2619: FutureWarning: `distplot` is a deprecated function and will be removed in a future version. Please adapt your code to use either `displot` (a figure-level function with similar flexibility) or `kdeplot` (an axes-level function for kernel density plots).\n",
      "  warnings.warn(msg, FutureWarning)\n"
     ]
    },
    {
     "data": {
      "image/png": "[encoded data removed]",
      "text/plain": [
       "<Figure size 576x576 with 1 Axes>"
      ]
     },
     "metadata": {
      "needs_background": "light"
     },
     "output_type": "display_data"
    }
   ],
   "source": [
    "#KNN ACCURACY IN PREDICTING LOAN REPAYMENT TYPE \n",
    "plt.figure(figsize=(8,8))\n",
    "ax = sns.distplot(y_over, hist=False, color='r', label='Actual Value')\n",
    "sns.distplot(y_pred_knn, hist=False, color='b', label='Fitted Value', ax=ax)  \n",
    "\n",
    "plt.title('KNN - Actual vs Fitted Values for Loan')\n",
    "plt.xlabel('Loan Paid off time')\n",
    "plt.ylabel('Loan Paidoff')\n",
    "\n",
    "plt.show();  "
   ]
  },
  {
   "cell_type": "code",
   "execution_count": 104,
   "id": "fc6787b8",
   "metadata": {
    "ExecuteTime": {
     "end_time": "2022-11-29T11:39:06.952049Z",
     "start_time": "2022-11-29T11:39:06.440344Z"
    }
   },
   "outputs": [
    {
     "name": "stderr",
     "output_type": "stream",
     "text": [
      "C:\\ProgramData\\Anaconda3\\lib\\site-packages\\seaborn\\distributions.py:2619: FutureWarning: `distplot` is a deprecated function and will be removed in a future version. Please adapt your code to use either `displot` (a figure-level function with similar flexibility) or `kdeplot` (an axes-level function for kernel density plots).\n",
      "  warnings.warn(msg, FutureWarning)\n",
      "C:\\ProgramData\\Anaconda3\\lib\\site-packages\\seaborn\\distributions.py:2619: FutureWarning: `distplot` is a deprecated function and will be removed in a future version. Please adapt your code to use either `displot` (a figure-level function with similar flexibility) or `kdeplot` (an axes-level function for kernel density plots).\n",
      "  warnings.warn(msg, FutureWarning)\n"
     ]
    },
    {
     "data": {
      "image/png": "[encoded data removed]",
      "text/plain": [
       "<Figure size 576x576 with 1 Axes>"
      ]
     },
     "metadata": {
      "needs_background": "light"
     },
     "output_type": "display_data"
    }
   ],
   "source": [
    "#Decision Tree Accuracy in predicting loan paidoff type \n",
    "plt.figure(figsize=(8,8))\n",
    "ax1 = sns.distplot(y2_train, hist=False, color='r', label='Actual Value')\n",
    "sns.distplot(y2_prediction, hist=False, color='b', label='Fitted Value', ax=ax1)  \n",
    "\n",
    "plt.title('Decision Tree - Actual vs Fitted Values for Loan')\n",
    "plt.xlabel('Density')\n",
    "plt.ylabel('Loan Paidoff Type')\n",
    "\n",
    "plt.show()  "
   ]
  },
  {
   "cell_type": "code",
   "execution_count": 105,
   "id": "8692b9e4",
   "metadata": {
    "ExecuteTime": {
     "end_time": "2022-11-29T11:39:07.298667Z",
     "start_time": "2022-11-29T11:39:06.953981Z"
    }
   },
   "outputs": [
    {
     "name": "stderr",
     "output_type": "stream",
     "text": [
      "C:\\ProgramData\\Anaconda3\\lib\\site-packages\\seaborn\\distributions.py:2619: FutureWarning: `distplot` is a deprecated function and will be removed in a future version. Please adapt your code to use either `displot` (a figure-level function with similar flexibility) or `kdeplot` (an axes-level function for kernel density plots).\n",
      "  warnings.warn(msg, FutureWarning)\n",
      "C:\\ProgramData\\Anaconda3\\lib\\site-packages\\seaborn\\distributions.py:2619: FutureWarning: `distplot` is a deprecated function and will be removed in a future version. Please adapt your code to use either `displot` (a figure-level function with similar flexibility) or `kdeplot` (an axes-level function for kernel density plots).\n",
      "  warnings.warn(msg, FutureWarning)\n"
     ]
    },
    {
     "data": {
      "image/png": "[encoded data removed]",
      "text/plain": [
       "<Figure size 576x576 with 1 Axes>"
      ]
     },
     "metadata": {
      "needs_background": "light"
     },
     "output_type": "display_data"
    }
   ],
   "source": [
    "#LOGISTIC REGRESSION PLOT\n",
    "plt.figure(figsize=(8,8))\n",
    "ax2 = sns.distplot(y_over, hist=False, color='r', label='Actual Value')\n",
    "sns.distplot(lr_prediction, hist=False, color='b', label='Fitted Value', ax=ax2)  \n",
    "\n",
    "plt.title('Logistic Regression - Actual vs Fitted Values for Loan')\n",
    "plt.xlabel('Density')\n",
    "plt.ylabel('Loan Paidoff Type')\n",
    "\n",
    "plt.show()  \n",
    "##As visualised it shows the best fit - validating the high f1 and accuracy scores for the LR model."
   ]
  },
  {
   "cell_type": "code",
   "execution_count": 106,
   "id": "1dcc25eb",
   "metadata": {
    "ExecuteTime": {
     "end_time": "2022-11-29T11:39:07.314636Z",
     "start_time": "2022-11-29T11:39:07.300947Z"
    }
   },
   "outputs": [
    {
     "name": "stdout",
     "output_type": "stream",
     "text": [
      "KNN r2 Score: 53.51170568561873 %\n"
     ]
    }
   ],
   "source": [
    "#r2 metrics - KN\n",
    "from sklearn.metrics import r2_score\n",
    "print('KNN r2 Score:',r2_score(y_over, y_pred_knn)*100,'%');  \n",
    "#64% r2 score for KNN "
   ]
  },
  {
   "cell_type": "code",
   "execution_count": 107,
   "id": "a4adab6f",
   "metadata": {
    "ExecuteTime": {
     "end_time": "2022-11-29T11:39:07.329629Z",
     "start_time": "2022-11-29T11:39:07.316457Z"
    }
   },
   "outputs": [
    {
     "name": "stdout",
     "output_type": "stream",
     "text": [
      "DT r2 Score: 67.72300469483568 %\n"
     ]
    }
   ],
   "source": [
    "#r2 score for DT\n",
    "from sklearn.metrics import r2_score\n",
    "print('DT r2 Score:',r2_score(y2_test, y2_prediction)*100,'%');   \n",
    "#70.65% r2 score for DT - better fit as not overfitting the data "
   ]
  },
  {
   "cell_type": "code",
   "execution_count": 108,
   "id": "18a1f46b",
   "metadata": {
    "ExecuteTime": {
     "end_time": "2022-11-29T11:39:07.349583Z",
     "start_time": "2022-11-29T11:39:07.332224Z"
    }
   },
   "outputs": [
    {
     "name": "stdout",
     "output_type": "stream",
     "text": [
      "LR r2 Score: 75.16722408026756 %\n"
     ]
    }
   ],
   "source": [
    "#r2 metrics - Logistic Regression\n",
    "from sklearn.metrics import r2_score\n",
    "print('LR r2 Score:',r2_score(y_over, lr_prediction)*100,'%');  \n",
    "#85% r2 score for KNN "
   ]
  },
  {
   "cell_type": "code",
   "execution_count": 109,
   "id": "7d259c1f",
   "metadata": {
    "ExecuteTime": {
     "end_time": "2022-11-29T11:39:07.376341Z",
     "start_time": "2022-11-29T11:39:07.368392Z"
    }
   },
   "outputs": [],
   "source": [
    "#CONCLUSIONS \n",
    "\n",
    "#Overall most people have PAIDOFF loans and the best ML technique is MLR Logistic Regression\n",
    "#KNN had a good score as well with 90% accuracy and around 90% for all prediction f1-scores\n",
    "#LR had the best fit according to the graph plotted of actual vs predicted\n",
    "#In future other factors should be included that affect loan paidoff types such as:\n",
    "#credit history\n",
    "#emplyment history\n",
    "#dependents\n",
    "#marriage status\n",
    "\n",
    "#Upon reviewing the dataset, as it is limited to the months Sept - Dec it is plausable to assume that this dataset is \n",
    "#student loan dataset. Especially given the evidence that the Principal amount (amount borrowed) only goes up to 1000.\n",
    "#Additionally the dataset heavily focuses on the education level - therefore it is safe to assume this loan provider targets\n",
    "#students currently studying / have graduated a few years ago.\n"
   ]
  }
 ],
 "metadata": {
  "kernelspec": {
   "display_name": "Python 3 (ipykernel)",
   "language": "python",
   "name": "python3"
  },
  "language_info": {
   "codemirror_mode": {
    "name": "ipython",
    "version": 3
   },
   "file_extension": ".py",
   "mimetype": "text/x-python",
   "name": "python",
   "nbconvert_exporter": "python",
   "pygments_lexer": "ipython3",
   "version": "3.9.12"
  },
  "varInspector": {
   "cols": {
    "lenName": 16,
    "lenType": 16,
    "lenVar": 40
   },
   "kernels_config": {
    "python": {
     "delete_cmd_postfix": "",
     "delete_cmd_prefix": "del ",
     "library": "var_list.py",
     "varRefreshCmd": "print(var_dic_list())"
    },
    "r": {
     "delete_cmd_postfix": ") ",
     "delete_cmd_prefix": "rm(",
     "library": "var_list.r",
     "varRefreshCmd": "cat(var_dic_list()) "
    }
   },
   "types_to_exclude": [
    "module",
    "function",
    "builtin_function_or_method",
    "instance",
    "_Feature"
   ],
   "window_display": false
  }
 },
 "nbformat": 4,
 "nbformat_minor": 5
}
